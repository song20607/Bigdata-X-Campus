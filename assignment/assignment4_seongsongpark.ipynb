{
 "cells": [
  {
   "cell_type": "code",
   "execution_count": 20,
   "metadata": {},
   "outputs": [
    {
     "name": "stdout",
     "output_type": "stream",
     "text": [
      "Total Simulated percent Expected percent\n",
      "   2        3.000000        2.780000\n",
      "   3        6.300000        5.560000\n",
      "   4        9.000000        8.330000\n",
      "   5        8.700000       11.110000\n",
      "   6       12.900000       13.890000\n",
      "   7       17.700000       16.670000\n",
      "   8       13.500000       13.890000\n",
      "   9       11.200000       11.110000\n",
      "  10        8.100000        8.330000\n",
      "  11        7.200000        5.560000\n",
      "  12        2.400000        2.780000\n"
     ]
    }
   ],
   "source": [
    "#Exercise129\n",
    "\n",
    "import random\n",
    "\n",
    "def rollingdice() :\n",
    "    x= random.randrange(1,7)\n",
    "    y = random.randrange(1,7)\n",
    "    total = x + y\n",
    "    return total\n",
    "\n",
    "dicedict = {2 : 0, 3 :0,4:0,5:0,6:0,7:0,8:0,9:0,10:0,11:0,12:0}\n",
    "expecteddict = {2 : 2.78, 3 :5.56,4:8.33,5:11.11,6:13.89,7:16.67,8:13.89,9:11.11,10:8.33,11:5.56,12:2.78}\n",
    "\n",
    "for i in range(0,1000) :\n",
    "    a = rollingdice()\n",
    "    if a == 2:\n",
    "        dicedict[2]+=1\n",
    "    elif a == 3 :\n",
    "        dicedict[3] +=1\n",
    "    elif a ==4 :\n",
    "        dicedict[4] += 1\n",
    "    elif a == 5 :\n",
    "        dicedict[5] += 1\n",
    "    elif a ==6 :\n",
    "        dicedict[6] += 1\n",
    "    elif a == 7 :\n",
    "        dicedict[7] += 1\n",
    "    elif a == 8 :\n",
    "        dicedict[8] += 1\n",
    "    elif a == 9 :\n",
    "        dicedict[9] += 1\n",
    "    elif a == 10 :\n",
    "        dicedict[10] += 1\n",
    "    elif a == 11 :\n",
    "        dicedict[11] += 1\n",
    "    elif a == 12 :\n",
    "        dicedict[12] += 1\n",
    "    else :\n",
    "        print(\"난수 발생 오류\")\n",
    "        \n",
    "\n",
    "print(\"Total\", \"Simulated percent\", \"Expected percent\")\n",
    "for i in dicedict.keys():\n",
    "    \n",
    "    print(\"%4d %15f %15f\" % (i, float(dicedict[i]/10), expecteddict[i]))\n",
    "    \n",
    "    \n",
    "        \n",
    "    \n",
    "    \n",
    "    \n",
    "    \n",
    "    \n",
    "\n"
   ]
  },
  {
   "cell_type": "code",
   "execution_count": 24,
   "metadata": {},
   "outputs": [
    {
     "name": "stdout",
     "output_type": "stream",
     "text": [
      "문장을 입력하세요dfafwqetet.\n",
      "333323339773383381"
     ]
    }
   ],
   "source": [
    "#Exercise 130\n",
    "\n",
    "\n",
    "a= input(\"문장을 입력하세요\")\n",
    "sen = []\n",
    "sennum = []\n",
    "sen.extend(a)\n",
    "\n",
    "def check (x) :\n",
    "    nummap = {1 : ['.',\"'\",'?','!',':'], 2 : [\"A\",\"B\",\"C\"], 3 : [\"D\",\"E\",\"F\"], 4 :[\"G\",\"H\",\"I\"], 5 : [\"J\",\"K\",\"L\"], 6 : [\"M\",\"N\",\"O\"], 7: [\"P\",\"Q\",\"R\",\"S\"], 8:[\"T\",\"U\",\"V\"],9:[\"W\",\"X\",\"Y\",\"Z\"], 0: [\" \"]}\n",
    "    keylist = list(nummap.keys())\n",
    "    valuelist = list(nummap.values())\n",
    "    for i in range(0,len(keylist)) :\n",
    "        for j in range(0,len(valuelist[i])):\n",
    "            if x == valuelist[i][j] :\n",
    "                return [i,j]\n",
    "        \n",
    "        \n",
    "\n",
    "\n",
    "for i in range (0,len(sen)) :\n",
    "    sen[i] = sen[i].upper()\n",
    "    \n",
    "    \n",
    "for i in range (0, len(sen)) :\n",
    "    checkresult= check(sen[i])\n",
    "    sennum.append(checkresult)\n",
    "\n",
    "\n",
    "for i in range(0,len(sennum)):\n",
    "    print(str(sennum[i][0]+1)*(sennum[i][1]+1),end = \"\")\n",
    "\n",
    "\n",
    "\n"
   ]
  },
  {
   "cell_type": "code",
   "execution_count": 53,
   "metadata": {},
   "outputs": [
    {
     "name": "stdout",
     "output_type": "stream",
     "text": [
      "문장을 입력하세요@@@\n",
      "숫자와 문자만 입력하세요\n"
     ]
    }
   ],
   "source": [
    "# Exercise 131\n",
    "\n",
    "morse ={'A': \".-\",\n",
    "        \"B\" : \"-...\", \n",
    "        \"C\" : \"-.-.\", \n",
    "        \"D\" : \"-..\", \n",
    "        \"E\":\".\",\n",
    "        \"F\":\"..-.\",\n",
    "        \"G\":\"--.\",\n",
    "        \"H\":\"....\",\n",
    "        \"I\":\"..\",\n",
    "        \"J\":\".---\",\n",
    "        \"K\":\"-.-\",\n",
    "        \"L \": \".-..\",\n",
    "        \"M\":\"--\",\n",
    "        \"N\":\"-.\",\n",
    "        \"O\":\"---\",\n",
    "        \"P\":\".--.\",\n",
    "        \"Q\":\"--.-\",\n",
    "        \"R\":\".-.\",\n",
    "        \"S\":\"...\",\n",
    "        \"T\":\"-\",\n",
    "        \"U\":\"..-\",\n",
    "        \"V\":\"...-\",\n",
    "        \"W\":\".--\",\n",
    "        \"X\":\"-..-\",\n",
    "        \"Y\":\"-.--\",\n",
    "        \"Z\":\"--..\",\n",
    "        \"0\":\"-----\",\n",
    "        \"1\":\".----\",\n",
    "        \"2\":\"..---\",\n",
    "        \"3\":\"...--\",\n",
    "        \"4\":\"....-\",\n",
    "        \"5\":\".....\",\n",
    "        \"6\":\"-....\",\n",
    "        \"7\":\"--...\",\n",
    "        \"8\":\"---..\",\n",
    "        \"9\":\"----.\"}\n",
    "\n",
    "sen = []\n",
    "morseli = []\n",
    "a= input(\"문장을 입력하세요\")\n",
    "sen.extend(a)\n",
    "\n",
    "\n",
    "for i in sen :\n",
    "    if i.upper() in morse.keys():\n",
    "        for j in morse.keys():\n",
    "            if i.upper() == j :\n",
    "                morseli.append(morse[j])\n",
    "                #print(morseli)\n",
    "    else :\n",
    "        print(\"숫자와 문자만 입력하세요\")\n",
    "        break;\n",
    "\n",
    "for j in range(0,len(morseli)):\n",
    "    print(morseli[j] , end =\"\")\n",
    "    \n",
    "            \n",
    "            \n",
    "\n"
   ]
  },
  {
   "cell_type": "code",
   "execution_count": 60,
   "metadata": {},
   "outputs": [
    {
     "name": "stdout",
     "output_type": "stream",
     "text": [
      "우편번호를 입력하세요fasfa\n",
      "wrong postal number\n"
     ]
    }
   ],
   "source": [
    "#Exercise 132\n",
    "\n",
    "postalcodedict = {\"A\" : \"Newfoundland\", \" B\" :\"Nova Scotial\", \"C\" : \"Prince Edward Island\", \"E\" : \"New Brunswick\",\"G\" : \"Quebec\",\"H\":\"Quebec\",\"J\":\"Quebec\", \"K\":\"Ontario\",\"L\":\"Ontario\",\"M\":\"Ontario\",\"N\":\"Ontario\",\"P\":\"Ontario\", \"R\":\"Manitoba\",\"S\":\"Saskatchewan\",\"T\":\"Alberta\",\"V\":\"British Columbia\",\"X\":\"Nunavut or Northwest Territories\",\"Y\":\"Yukon\"}\n",
    "postalcodeli = []\n",
    "a = input(\"우편번호를 입력하세요\")\n",
    "postalcodeli.extend(a)\n",
    "\n",
    "for i in postalcodedict.keys():\n",
    "    if postalcodeli[0] == i :\n",
    "        print(postalcodedict[i])\n",
    "        if postalcodeli[1] == 0 :\n",
    "            print(\"rural\")\n",
    "        else :\n",
    "            print(\"urban\")\n",
    "    else :\n",
    "        print(\"wrong postal number\")\n",
    "        break;"
   ]
  },
  {
   "cell_type": "code",
   "execution_count": null,
   "metadata": {},
   "outputs": [],
   "source": []
  }
 ],
 "metadata": {
  "kernelspec": {
   "display_name": "Python 3",
   "language": "python",
   "name": "python3"
  },
  "language_info": {
   "codemirror_mode": {
    "name": "ipython",
    "version": 3
   },
   "file_extension": ".py",
   "mimetype": "text/x-python",
   "name": "python",
   "nbconvert_exporter": "python",
   "pygments_lexer": "ipython3",
   "version": "3.6.4"
  }
 },
 "nbformat": 4,
 "nbformat_minor": 2
}
