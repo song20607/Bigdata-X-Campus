{
 "cells": [
  {
   "cell_type": "code",
   "execution_count": 4,
   "metadata": {},
   "outputs": [
    {
     "data": {
      "text/plain": [
       "21.75"
      ]
     },
     "execution_count": 4,
     "metadata": {},
     "output_type": "execute_result"
    }
   ],
   "source": [
    "#Exercise 82 \n",
    "\n",
    "def TaxiFare(a) :\n",
    "    base_fare = 4\n",
    "    distance_fare = 0.25\n",
    "    total_fare = 1000*a//140*distance_fare +base_fare\n",
    "    return total_fare\n",
    "\n",
    "TaxiFare(10)\n"
   ]
  },
  {
   "cell_type": "code",
   "execution_count": 8,
   "metadata": {},
   "outputs": [
    {
     "name": "stdout",
     "output_type": "stream",
     "text": [
      "숫자를 입력하세요1\n",
      "숫자를 입력하세요5\n",
      "숫자를 입력하세요ㄴ\n",
      "잘 못 입력!\n",
      "\n"
     ]
    }
   ],
   "source": [
    "#Exercise 84\n",
    "\n",
    "def MedianofThree(x,y,z):\n",
    "    num_list = [x,y,z]\n",
    "    num_list.sort()\n",
    "    return num_list[1]\n",
    "\n",
    "num_l = []\n",
    "for i in range(3):\n",
    "    try :\n",
    "        a = int(input(\"숫자를 입력하세요\"))\n",
    "    except:\n",
    "        print(\"잘 못 입력!\")\n",
    "        break;\n",
    "    num_l.append(a)\n",
    "    \n",
    "    \n",
    "try :\n",
    "    MedianofThree(num_l[0],num_l[1],num_l[2])\n",
    "except :\n",
    "    print(\"\")\n",
    "\n",
    "    \n",
    "\n",
    "\n"
   ]
  },
  {
   "cell_type": "code",
   "execution_count": 17,
   "metadata": {},
   "outputs": [
    {
     "name": "stdout",
     "output_type": "stream",
     "text": [
      "[(1, 'first'), (2, 'second'), (3, 'third'), (4, 'fourth'), (5, 'fifth'), (6, 'sixth'), (7, 'seventh'), (8, 'eighth'), (9, 'ninth'), (10, 'tenth'), (11, 'eleventh'), (12, 'tweleveth')]\n"
     ]
    }
   ],
   "source": [
    "#Exercise 85\n",
    "\n",
    "def inttoword (x):\n",
    "    if x == 1 :\n",
    "        return 'first'\n",
    "    elif x == 2 :\n",
    "        return 'second'\n",
    "    elif x == 3 :\n",
    "        return 'third'\n",
    "    elif x == 4 :\n",
    "        return 'fourth'\n",
    "    elif x == 5 :\n",
    "        return 'fifth'\n",
    "    elif x == 6 :\n",
    "        return 'sixth'\n",
    "    elif x == 7 :\n",
    "        return 'seventh'\n",
    "    elif x == 8 :\n",
    "        return 'eighth'\n",
    "    elif x == 9 :\n",
    "        return 'ninth'\n",
    "    elif x == 10 :\n",
    "        return 'tenth'\n",
    "    elif x == 11 :\n",
    "        return 'eleventh'\n",
    "    elif x == 12 :\n",
    "        return 'tweleveth'\n",
    "    else :\n",
    "        return \" \"\n",
    "    \n",
    "word = list(map(inttoword,range(1,13)))\n",
    "a = [(x,word[x-1]) for x in range(1,13)]\n",
    "print(a)\n",
    "\n",
    "    "
   ]
  },
  {
   "cell_type": "code",
   "execution_count": 22,
   "metadata": {},
   "outputs": [
    {
     "name": "stdout",
     "output_type": "stream",
     "text": [
      "한변의 길이를 입력하세요2\n",
      "한변의 길이를 입력하세요2\n",
      "한변의 길이를 입력하세요6\n",
      "invalid triangle\n"
     ]
    }
   ],
   "source": [
    "#Exercise 88\n",
    "\n",
    "def valid_triangle(x,y,z):\n",
    "    if x+y>=z and x+z>=y and y+z>=x :\n",
    "        print(\"valid triangle\")\n",
    "        return 1\n",
    "    else:\n",
    "        print(\"invalid triangle\")\n",
    "        return -1 \n",
    "    \n",
    "triangle=[]\n",
    "for i in range(3):\n",
    "    try :\n",
    "        a = int(input (\"한변의 길이를 입력하세요\"))\n",
    "        triangle.append(a)\n",
    "    except :\n",
    "        printf(\"숫자를 입력하세요\")\n",
    "        break;\n",
    "try :\n",
    "    valid_triangle(triangle[0],triangle[1],triangle[2])\n",
    "except :\n",
    "    print(\"\")\n"
   ]
  },
  {
   "cell_type": "code",
   "execution_count": 55,
   "metadata": {},
   "outputs": [
    {
     "name": "stdout",
     "output_type": "stream",
     "text": [
      "숫자를 입력하세요9\n",
      "it's not prime number\n"
     ]
    }
   ],
   "source": [
    "# Exercise 92\n",
    "\n",
    "def primenumber(a):\n",
    "    for i in range(2,a):\n",
    "        if a % i == 0 :\n",
    "           # print(\"not prime number\")\n",
    "            return False\n",
    "            \n",
    "        else :\n",
    "            pass\n",
    "            #print(\"prime number\")\n",
    "    return True\n",
    "        \n",
    "\n",
    "try :\n",
    "    a = int(input(\"숫자를 입력하세요\"))\n",
    "except :\n",
    "    print(\"숫자를 입력하세요\")\n",
    "\n",
    "if primenumber(a):\n",
    "    print(\"prime number\")\n",
    "else :\n",
    "    print(\"it's not prime number\")\n"
   ]
  },
  {
   "cell_type": "code",
   "execution_count": 57,
   "metadata": {},
   "outputs": [
    {
     "name": "stdout",
     "output_type": "stream",
     "text": [
      "문장을 입력하세요what\n",
      "What"
     ]
    }
   ],
   "source": [
    "# Exercise 89\n",
    "\n",
    "def capitalize() :\n",
    "    calist=[]\n",
    "    a = input(\"문장을 입력하세요\") \n",
    "    calist.extend(a)\n",
    "    \n",
    "    calist[0]=calist[0].upper()\n",
    "    \n",
    "    for i in range(1,len(calist)-1):\n",
    "        if calist[i] == '\"':\n",
    "            if calist[i+1]:\n",
    "                calist[i+1]=calist[i+1].upper()\n",
    "        elif calist[i] == \"?\":\n",
    "             if calist[i+1]:\n",
    "                calist[i+1]=calist[i+1].upper()\n",
    "        elif calist[i] == \"!\":\n",
    "             if calist[i+1]:\n",
    "               calist[i+1]=calist[i+1].upper()\n",
    "        elif calist[i] == \".\":\n",
    "             if calist[i+1]:\n",
    "                calist[i+1]=calist[i+1].upper()\n",
    "        elif calist[i] == 'i':\n",
    "            if i>2:\n",
    "                if calist[i-1] == calist[i+1] == \" \":\n",
    "                    calist[i]=calist[i].upper()\n",
    "            else :\n",
    "                pass\n",
    "        else :\n",
    "            pass\n",
    "    for i in range(0, len(calist)):\n",
    "        print(calist[i], end=\"\")\n",
    "        \n",
    "\n",
    "capitalize()"
   ]
  },
  {
   "cell_type": "code",
   "execution_count": 58,
   "metadata": {},
   "outputs": [
    {
     "name": "stdout",
     "output_type": "stream",
     "text": [
      "next prime number is 11\n"
     ]
    }
   ],
   "source": [
    "# Exercise 93\n",
    "\n",
    "def nextPrime(n):\n",
    "    primen = n+1\n",
    "    while True:\n",
    "        if primenumber(primen) :\n",
    "            print(\"next prime number is %d\" % primen)\n",
    "            break;\n",
    "        else :\n",
    "            primen += 1\n",
    "        \n",
    "nextPrime(8)"
   ]
  },
  {
   "cell_type": "code",
   "execution_count": 36,
   "metadata": {},
   "outputs": [
    {
     "data": {
      "text/plain": [
       "['a', 'b', 'c', 'd']"
      ]
     },
     "execution_count": 36,
     "metadata": {},
     "output_type": "execute_result"
    }
   ],
   "source": [
    "a"
   ]
  },
  {
   "cell_type": "code",
   "execution_count": null,
   "metadata": {},
   "outputs": [],
   "source": []
  }
 ],
 "metadata": {
  "kernelspec": {
   "display_name": "Python 3",
   "language": "python",
   "name": "python3"
  },
  "language_info": {
   "codemirror_mode": {
    "name": "ipython",
    "version": 3
   },
   "file_extension": ".py",
   "mimetype": "text/x-python",
   "name": "python",
   "nbconvert_exporter": "python",
   "pygments_lexer": "ipython3",
   "version": "3.6.4"
  }
 },
 "nbformat": 4,
 "nbformat_minor": 2
}
