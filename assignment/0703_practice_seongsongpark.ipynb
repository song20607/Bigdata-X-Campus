{
 "cells": [
  {
   "cell_type": "code",
   "execution_count": 10,
   "metadata": {},
   "outputs": [
    {
     "name": "stdout",
     "output_type": "stream",
     "text": [
      "숫자를 입력하세요1\n",
      "숫자를 입력하세요2\n",
      "숫자를 입력하세요3\n",
      "숫자를 입력하세요4\n",
      "숫자를 입력하세요5\n",
      "숫자를 입력하세요6\n",
      "숫자를 입력하세요7\n",
      "숫자를 입력하세요8\n",
      "숫자를 입력하세요9\n",
      "숫자를 입력하세요0\n",
      "0\n",
      "9\n",
      "8\n",
      "7\n",
      "6\n",
      "5\n",
      "4\n",
      "3\n",
      "2\n",
      "1\n"
     ]
    }
   ],
   "source": [
    "## Exercise 10.5\n",
    "a = -1\n",
    "b= []\n",
    "while a!= 0:\n",
    "    a = int(input(\"숫자를 입력하세요\"))\n",
    "    b.append(a)\n",
    "    \n",
    "b.reverse()\n",
    "for i in range(0,len(b)):\n",
    "    print(b[i])"
   ]
  },
  {
   "cell_type": "code",
   "execution_count": 6,
   "metadata": {},
   "outputs": [
    {
     "name": "stdout",
     "output_type": "stream",
     "text": [
      "단어를 입력하세요dsfs\n",
      "단어를 입력하세요ewrew\n",
      "단어를 입력하세요twetwewe\n",
      "단어를 입력하세요\n",
      "dsfs\n",
      "ewrew\n",
      "twetwewe\n"
     ]
    }
   ],
   "source": [
    "# Exercise  107\n",
    "b = []\n",
    "while True:\n",
    "    a = input(\"단어를 입력하세요\")\n",
    "    if a :\n",
    "        if a in b:\n",
    "            pass\n",
    "\n",
    "        else :\n",
    "            b.append(a)\n",
    "            \n",
    "    else :\n",
    "        for i in range(0,len(b)):\n",
    "                print(b[i])\n",
    "        break;\n",
    "                \n"
   ]
  },
  {
   "cell_type": "code",
   "execution_count": 2,
   "metadata": {},
   "outputs": [
    {
     "name": "stdout",
     "output_type": "stream",
     "text": [
      "숫자를 입력하세요-1\n",
      "숫자를 입력하세요-2\n",
      "숫자를 입력하세요3\n",
      "숫자를 입력하세요\n",
      "-1\n",
      "-2\n",
      "3\n"
     ]
    }
   ],
   "source": [
    "# Exercise 108\n",
    "b=[]\n",
    "while True:\n",
    "    a= input(\"숫자를 입력하세요\")\n",
    "    if a :\n",
    "        b.append(a)\n",
    "    else :\n",
    "        b.sort()\n",
    "        for i in range(0,len(b)) :\n",
    "            print(b[i])\n",
    "        break"
   ]
  },
  {
   "cell_type": "code",
   "execution_count": 5,
   "metadata": {},
   "outputs": [
    {
     "name": "stdout",
     "output_type": "stream",
     "text": [
      "perfect number!\n",
      "6\n",
      "perfect number!\n",
      "28\n",
      "perfect number!\n",
      "496\n",
      "perfect number!\n",
      "8128\n"
     ]
    }
   ],
   "source": [
    "# Exercise 110\n",
    "\n",
    "def perfect_number(a) : \n",
    "    divisors=[]\n",
    "    sum_di = 0\n",
    "    for i in range(1,a) :\n",
    "        if a % i == 0 :\n",
    "            divisors.append(i)\n",
    "    for i in range(0,len(divisors)) :\n",
    "        sum_di += divisors[i]\n",
    "        \n",
    "    if sum_di == a :\n",
    "        print(\"perfect number!\")\n",
    "        return 1\n",
    "    else :\n",
    "        return -1\n",
    "\n",
    "    \n",
    "for i in range(1,10000) :\n",
    "    if perfect_number(i) == 1 :\n",
    "        print(i)\n",
    "    else :\n",
    "        pass     \n",
    "      \n",
    "      \n",
    "        \n",
    "    "
   ]
  },
  {
   "cell_type": "code",
   "execution_count": 19,
   "metadata": {},
   "outputs": [
    {
     "name": "stdout",
     "output_type": "stream",
     "text": [
      "Banana, apple,  and orange\n"
     ]
    }
   ],
   "source": [
    "# Exercise 113\n",
    "\n",
    "def FormattingList(x):\n",
    "    if len(x) > 2:\n",
    "        for i in range(0,len(x)-1):\n",
    "            print(x[i],end='')\n",
    "            print(', ', end='')\n",
    "        print( ' and ', end = '')\n",
    "        print(x[len(x)-1])\n",
    "    elif len(x) == 2 :\n",
    "        print(x[0], end = '')\n",
    "        print(' and ', end = '')\n",
    "        print(x[1])\n",
    "    else :\n",
    "        print(x[0])\n",
    "        \n",
    "\n",
    "FormattingList(['Banana','apple','orange'])"
   ]
  },
  {
   "cell_type": "code",
   "execution_count": null,
   "metadata": {},
   "outputs": [],
   "source": []
  }
 ],
 "metadata": {
  "kernelspec": {
   "display_name": "Python 3",
   "language": "python",
   "name": "python3"
  },
  "language_info": {
   "codemirror_mode": {
    "name": "ipython",
    "version": 3
   },
   "file_extension": ".py",
   "mimetype": "text/x-python",
   "name": "python",
   "nbconvert_exporter": "python",
   "pygments_lexer": "ipython3",
   "version": "3.6.4"
  }
 },
 "nbformat": 4,
 "nbformat_minor": 2
}
