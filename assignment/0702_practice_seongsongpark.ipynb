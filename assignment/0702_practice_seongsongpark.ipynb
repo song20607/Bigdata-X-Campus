{
 "cells": [
  {
   "cell_type": "markdown",
   "metadata": {},
   "source": [
    "## 박성송_ 비전공자 반"
   ]
  },
  {
   "cell_type": "markdown",
   "metadata": {},
   "source": [
    "#### 프로그램\n",
    "\n",
    "- 자연어 처리 : 인공지능 스피커(특히 한글) - 강화학습? \n",
    "- 추천 시스템 \n",
    "- 지하철 성범죄 / 행상인 예측, 예방\n",
    "- 아이들의 성격유형/ 행동방식에 따른 진로 추천 프로그램\n",
    "- 정신 질환 진단/ 정신 질환 발병률 예측\n",
    "\n",
    "\n"
   ]
  },
  {
   "cell_type": "markdown",
   "metadata": {},
   "source": [
    "#### big data X campus에서 진행해줬으면 하는 방향\n",
    "\n",
    "- 너무 얕고 넓게 가르치기 보다는 취업에 현실적으로 도움이 될 수 있도록, 어떤 분야와 관련된 능력을 확실히 향상시킬 수 있는 기회를 제공하고, 이를 도와주셨으면 좋겠습니다.\n",
    "- 아파치 프로그램들 자세히 배우고 싶습니다.\n",
    "- 실습 위주의 학습 좋아요."
   ]
  },
  {
   "cell_type": "code",
   "execution_count": null,
   "metadata": {},
   "outputs": [],
   "source": []
  }
 ],
 "metadata": {
  "kernelspec": {
   "display_name": "Python 3",
   "language": "python",
   "name": "python3"
  },
  "language_info": {
   "codemirror_mode": {
    "name": "ipython",
    "version": 3
   },
   "file_extension": ".py",
   "mimetype": "text/x-python",
   "name": "python",
   "nbconvert_exporter": "python",
   "pygments_lexer": "ipython3",
   "version": "3.6.4"
  }
 },
 "nbformat": 4,
 "nbformat_minor": 2
}
