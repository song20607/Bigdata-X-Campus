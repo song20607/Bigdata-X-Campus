{
 "cells": [
  {
   "cell_type": "code",
   "execution_count": 1,
   "metadata": {},
   "outputs": [],
   "source": [
    "import sqlite3"
   ]
  },
  {
   "cell_type": "code",
   "execution_count": 2,
   "metadata": {},
   "outputs": [],
   "source": [
    "import sqlalchemy"
   ]
  },
  {
   "cell_type": "code",
   "execution_count": 3,
   "metadata": {},
   "outputs": [],
   "source": [
    "from sqlalchemy import *"
   ]
  },
  {
   "cell_type": "code",
   "execution_count": 4,
   "metadata": {},
   "outputs": [],
   "source": [
    "from sqlalchemy import create_engine"
   ]
  },
  {
   "cell_type": "code",
   "execution_count": 5,
   "metadata": {},
   "outputs": [],
   "source": [
    "engine = create_engine(\"sqlite://\",echo = True)"
   ]
  },
  {
   "cell_type": "code",
   "execution_count": 6,
   "metadata": {},
   "outputs": [],
   "source": [
    "from sqlalchemy.ext.declarative import declarative_base"
   ]
  },
  {
   "cell_type": "code",
   "execution_count": 7,
   "metadata": {},
   "outputs": [],
   "source": [
    "Base = declarative_base()"
   ]
  },
  {
   "cell_type": "code",
   "execution_count": 8,
   "metadata": {},
   "outputs": [],
   "source": [
    "from sqlalchemy import all_"
   ]
  },
  {
   "cell_type": "code",
   "execution_count": 9,
   "metadata": {},
   "outputs": [],
   "source": [
    "class User(Base):\n",
    "    __tablename__ = \"user\"\n",
    "    \n",
    "    id = Column(Integer, primary_key = True)\n",
    "    name = Column(String)\n",
    "    fullname = Column(String)\n",
    "    password = Column(\"passwd\",String)\n",
    "    "
   ]
  },
  {
   "cell_type": "code",
   "execution_count": 10,
   "metadata": {},
   "outputs": [
    {
     "data": {
      "text/plain": [
       "Table('user', MetaData(bind=None), Column('id', Integer(), table=<user>, primary_key=True, nullable=False), Column('name', String(), table=<user>), Column('fullname', String(), table=<user>), Column('passwd', String(), table=<user>), schema=None)"
      ]
     },
     "execution_count": 10,
     "metadata": {},
     "output_type": "execute_result"
    }
   ],
   "source": [
    "User.__table__"
   ]
  },
  {
   "cell_type": "code",
   "execution_count": 11,
   "metadata": {},
   "outputs": [
    {
     "name": "stdout",
     "output_type": "stream",
     "text": [
      "2018-07-10 17:23:13,565 INFO sqlalchemy.engine.base.Engine SELECT CAST('test plain returns' AS VARCHAR(60)) AS anon_1\n",
      "2018-07-10 17:23:13,572 INFO sqlalchemy.engine.base.Engine ()\n",
      "2018-07-10 17:23:13,576 INFO sqlalchemy.engine.base.Engine SELECT CAST('test unicode returns' AS VARCHAR(60)) AS anon_1\n",
      "2018-07-10 17:23:13,579 INFO sqlalchemy.engine.base.Engine ()\n",
      "2018-07-10 17:23:13,586 INFO sqlalchemy.engine.base.Engine PRAGMA table_info(\"user\")\n",
      "2018-07-10 17:23:13,588 INFO sqlalchemy.engine.base.Engine ()\n",
      "2018-07-10 17:23:13,593 INFO sqlalchemy.engine.base.Engine \n",
      "CREATE TABLE user (\n",
      "\tid INTEGER NOT NULL, \n",
      "\tname VARCHAR, \n",
      "\tfullname VARCHAR, \n",
      "\tpasswd VARCHAR, \n",
      "\tPRIMARY KEY (id)\n",
      ")\n",
      "\n",
      "\n",
      "2018-07-10 17:23:13,594 INFO sqlalchemy.engine.base.Engine ()\n",
      "2018-07-10 17:23:13,596 INFO sqlalchemy.engine.base.Engine COMMIT\n"
     ]
    }
   ],
   "source": [
    "Base.metadata.create_all(engine)"
   ]
  },
  {
   "cell_type": "code",
   "execution_count": 12,
   "metadata": {},
   "outputs": [
    {
     "name": "stdout",
     "output_type": "stream",
     "text": [
      "<__main__.User object at 0x00000271EEB41B00>\n",
      "None\n"
     ]
    }
   ],
   "source": [
    "Kim = User(name = \"kin\", fullname = \"anonymous, kim\", password = \"kimbap heaven\")\n",
    "print(Kim)\n",
    "print(Kim.id)"
   ]
  },
  {
   "cell_type": "code",
   "execution_count": 13,
   "metadata": {},
   "outputs": [],
   "source": [
    "from sqlalchemy.orm import sessionmaker\n",
    "\n",
    "Session = sessionmaker(bind=engine)\n",
    "session = Session()"
   ]
  },
  {
   "cell_type": "code",
   "execution_count": 15,
   "metadata": {},
   "outputs": [],
   "source": [
    "session.add(Kim)"
   ]
  },
  {
   "cell_type": "code",
   "execution_count": 16,
   "metadata": {},
   "outputs": [],
   "source": [
    "session. add_all([\n",
    "    User(name=\"lee\",fullname=\"unknown, Lee\", password = \"123456789\")\n",
    "])"
   ]
  },
  {
   "cell_type": "code",
   "execution_count": 17,
   "metadata": {},
   "outputs": [
    {
     "data": {
      "text/plain": [
       "<sqlalchemy.orm.session.Session at 0x271eeb41940>"
      ]
     },
     "execution_count": 17,
     "metadata": {},
     "output_type": "execute_result"
    }
   ],
   "source": [
    "session"
   ]
  },
  {
   "cell_type": "code",
   "execution_count": 18,
   "metadata": {},
   "outputs": [
    {
     "data": {
      "text/plain": [
       "IdentitySet([])"
      ]
     },
     "execution_count": 18,
     "metadata": {},
     "output_type": "execute_result"
    }
   ],
   "source": [
    "session.dirty"
   ]
  },
  {
   "cell_type": "code",
   "execution_count": 19,
   "metadata": {},
   "outputs": [],
   "source": [
    "Kim.password = \"password\""
   ]
  },
  {
   "cell_type": "code",
   "execution_count": 20,
   "metadata": {},
   "outputs": [
    {
     "data": {
      "text/plain": [
       "IdentitySet([])"
      ]
     },
     "execution_count": 20,
     "metadata": {},
     "output_type": "execute_result"
    }
   ],
   "source": [
    "session.dirty"
   ]
  },
  {
   "cell_type": "code",
   "execution_count": 21,
   "metadata": {},
   "outputs": [
    {
     "data": {
      "text/plain": [
       "True"
      ]
     },
     "execution_count": 21,
     "metadata": {},
     "output_type": "execute_result"
    }
   ],
   "source": [
    "session.is_modified(Kim)"
   ]
  },
  {
   "cell_type": "code",
   "execution_count": 22,
   "metadata": {},
   "outputs": [
    {
     "name": "stdout",
     "output_type": "stream",
     "text": [
      "2018-07-10 17:26:25,075 INFO sqlalchemy.engine.base.Engine BEGIN (implicit)\n",
      "2018-07-10 17:26:25,079 INFO sqlalchemy.engine.base.Engine INSERT INTO user (name, fullname, passwd) VALUES (?, ?, ?)\n",
      "2018-07-10 17:26:25,081 INFO sqlalchemy.engine.base.Engine ('kin', 'anonymous, kim', 'password')\n",
      "2018-07-10 17:26:25,084 INFO sqlalchemy.engine.base.Engine INSERT INTO user (name, fullname, passwd) VALUES (?, ?, ?)\n",
      "2018-07-10 17:26:25,086 INFO sqlalchemy.engine.base.Engine ('lee', 'unknown, Lee', '123456789')\n",
      "2018-07-10 17:26:25,088 INFO sqlalchemy.engine.base.Engine COMMIT\n"
     ]
    }
   ],
   "source": [
    "session.commit()"
   ]
  },
  {
   "cell_type": "code",
   "execution_count": 23,
   "metadata": {},
   "outputs": [
    {
     "name": "stdout",
     "output_type": "stream",
     "text": [
      "2018-07-10 17:27:10,160 INFO sqlalchemy.engine.base.Engine BEGIN (implicit)\n",
      "2018-07-10 17:27:10,163 INFO sqlalchemy.engine.base.Engine SELECT user.passwd AS user_passwd, user.id AS user_id, user.name AS user_name, user.fullname AS user_fullname \n",
      "FROM user\n",
      "2018-07-10 17:27:10,164 INFO sqlalchemy.engine.base.Engine ()\n",
      "<class '__main__.User'>\n",
      "1 kin anonymous, kim password\n",
      "<class '__main__.User'>\n",
      "2 lee unknown, Lee 123456789\n"
     ]
    }
   ],
   "source": [
    "for row in session.query(User):\n",
    "    print(type(row))\n",
    "    print(row.id, row.name, row.fullname, row.password)"
   ]
  },
  {
   "cell_type": "code",
   "execution_count": 24,
   "metadata": {},
   "outputs": [
    {
     "name": "stdout",
     "output_type": "stream",
     "text": [
      "2018-07-10 17:32:30,195 INFO sqlalchemy.engine.base.Engine SELECT user.id AS user_id, user.fullname AS user_fullname \n",
      "FROM user \n",
      "WHERE user.name = ?\n",
      "2018-07-10 17:32:30,197 INFO sqlalchemy.engine.base.Engine ('lee',)\n",
      "<class 'sqlalchemy.util._collections.result'>\n",
      "2 unknown, Lee\n"
     ]
    }
   ],
   "source": [
    "for row in session.query(User.id, User.fullname).filter(User.name == \"lee\"):\n",
    "    print(type(row))\n",
    "    print(row.id, row.fullname)"
   ]
  },
  {
   "cell_type": "code",
   "execution_count": null,
   "metadata": {},
   "outputs": [],
   "source": []
  }
 ],
 "metadata": {
  "kernelspec": {
   "display_name": "Python 3",
   "language": "python",
   "name": "python3"
  },
  "language_info": {
   "codemirror_mode": {
    "name": "ipython",
    "version": 3
   },
   "file_extension": ".py",
   "mimetype": "text/x-python",
   "name": "python",
   "nbconvert_exporter": "python",
   "pygments_lexer": "ipython3",
   "version": "3.6.4"
  }
 },
 "nbformat": 4,
 "nbformat_minor": 2
}
