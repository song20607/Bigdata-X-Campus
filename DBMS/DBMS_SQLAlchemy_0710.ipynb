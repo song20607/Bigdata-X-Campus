{
 "cells": [
  {
   "cell_type": "code",
   "execution_count": 1,
   "metadata": {},
   "outputs": [
    {
     "name": "stdout",
     "output_type": "stream",
     "text": [
      "alabaster (0.7.10)\n",
      "anaconda-client (1.6.9)\n",
      "anaconda-navigator (1.7.0)\n",
      "anaconda-project (0.8.2)\n",
      "asn1crypto (0.24.0)\n",
      "astroid (1.6.1)\n",
      "astropy (2.0.3)\n",
      "attrs (17.4.0)\n",
      "Babel (2.5.3)\n",
      "backports.shutil-get-terminal-size (1.0.0)\n",
      "beautifulsoup4 (4.6.0)\n",
      "bitarray (0.8.1)\n",
      "bkcharts (0.2)\n",
      "blaze (0.11.3)\n",
      "bleach (2.1.2)\n",
      "bokeh (0.12.13)\n",
      "boto (2.48.0)\n",
      "Bottleneck (1.2.1)\n",
      "certifi (2018.1.18)\n",
      "cffi (1.11.4)\n",
      "chardet (3.0.4)\n",
      "click (6.7)\n",
      "cloudpickle (0.5.2)\n",
      "clyent (1.2.2)\n",
      "colorama (0.3.9)\n",
      "comtypes (1.1.4)\n",
      "conda (4.4.10)\n",
      "conda-build (3.4.1)\n",
      "conda-verify (2.0.0)\n",
      "contextlib2 (0.5.5)\n",
      "cryptography (2.1.4)\n",
      "cycler (0.10.0)\n",
      "Cython (0.27.3)\n",
      "cytoolz (0.9.0)\n",
      "dask (0.16.1)\n",
      "datashape (0.5.4)\n",
      "decorator (4.2.1)\n",
      "distributed (1.20.2)\n",
      "docutils (0.14)\n",
      "entrypoints (0.2.3)\n",
      "et-xmlfile (1.0.1)\n",
      "fastcache (1.0.2)\n",
      "filelock (2.0.13)\n",
      "Flask (0.12.2)\n",
      "Flask-Cors (3.0.3)\n",
      "gevent (1.2.2)\n",
      "glob2 (0.6)\n",
      "greenlet (0.4.12)\n",
      "h5py (2.7.1)\n",
      "heapdict (1.0.0)\n",
      "html5lib (1.0.1)\n",
      "idna (2.6)\n",
      "imageio (2.2.0)\n",
      "imagesize (0.7.1)\n",
      "ipython (6.2.1)\n",
      "ipython-genutils (0.2.0)\n",
      "ipywidgets (7.1.1)\n",
      "isort (4.2.15)\n",
      "itsdangerous (0.24)\n",
      "jdcal (1.3)\n",
      "jedi (0.11.1)\n",
      "Jinja2 (2.10)\n",
      "jsonschema (2.6.0)\n",
      "jupyter (1.0.0)\n",
      "jupyter-client (5.2.2)\n",
      "jupyter-console (5.2.0)\n",
      "jupyter-core (4.4.0)\n",
      "jupyterlab (0.31.4)\n",
      "jupyterlab-launcher (0.10.2)\n",
      "lazy-object-proxy (1.3.1)\n",
      "llvmlite (0.21.0)\n",
      "locket (0.2.0)\n",
      "lxml (4.1.1)\n",
      "MarkupSafe (1.0)\n",
      "matplotlib (2.1.2)\n",
      "mccabe (0.6.1)\n",
      "menuinst (1.4.11)\n",
      "mistune (0.8.3)\n",
      "mpmath (1.0.0)\n",
      "msgpack-python (0.5.1)\n",
      "multipledispatch (0.4.9)\n",
      "navigator-updater (0.1.0)\n",
      "nbconvert (5.3.1)\n",
      "nbformat (4.4.0)\n",
      "networkx (2.1)\n",
      "nltk (3.2.5)\n",
      "nose (1.3.7)\n",
      "notebook (5.4.0)\n",
      "numba (0.36.2)\n",
      "numexpr (2.6.4)\n",
      "numpy (1.14.0)\n",
      "numpydoc (0.7.0)\n",
      "odo (0.5.1)\n",
      "olefile (0.45.1)\n",
      "openpyxl (2.4.10)\n",
      "packaging (16.8)\n",
      "pandas (0.22.0)\n",
      "pandocfilters (1.4.2)\n",
      "parso (0.1.1)\n",
      "partd (0.3.8)\n",
      "path.py (10.5)\n",
      "pathlib2 (2.3.0)\n",
      "patsy (0.5.0)\n",
      "pep8 (1.7.1)\n",
      "pickleshare (0.7.4)\n",
      "Pillow (5.0.0)\n",
      "pip (9.0.1)\n",
      "pkginfo (1.4.1)\n",
      "pluggy (0.6.0)\n",
      "ply (3.10)\n",
      "prompt-toolkit (1.0.15)\n",
      "psutil (5.4.3)\n",
      "py (1.5.2)\n",
      "pycodestyle (2.3.1)\n",
      "pycosat (0.6.3)\n",
      "pycparser (2.18)\n",
      "pycrypto (2.6.1)\n",
      "pycurl (7.43.0.1)\n",
      "pyflakes (1.6.0)\n",
      "Pygments (2.2.0)\n",
      "pylint (1.8.2)\n",
      "pyodbc (4.0.22)\n",
      "pyOpenSSL (17.5.0)\n",
      "pyparsing (2.2.0)\n",
      "PySocks (1.6.7)\n",
      "pytest (3.3.2)\n",
      "python-dateutil (2.6.1)\n",
      "pytz (2017.3)\n",
      "PyWavelets (0.5.2)\n",
      "pywin32 (222)\n",
      "pywinpty (0.5)\n",
      "PyYAML (3.12)\n",
      "pyzmq (16.0.3)\n",
      "QtAwesome (0.4.4)\n",
      "qtconsole (4.3.1)\n",
      "QtPy (1.3.1)\n",
      "requests (2.18.4)\n",
      "rope (0.10.7)\n",
      "ruamel-yaml (0.15.35)\n",
      "scikit-image (0.13.1)\n",
      "scikit-learn (0.19.1)\n",
      "scipy (1.0.0)\n",
      "seaborn (0.8.1)\n",
      "Send2Trash (1.4.2)\n",
      "setuptools (38.4.0)\n",
      "simplegeneric (0.8.1)\n",
      "singledispatch (3.4.0.3)\n",
      "six (1.11.0)\n",
      "snowballstemmer (1.2.1)\n",
      "sortedcollections (0.5.3)\n",
      "sortedcontainers (1.5.9)\n",
      "Sphinx (1.6.6)\n",
      "sphinxcontrib-websupport (1.0.1)\n",
      "spyder (3.2.6)\n",
      "SQLAlchemy (1.2.1)\n",
      "statsmodels (0.8.0)\n",
      "sympy (1.1.1)\n",
      "tables (3.4.2)\n",
      "tblib (1.3.2)\n",
      "terminado (0.8.1)\n",
      "testpath (0.3.1)\n",
      "toolz (0.9.0)\n",
      "tornado (4.5.3)\n",
      "traitlets (4.3.2)\n",
      "typing (3.6.2)\n",
      "unicodecsv (0.14.1)\n",
      "urllib3 (1.22)\n",
      "wcwidth (0.1.7)\n",
      "webencodings (0.5.1)\n",
      "Werkzeug (0.14.1)\n",
      "wheel (0.30.0)\n",
      "widgetsnbextension (3.1.0)\n",
      "win-inet-pton (1.0.1)\n",
      "win-unicode-console (0.5)\n",
      "wincertstore (0.2)\n",
      "wrapt (1.10.11)\n",
      "xlrd (1.1.0)\n",
      "XlsxWriter (1.0.2)\n",
      "xlwings (0.11.5)\n",
      "xlwt (1.3.0)\n",
      "zict (0.1.3)\n"
     ]
    },
    {
     "name": "stderr",
     "output_type": "stream",
     "text": [
      "DEPRECATION: The default format will switch to columns in the future. You can use --format=(legacy|columns) (or define a format=(legacy|columns) in your pip.conf under the [list] section) to disable this warning.\n",
      "You are using pip version 9.0.1, however version 10.0.1 is available.\n",
      "You should consider upgrading via the 'python -m pip install --upgrade pip' command.\n"
     ]
    }
   ],
   "source": [
    "!pip list"
   ]
  },
  {
   "cell_type": "code",
   "execution_count": 2,
   "metadata": {},
   "outputs": [],
   "source": [
    "import sqlalchemy"
   ]
  },
  {
   "cell_type": "code",
   "execution_count": 3,
   "metadata": {},
   "outputs": [
    {
     "data": {
      "text/plain": [
       "'1.2.1'"
      ]
     },
     "execution_count": 3,
     "metadata": {},
     "output_type": "execute_result"
    }
   ],
   "source": [
    "sqlalchemy.__version__"
   ]
  },
  {
   "cell_type": "code",
   "execution_count": 4,
   "metadata": {},
   "outputs": [
    {
     "name": "stdout",
     "output_type": "stream",
     "text": [
      "\n",
      "The following command must be run outside of the IPython shell:\n",
      "\n",
      "    $ pip install --upgrade sqlalchemy\n",
      "\n",
      "The Python package manager (pip) can only be used from outside of IPython.\n",
      "Please reissue the `pip` command in a separate terminal or command prompt.\n",
      "\n",
      "See the Python documentation for more informations on how to install packages:\n",
      "\n",
      "    https://docs.python.org/3/installing/\n"
     ]
    }
   ],
   "source": [
    "pip install --upgrade sqlalchemy"
   ]
  },
  {
   "cell_type": "code",
   "execution_count": 5,
   "metadata": {},
   "outputs": [],
   "source": [
    "from sqlalchemy import create_engine"
   ]
  },
  {
   "cell_type": "code",
   "execution_count": 6,
   "metadata": {},
   "outputs": [],
   "source": [
    "engine = create_engine(\"sqlite://\", echo = True)"
   ]
  },
  {
   "cell_type": "markdown",
   "metadata": {},
   "source": [
    "- The echo flag is a shortcut to setting up SQLAlchemy logging, which is accomplished via Python’s standard logging module. With it enabled, we’ll see all the generated SQL produced. If you are working through this tutorial and want less output generated, set it to False\n",
    "\n",
    "- The return value of create_engine() is an instance of Engine, and it represents the core interface to the database, adapted through a dialect that handles the details of the database and DBAPI in use\n",
    "\n",
    "- When using the ORM, we typically don’t use the Engine directly once created; instead, it’s used behind the scenes by the ORM as we’ll see shortly."
   ]
  },
  {
   "cell_type": "code",
   "execution_count": 7,
   "metadata": {},
   "outputs": [],
   "source": [
    "from sqlalchemy import MetaData"
   ]
  },
  {
   "cell_type": "markdown",
   "metadata": {},
   "source": [
    "- metadata : With our User class constructed via the Declarative system, we have defined information about our table, known as table metadata."
   ]
  },
  {
   "cell_type": "code",
   "execution_count": 8,
   "metadata": {},
   "outputs": [],
   "source": [
    "metadata = MetaData()"
   ]
  },
  {
   "cell_type": "code",
   "execution_count": 9,
   "metadata": {},
   "outputs": [],
   "source": [
    "from sqlalchemy import Table, Column, Integer, String, MetaData, ForeignKey"
   ]
  },
  {
   "cell_type": "code",
   "execution_count": 10,
   "metadata": {},
   "outputs": [],
   "source": [
    "metadata  = MetaData()"
   ]
  },
  {
   "cell_type": "code",
   "execution_count": 11,
   "metadata": {},
   "outputs": [],
   "source": [
    "users = Table ('users', metadata,\n",
    "              Column('id', Integer, primary_key = True),\n",
    "              Column('name', String),\n",
    "              Column('fullname',String),\n",
    "              )\n",
    "addresses = Table ('addresses',metadata, \n",
    "                  Column('id', Integer, primary_key= True),\n",
    "                  Column('user_id', None,ForeignKey('users.id')),\n",
    "                  Column('email_address',String,nullable = False))"
   ]
  },
  {
   "cell_type": "code",
   "execution_count": 12,
   "metadata": {},
   "outputs": [
    {
     "name": "stdout",
     "output_type": "stream",
     "text": [
      "2018-07-10 16:20:41,024 INFO sqlalchemy.engine.base.Engine SELECT CAST('test plain returns' AS VARCHAR(60)) AS anon_1\n",
      "2018-07-10 16:20:41,025 INFO sqlalchemy.engine.base.Engine ()\n",
      "2018-07-10 16:20:41,032 INFO sqlalchemy.engine.base.Engine SELECT CAST('test unicode returns' AS VARCHAR(60)) AS anon_1\n",
      "2018-07-10 16:20:41,036 INFO sqlalchemy.engine.base.Engine ()\n",
      "2018-07-10 16:20:41,042 INFO sqlalchemy.engine.base.Engine PRAGMA table_info(\"users\")\n",
      "2018-07-10 16:20:41,043 INFO sqlalchemy.engine.base.Engine ()\n",
      "2018-07-10 16:20:41,046 INFO sqlalchemy.engine.base.Engine PRAGMA table_info(\"addresses\")\n",
      "2018-07-10 16:20:41,048 INFO sqlalchemy.engine.base.Engine ()\n",
      "2018-07-10 16:20:41,051 INFO sqlalchemy.engine.base.Engine \n",
      "CREATE TABLE users (\n",
      "\tid INTEGER NOT NULL, \n",
      "\tname VARCHAR, \n",
      "\tfullname VARCHAR, \n",
      "\tPRIMARY KEY (id)\n",
      ")\n",
      "\n",
      "\n",
      "2018-07-10 16:20:41,053 INFO sqlalchemy.engine.base.Engine ()\n",
      "2018-07-10 16:20:41,055 INFO sqlalchemy.engine.base.Engine COMMIT\n",
      "2018-07-10 16:20:41,057 INFO sqlalchemy.engine.base.Engine \n",
      "CREATE TABLE addresses (\n",
      "\tid INTEGER NOT NULL, \n",
      "\tuser_id INTEGER, \n",
      "\temail_address VARCHAR NOT NULL, \n",
      "\tPRIMARY KEY (id), \n",
      "\tFOREIGN KEY(user_id) REFERENCES users (id)\n",
      ")\n",
      "\n",
      "\n",
      "2018-07-10 16:20:41,059 INFO sqlalchemy.engine.base.Engine ()\n",
      "2018-07-10 16:20:41,062 INFO sqlalchemy.engine.base.Engine COMMIT\n"
     ]
    }
   ],
   "source": [
    "metadata.create_all(engine)"
   ]
  },
  {
   "cell_type": "code",
   "execution_count": 13,
   "metadata": {},
   "outputs": [
    {
     "name": "stdout",
     "output_type": "stream",
     "text": [
      "INSERT INTO users (id, name, fullname) VALUES (:id, :name, :fullname)\n",
      "INSERT INTO users (name, fullname) VALUES (:name, :fullname)\n"
     ]
    }
   ],
   "source": [
    "insert = users.insert()\n",
    "print (insert)\n",
    "\n",
    "insert = users.insert().values(name = 'kim', fullname = \"Anonymous kin\")\n",
    "print (insert)"
   ]
  },
  {
   "cell_type": "code",
   "execution_count": 14,
   "metadata": {},
   "outputs": [
    {
     "data": {
      "text/plain": [
       "{'fullname': 'Anonymous kin', 'name': 'kim'}"
      ]
     },
     "execution_count": 14,
     "metadata": {},
     "output_type": "execute_result"
    }
   ],
   "source": [
    "insert.compile().params #"
   ]
  },
  {
   "cell_type": "code",
   "execution_count": 15,
   "metadata": {},
   "outputs": [],
   "source": [
    "insert.bind = engine # 엔진과 insert 바인드 "
   ]
  },
  {
   "cell_type": "code",
   "execution_count": 16,
   "metadata": {},
   "outputs": [],
   "source": [
    "conn = engine.connect() #엔진연결"
   ]
  },
  {
   "cell_type": "code",
   "execution_count": 17,
   "metadata": {},
   "outputs": [
    {
     "name": "stdout",
     "output_type": "stream",
     "text": [
      "2018-07-10 16:20:41,150 INFO sqlalchemy.engine.base.Engine INSERT INTO users (name, fullname) VALUES (?, ?)\n",
      "2018-07-10 16:20:41,151 INFO sqlalchemy.engine.base.Engine ('kim', 'Anonymous kin')\n",
      "2018-07-10 16:20:41,153 INFO sqlalchemy.engine.base.Engine COMMIT\n"
     ]
    }
   ],
   "source": [
    "result = conn.execute(insert) # 실제로 커넥터를 통해서 sqllite로 넘어간거"
   ]
  },
  {
   "cell_type": "code",
   "execution_count": 18,
   "metadata": {},
   "outputs": [
    {
     "data": {
      "text/plain": [
       "[1]"
      ]
     },
     "execution_count": 18,
     "metadata": {},
     "output_type": "execute_result"
    }
   ],
   "source": [
    "result.inserted_primary_key"
   ]
  },
  {
   "cell_type": "code",
   "execution_count": 19,
   "metadata": {},
   "outputs": [
    {
     "name": "stdout",
     "output_type": "stream",
     "text": [
      "[1]\n"
     ]
    }
   ],
   "source": [
    "print(result.inserted_primary_key)"
   ]
  },
  {
   "cell_type": "code",
   "execution_count": 20,
   "metadata": {},
   "outputs": [
    {
     "name": "stdout",
     "output_type": "stream",
     "text": [
      "2018-07-10 16:20:41,207 INFO sqlalchemy.engine.base.Engine INSERT INTO addresses (email_address) VALUES (?)\n",
      "2018-07-10 16:20:41,208 INFO sqlalchemy.engine.base.Engine ('anonymous.kim@test.com',)\n",
      "2018-07-10 16:20:41,210 INFO sqlalchemy.engine.base.Engine COMMIT\n"
     ]
    },
    {
     "data": {
      "text/plain": [
       "<sqlalchemy.engine.result.ResultProxy at 0x10626980f98>"
      ]
     },
     "execution_count": 20,
     "metadata": {},
     "output_type": "execute_result"
    }
   ],
   "source": [
    "conn.execute(addresses.insert(),[\n",
    "    {\"user-id\":1, \"email_address\":\"anonymous.kim@test.com\"}\n",
    "])"
   ]
  },
  {
   "cell_type": "code",
   "execution_count": 21,
   "metadata": {},
   "outputs": [],
   "source": [
    "from sqlalchemy.sql import select"
   ]
  },
  {
   "cell_type": "code",
   "execution_count": 22,
   "metadata": {},
   "outputs": [
    {
     "name": "stdout",
     "output_type": "stream",
     "text": [
      "2018-07-10 16:20:41,248 INFO sqlalchemy.engine.base.Engine SELECT users.id, users.name, users.fullname \n",
      "FROM users\n",
      "2018-07-10 16:20:41,257 INFO sqlalchemy.engine.base.Engine ()\n",
      "(1, 'kim', 'Anonymous kin')\n"
     ]
    }
   ],
   "source": [
    "query = select([users])\n",
    "result = conn.execute(query)\n",
    "\n",
    "for row in result :\n",
    "    print(row)"
   ]
  },
  {
   "cell_type": "code",
   "execution_count": 23,
   "metadata": {},
   "outputs": [
    {
     "name": "stdout",
     "output_type": "stream",
     "text": [
      "2018-07-10 16:20:41,285 INFO sqlalchemy.engine.base.Engine SELECT users.name, users.fullname \n",
      "FROM users\n",
      "2018-07-10 16:20:41,287 INFO sqlalchemy.engine.base.Engine ()\n"
     ]
    }
   ],
   "source": [
    "result = conn. execute(select([users.c.name, users.c.fullname]))"
   ]
  },
  {
   "cell_type": "code",
   "execution_count": 24,
   "metadata": {},
   "outputs": [
    {
     "name": "stdout",
     "output_type": "stream",
     "text": [
      "('kim', 'Anonymous kin')\n"
     ]
    }
   ],
   "source": [
    "for row in result :\n",
    "    print(row)"
   ]
  },
  {
   "cell_type": "code",
   "execution_count": 25,
   "metadata": {},
   "outputs": [],
   "source": [
    "from sqlalchemy import and_,or_,not_"
   ]
  },
  {
   "cell_type": "code",
   "execution_count": 26,
   "metadata": {},
   "outputs": [
    {
     "name": "stdout",
     "output_type": "stream",
     "text": [
      "users.id = addresses.user_id\n"
     ]
    }
   ],
   "source": [
    "print(users.c.id == addresses.c.user_id)"
   ]
  },
  {
   "cell_type": "code",
   "execution_count": 27,
   "metadata": {},
   "outputs": [
    {
     "name": "stdout",
     "output_type": "stream",
     "text": [
      "2018-07-10 16:20:41,373 INFO sqlalchemy.engine.base.Engine PRAGMA table_info(\"users\")\n",
      "2018-07-10 16:20:41,375 INFO sqlalchemy.engine.base.Engine ()\n",
      "2018-07-10 16:20:41,377 INFO sqlalchemy.engine.base.Engine PRAGMA table_info(\"addresses\")\n",
      "2018-07-10 16:20:41,379 INFO sqlalchemy.engine.base.Engine ()\n",
      "2018-07-10 16:20:41,381 INFO sqlalchemy.engine.base.Engine PRAGMA table_info(\"Artist\")\n",
      "2018-07-10 16:20:41,383 INFO sqlalchemy.engine.base.Engine ()\n",
      "2018-07-10 16:20:41,384 INFO sqlalchemy.engine.base.Engine PRAGMA table_info(\"Album\")\n",
      "2018-07-10 16:20:41,386 INFO sqlalchemy.engine.base.Engine ()\n",
      "2018-07-10 16:20:41,388 INFO sqlalchemy.engine.base.Engine PRAGMA table_info(\"Genre\")\n",
      "2018-07-10 16:20:41,397 INFO sqlalchemy.engine.base.Engine ()\n",
      "2018-07-10 16:20:41,399 INFO sqlalchemy.engine.base.Engine PRAGMA table_info(\"Track\")\n",
      "2018-07-10 16:20:41,400 INFO sqlalchemy.engine.base.Engine ()\n",
      "2018-07-10 16:20:41,402 INFO sqlalchemy.engine.base.Engine \n",
      "CREATE TABLE \"Artist\" (\n",
      "\tid INTEGER NOT NULL, \n",
      "\tname VARCHAR NOT NULL, \n",
      "\tPRIMARY KEY (id)\n",
      ")\n",
      "\n",
      "\n",
      "2018-07-10 16:20:41,404 INFO sqlalchemy.engine.base.Engine ()\n",
      "2018-07-10 16:20:41,406 INFO sqlalchemy.engine.base.Engine COMMIT\n",
      "2018-07-10 16:20:41,407 INFO sqlalchemy.engine.base.Engine \n",
      "CREATE TABLE \"Genre\" (\n",
      "\tid INTEGER NOT NULL, \n",
      "\tname VARCHAR NOT NULL, \n",
      "\tPRIMARY KEY (id)\n",
      ")\n",
      "\n",
      "\n",
      "2018-07-10 16:20:41,409 INFO sqlalchemy.engine.base.Engine ()\n",
      "2018-07-10 16:20:41,413 INFO sqlalchemy.engine.base.Engine COMMIT\n",
      "2018-07-10 16:20:41,415 INFO sqlalchemy.engine.base.Engine \n",
      "CREATE TABLE \"Album\" (\n",
      "\tid INTEGER NOT NULL, \n",
      "\tname VARCHAR NOT NULL, \n",
      "\tartist_id INTEGER, \n",
      "\tPRIMARY KEY (id), \n",
      "\tFOREIGN KEY(artist_id) REFERENCES \"Artist\" (id)\n",
      ")\n",
      "\n",
      "\n",
      "2018-07-10 16:20:41,420 INFO sqlalchemy.engine.base.Engine ()\n",
      "2018-07-10 16:20:41,423 INFO sqlalchemy.engine.base.Engine COMMIT\n",
      "2018-07-10 16:20:41,426 INFO sqlalchemy.engine.base.Engine \n",
      "CREATE TABLE \"Track\" (\n",
      "\tid INTEGER NOT NULL, \n",
      "\ttitle VARCHAR NOT NULL, \n",
      "\tlength VARCHAR NOT NULL, \n",
      "\trating VARCHAR NOT NULL, \n",
      "\tcount VARCHAR NOT NULL, \n",
      "\talbum_id INTEGER, \n",
      "\tgenre_id INTEGER, \n",
      "\tPRIMARY KEY (id), \n",
      "\tFOREIGN KEY(album_id) REFERENCES \"Album\" (id), \n",
      "\tFOREIGN KEY(genre_id) REFERENCES \"Genre\" (id)\n",
      ")\n",
      "\n",
      "\n",
      "2018-07-10 16:20:41,428 INFO sqlalchemy.engine.base.Engine ()\n",
      "2018-07-10 16:20:41,432 INFO sqlalchemy.engine.base.Engine COMMIT\n"
     ]
    }
   ],
   "source": [
    "artist = Table(\"Artist\", metadata,\n",
    "              Column(\"id\", Integer, primary_key = True),\n",
    "              Column(\"name\",String, nullable = False),\n",
    "              extend_existing  = True)\n",
    "album = Table(\"Album\", metadata,\n",
    "              Column(\"id\", Integer, primary_key = True),\n",
    "              Column(\"name\",String, nullable = False),\n",
    "              Column(\"artist_id\",Integer, ForeignKey(\"Artist.id\")),\n",
    "              extend_existing  = True)\n",
    "genre = Table(\"Genre\", metadata,\n",
    "              Column(\"id\", Integer, primary_key = True),\n",
    "              Column(\"name\",String, nullable = False),\n",
    "              extend_existing  = True)\n",
    "Track = Table(\"Track\", metadata,\n",
    "              Column(\"id\", Integer, primary_key = True),\n",
    "              Column(\"title\",String, nullable = False),\n",
    "              Column(\"length\",String, nullable = False),\n",
    "              Column(\"rating\",String, nullable = False),\n",
    "              Column(\"count\",String, nullable = False),\n",
    "              Column(\"album_id\",Integer, ForeignKey(\"Album.id\")),\n",
    "              Column(\"genre_id\",Integer, ForeignKey(\"Genre.id\")),\n",
    "              extend_existing  = True)\n",
    "\n",
    "metadata.create_all(engine)"
   ]
  },
  {
   "cell_type": "code",
   "execution_count": 28,
   "metadata": {},
   "outputs": [
    {
     "name": "stdout",
     "output_type": "stream",
     "text": [
      "immutabledict({'users': Table('users', MetaData(bind=None), Column('id', Integer(), table=<users>, primary_key=True, nullable=False), Column('name', String(), table=<users>), Column('fullname', String(), table=<users>), schema=None), 'addresses': Table('addresses', MetaData(bind=None), Column('id', Integer(), table=<addresses>, primary_key=True, nullable=False), Column('user_id', Integer(), ForeignKey('users.id'), table=<addresses>), Column('email_address', String(), table=<addresses>, nullable=False), schema=None), 'Artist': Table('Artist', MetaData(bind=None), Column('id', Integer(), table=<Artist>, primary_key=True, nullable=False), Column('name', String(), table=<Artist>, nullable=False), schema=None), 'Album': Table('Album', MetaData(bind=None), Column('id', Integer(), table=<Album>, primary_key=True, nullable=False), Column('name', String(), table=<Album>, nullable=False), Column('artist_id', Integer(), ForeignKey('Artist.id'), table=<Album>), schema=None), 'Genre': Table('Genre', MetaData(bind=None), Column('id', Integer(), table=<Genre>, primary_key=True, nullable=False), Column('name', String(), table=<Genre>, nullable=False), schema=None), 'Track': Table('Track', MetaData(bind=None), Column('id', Integer(), table=<Track>, primary_key=True, nullable=False), Column('title', String(), table=<Track>, nullable=False), Column('length', String(), table=<Track>, nullable=False), Column('rating', String(), table=<Track>, nullable=False), Column('count', String(), table=<Track>, nullable=False), Column('album_id', Integer(), ForeignKey('Album.id'), table=<Track>), Column('genre_id', Integer(), ForeignKey('Genre.id'), table=<Track>), schema=None)})\n",
      "immutabledict({'users': Table('users', MetaData(bind=None), Column('id', Integer(), table=<users>, primary_key=True, nullable=False), Column('name', String(), table=<users>), Column('fullname', String(), table=<users>), schema=None), 'addresses': Table('addresses', MetaData(bind=None), Column('id', Integer(), table=<addresses>, primary_key=True, nullable=False), Column('user_id', Integer(), ForeignKey('users.id'), table=<addresses>), Column('email_address', String(), table=<addresses>, nullable=False), schema=None), 'Artist': Table('Artist', MetaData(bind=None), Column('id', Integer(), table=<Artist>, primary_key=True, nullable=False), Column('name', String(), table=<Artist>, nullable=False), schema=None), 'Album': Table('Album', MetaData(bind=None), Column('id', Integer(), table=<Album>, primary_key=True, nullable=False), Column('name', String(), table=<Album>, nullable=False), Column('artist_id', Integer(), ForeignKey('Artist.id'), table=<Album>), schema=None), 'Genre': Table('Genre', MetaData(bind=None), Column('id', Integer(), table=<Genre>, primary_key=True, nullable=False), Column('name', String(), table=<Genre>, nullable=False), schema=None), 'Track': Table('Track', MetaData(bind=None), Column('id', Integer(), table=<Track>, primary_key=True, nullable=False), Column('title', String(), table=<Track>, nullable=False), Column('length', String(), table=<Track>, nullable=False), Column('rating', String(), table=<Track>, nullable=False), Column('count', String(), table=<Track>, nullable=False), Column('album_id', Integer(), ForeignKey('Album.id'), table=<Track>), Column('genre_id', Integer(), ForeignKey('Genre.id'), table=<Track>), schema=None)})\n",
      "immutabledict({'users': Table('users', MetaData(bind=None), Column('id', Integer(), table=<users>, primary_key=True, nullable=False), Column('name', String(), table=<users>), Column('fullname', String(), table=<users>), schema=None), 'addresses': Table('addresses', MetaData(bind=None), Column('id', Integer(), table=<addresses>, primary_key=True, nullable=False), Column('user_id', Integer(), ForeignKey('users.id'), table=<addresses>), Column('email_address', String(), table=<addresses>, nullable=False), schema=None), 'Artist': Table('Artist', MetaData(bind=None), Column('id', Integer(), table=<Artist>, primary_key=True, nullable=False), Column('name', String(), table=<Artist>, nullable=False), schema=None), 'Album': Table('Album', MetaData(bind=None), Column('id', Integer(), table=<Album>, primary_key=True, nullable=False), Column('name', String(), table=<Album>, nullable=False), Column('artist_id', Integer(), ForeignKey('Artist.id'), table=<Album>), schema=None), 'Genre': Table('Genre', MetaData(bind=None), Column('id', Integer(), table=<Genre>, primary_key=True, nullable=False), Column('name', String(), table=<Genre>, nullable=False), schema=None), 'Track': Table('Track', MetaData(bind=None), Column('id', Integer(), table=<Track>, primary_key=True, nullable=False), Column('title', String(), table=<Track>, nullable=False), Column('length', String(), table=<Track>, nullable=False), Column('rating', String(), table=<Track>, nullable=False), Column('count', String(), table=<Track>, nullable=False), Column('album_id', Integer(), ForeignKey('Album.id'), table=<Track>), Column('genre_id', Integer(), ForeignKey('Genre.id'), table=<Track>), schema=None)})\n",
      "immutabledict({'users': Table('users', MetaData(bind=None), Column('id', Integer(), table=<users>, primary_key=True, nullable=False), Column('name', String(), table=<users>), Column('fullname', String(), table=<users>), schema=None), 'addresses': Table('addresses', MetaData(bind=None), Column('id', Integer(), table=<addresses>, primary_key=True, nullable=False), Column('user_id', Integer(), ForeignKey('users.id'), table=<addresses>), Column('email_address', String(), table=<addresses>, nullable=False), schema=None), 'Artist': Table('Artist', MetaData(bind=None), Column('id', Integer(), table=<Artist>, primary_key=True, nullable=False), Column('name', String(), table=<Artist>, nullable=False), schema=None), 'Album': Table('Album', MetaData(bind=None), Column('id', Integer(), table=<Album>, primary_key=True, nullable=False), Column('name', String(), table=<Album>, nullable=False), Column('artist_id', Integer(), ForeignKey('Artist.id'), table=<Album>), schema=None), 'Genre': Table('Genre', MetaData(bind=None), Column('id', Integer(), table=<Genre>, primary_key=True, nullable=False), Column('name', String(), table=<Genre>, nullable=False), schema=None), 'Track': Table('Track', MetaData(bind=None), Column('id', Integer(), table=<Track>, primary_key=True, nullable=False), Column('title', String(), table=<Track>, nullable=False), Column('length', String(), table=<Track>, nullable=False), Column('rating', String(), table=<Track>, nullable=False), Column('count', String(), table=<Track>, nullable=False), Column('album_id', Integer(), ForeignKey('Album.id'), table=<Track>), Column('genre_id', Integer(), ForeignKey('Genre.id'), table=<Track>), schema=None)})\n",
      "immutabledict({'users': Table('users', MetaData(bind=None), Column('id', Integer(), table=<users>, primary_key=True, nullable=False), Column('name', String(), table=<users>), Column('fullname', String(), table=<users>), schema=None), 'addresses': Table('addresses', MetaData(bind=None), Column('id', Integer(), table=<addresses>, primary_key=True, nullable=False), Column('user_id', Integer(), ForeignKey('users.id'), table=<addresses>), Column('email_address', String(), table=<addresses>, nullable=False), schema=None), 'Artist': Table('Artist', MetaData(bind=None), Column('id', Integer(), table=<Artist>, primary_key=True, nullable=False), Column('name', String(), table=<Artist>, nullable=False), schema=None), 'Album': Table('Album', MetaData(bind=None), Column('id', Integer(), table=<Album>, primary_key=True, nullable=False), Column('name', String(), table=<Album>, nullable=False), Column('artist_id', Integer(), ForeignKey('Artist.id'), table=<Album>), schema=None), 'Genre': Table('Genre', MetaData(bind=None), Column('id', Integer(), table=<Genre>, primary_key=True, nullable=False), Column('name', String(), table=<Genre>, nullable=False), schema=None), 'Track': Table('Track', MetaData(bind=None), Column('id', Integer(), table=<Track>, primary_key=True, nullable=False), Column('title', String(), table=<Track>, nullable=False), Column('length', String(), table=<Track>, nullable=False), Column('rating', String(), table=<Track>, nullable=False), Column('count', String(), table=<Track>, nullable=False), Column('album_id', Integer(), ForeignKey('Album.id'), table=<Track>), Column('genre_id', Integer(), ForeignKey('Genre.id'), table=<Track>), schema=None)})\n",
      "immutabledict({'users': Table('users', MetaData(bind=None), Column('id', Integer(), table=<users>, primary_key=True, nullable=False), Column('name', String(), table=<users>), Column('fullname', String(), table=<users>), schema=None), 'addresses': Table('addresses', MetaData(bind=None), Column('id', Integer(), table=<addresses>, primary_key=True, nullable=False), Column('user_id', Integer(), ForeignKey('users.id'), table=<addresses>), Column('email_address', String(), table=<addresses>, nullable=False), schema=None), 'Artist': Table('Artist', MetaData(bind=None), Column('id', Integer(), table=<Artist>, primary_key=True, nullable=False), Column('name', String(), table=<Artist>, nullable=False), schema=None), 'Album': Table('Album', MetaData(bind=None), Column('id', Integer(), table=<Album>, primary_key=True, nullable=False), Column('name', String(), table=<Album>, nullable=False), Column('artist_id', Integer(), ForeignKey('Artist.id'), table=<Album>), schema=None), 'Genre': Table('Genre', MetaData(bind=None), Column('id', Integer(), table=<Genre>, primary_key=True, nullable=False), Column('name', String(), table=<Genre>, nullable=False), schema=None), 'Track': Table('Track', MetaData(bind=None), Column('id', Integer(), table=<Track>, primary_key=True, nullable=False), Column('title', String(), table=<Track>, nullable=False), Column('length', String(), table=<Track>, nullable=False), Column('rating', String(), table=<Track>, nullable=False), Column('count', String(), table=<Track>, nullable=False), Column('album_id', Integer(), ForeignKey('Album.id'), table=<Track>), Column('genre_id', Integer(), ForeignKey('Genre.id'), table=<Track>), schema=None)})\n"
     ]
    }
   ],
   "source": [
    "tables = metadata.tables\n",
    "for table in tables :\n",
    "    print(tables)"
   ]
  },
  {
   "cell_type": "code",
   "execution_count": 29,
   "metadata": {},
   "outputs": [],
   "source": [
    "from sqlalchemy import table"
   ]
  },
  {
   "cell_type": "code",
   "execution_count": 30,
   "metadata": {},
   "outputs": [
    {
     "name": "stdout",
     "output_type": "stream",
     "text": [
      "2018-07-10 16:20:41,515 INFO sqlalchemy.engine.base.Engine SELECT name FROM sqlite_master WHERE type='table' ORDER BY name\n",
      "2018-07-10 16:20:41,519 INFO sqlalchemy.engine.base.Engine ()\n",
      "Album\n",
      "Track\n",
      "Artist\n",
      "Track\n",
      "Genre\n",
      "Track\n",
      "Track\n",
      "Track\n",
      "addresses\n",
      "Track\n",
      "users\n",
      "Track\n"
     ]
    }
   ],
   "source": [
    "for table in engine.table_names():\n",
    "    print(table)\n",
    "    print(Track)"
   ]
  },
  {
   "cell_type": "code",
   "execution_count": 31,
   "metadata": {},
   "outputs": [
    {
     "name": "stdout",
     "output_type": "stream",
     "text": [
      "2018-07-10 16:20:41,588 INFO sqlalchemy.engine.base.Engine INSERT INTO \"Artist\" (name) VALUES (?)\n",
      "2018-07-10 16:20:41,589 INFO sqlalchemy.engine.base.Engine (('Led Zepplin',), ('AC/DC',))\n",
      "2018-07-10 16:20:41,593 INFO sqlalchemy.engine.base.Engine COMMIT\n",
      "2018-07-10 16:20:41,597 INFO sqlalchemy.engine.base.Engine INSERT INTO \"Album\" (name) VALUES (?)\n",
      "2018-07-10 16:20:41,598 INFO sqlalchemy.engine.base.Engine (('IV',), ('Who Made Who',))\n",
      "2018-07-10 16:20:41,601 INFO sqlalchemy.engine.base.Engine COMMIT\n",
      "2018-07-10 16:20:41,604 INFO sqlalchemy.engine.base.Engine INSERT INTO \"Genre\" (name) VALUES (?)\n",
      "2018-07-10 16:20:41,606 INFO sqlalchemy.engine.base.Engine (('Rock',), ('Metal',))\n",
      "2018-07-10 16:20:41,608 INFO sqlalchemy.engine.base.Engine COMMIT\n",
      "2018-07-10 16:20:41,611 INFO sqlalchemy.engine.base.Engine INSERT INTO \"Track\" (title, length, rating, count, album_id, genre_id) VALUES (?, ?, ?, ?, ?, ?)\n",
      "2018-07-10 16:20:41,613 INFO sqlalchemy.engine.base.Engine (('Black Dog', 297, 5, 0, 1, 1), ('stairway', 487, 5, 0, 1, 1), ('About to Rock', 317, 5, 0, 2, 2), ('who made who', 297, 5, 0, 2, 2))\n",
      "2018-07-10 16:20:41,616 INFO sqlalchemy.engine.base.Engine COMMIT\n"
     ]
    },
    {
     "data": {
      "text/plain": [
       "<sqlalchemy.engine.result.ResultProxy at 0x106269e5860>"
      ]
     },
     "execution_count": 31,
     "metadata": {},
     "output_type": "execute_result"
    }
   ],
   "source": [
    "conn.execute(artist.insert(),[\n",
    "    {\"name\":\"Led Zepplin\"},\n",
    "    {\"name\" : \"AC/DC\"}\n",
    "])\n",
    "\n",
    "conn.execute(album.insert(),[\n",
    "    {\"name\":\"IV\",\"aritist_id\":1},\n",
    "    {\"name\":\"Who Made Who\",\"aritist_id\":2}\n",
    "])\n",
    "\n",
    "conn.execute(genre.insert(),[\n",
    "    {\"name\":\"Rock\"},\n",
    "    {\"name\" : \"Metal\"}\n",
    "])\n",
    "\n",
    "conn.execute(Track.insert(),[\n",
    "    {\"title\":\"Black Dog\", \"rating\": 5,\"length\":297, \"count\":0,\"album_id\":1,\"genre_id\":1},\n",
    "    {\"title\":\"stairway\", \"rating\": 5,\"length\":487, \"count\":0,\"album_id\":1,\"genre_id\":1},\n",
    "    {\"title\":\"About to Rock\", \"rating\": 5,\"length\":317, \"count\":0,\"album_id\":2,\"genre_id\":2},\n",
    "    {\"title\":\"who made who\", \"rating\": 5,\"length\":297, \"count\":0,\"album_id\":2,\"genre_id\":2}\n",
    "\n",
    "])"
   ]
  },
  {
   "cell_type": "code",
   "execution_count": 32,
   "metadata": {},
   "outputs": [
    {
     "name": "stdout",
     "output_type": "stream",
     "text": [
      "2018-07-10 16:21:31,934 INFO sqlalchemy.engine.base.Engine SELECT \"Artist\".id, \"Artist\".name \n",
      "FROM \"Artist\"\n",
      "2018-07-10 16:21:31,936 INFO sqlalchemy.engine.base.Engine ()\n"
     ]
    }
   ],
   "source": [
    "artistResult = conn.execute(artist.select())"
   ]
  },
  {
   "cell_type": "code",
   "execution_count": 33,
   "metadata": {},
   "outputs": [
    {
     "name": "stdout",
     "output_type": "stream",
     "text": [
      "(1, 'Led Zepplin')\n",
      "(2, 'AC/DC')\n"
     ]
    }
   ],
   "source": [
    "for row in artistResult :\n",
    "    print(row)"
   ]
  },
  {
   "cell_type": "code",
   "execution_count": 35,
   "metadata": {},
   "outputs": [
    {
     "name": "stdout",
     "output_type": "stream",
     "text": [
      "2018-07-10 16:24:20,902 INFO sqlalchemy.engine.base.Engine SELECT \"Track\".id, \"Track\".title, \"Track\".length, \"Track\".rating, \"Track\".count, \"Track\".album_id, \"Track\".genre_id \n",
      "FROM \"Track\" \n",
      "WHERE \"Track\".album_id = ? AND \"Track\".genre_id = ?\n",
      "2018-07-10 16:24:20,904 INFO sqlalchemy.engine.base.Engine (1, 1)\n",
      "(1, 'Black Dog', '297', '5', '0', 1, 1)\n",
      "(2, 'stairway', '487', '5', '0', 1, 1)\n"
     ]
    }
   ],
   "source": [
    "trackResult = conn.execute(select([Track])\n",
    "                           .where(\n",
    "                                and_(Track.c.album_id == 1, Track.c.genre_id ==1)\n",
    "                          ))\n",
    "for row in trackResult:\n",
    "    print(row)"
   ]
  },
  {
   "cell_type": "code",
   "execution_count": 39,
   "metadata": {},
   "outputs": [
    {
     "name": "stdout",
     "output_type": "stream",
     "text": [
      "2018-07-10 16:47:45,603 INFO sqlalchemy.engine.base.Engine UPDATE \"Track\" SET genre_id=? WHERE \"Track\".id = ?\n",
      "2018-07-10 16:47:45,603 INFO sqlalchemy.engine.base.Engine (2, 2)\n",
      "2018-07-10 16:47:45,607 INFO sqlalchemy.engine.base.Engine COMMIT\n",
      "2018-07-10 16:47:45,607 INFO sqlalchemy.engine.base.Engine UPDATE \"Track\" SET genre_id=? WHERE \"Track\".id = ?\n",
      "2018-07-10 16:47:45,611 INFO sqlalchemy.engine.base.Engine (1, 3)\n",
      "2018-07-10 16:47:45,611 INFO sqlalchemy.engine.base.Engine COMMIT\n"
     ]
    },
    {
     "data": {
      "text/plain": [
       "<sqlalchemy.engine.result.ResultProxy at 0x10626a6f5c0>"
      ]
     },
     "execution_count": 39,
     "metadata": {},
     "output_type": "execute_result"
    }
   ],
   "source": [
    "from sqlalchemy import update\n",
    "\n",
    "conn.execute(Track.update().values(genre_id=2).where(Track.c.id==2))\n",
    "conn.execute(Track.update().values(genre_id=1).where(Track.c.id==3))"
   ]
  },
  {
   "cell_type": "code",
   "execution_count": 42,
   "metadata": {},
   "outputs": [
    {
     "name": "stdout",
     "output_type": "stream",
     "text": [
      "2018-07-10 16:51:50,801 INFO sqlalchemy.engine.base.Engine SELECT \"Track\".id, \"Track\".title, \"Track\".length, \"Track\".rating, \"Track\".count, \"Track\".album_id, \"Track\".genre_id \n",
      "FROM \"Track\" \n",
      "WHERE \"Track\".album_id = ? AND (\"Track\".genre_id = ? OR \"Track\".genre_id = ?)\n",
      "2018-07-10 16:51:50,805 INFO sqlalchemy.engine.base.Engine (1, 1, 2)\n",
      "(1, 'Black Dog', '297', '5', '0', 1, 1)\n",
      "(2, 'stairway', '487', '5', '0', 1, 2)\n"
     ]
    }
   ],
   "source": [
    "trackResult = conn.execute(select([Track])\n",
    "                        .where(\n",
    "                            and_(Track.c.album_id ==1,\n",
    "                                or_(Track.c.genre_id ==1,\n",
    "                                   Track.c.genre_id ==2,)\n",
    "                                )\n",
    "                        ))\n",
    "                           \n",
    "for row in trackResult:\n",
    "        print(row)"
   ]
  },
  {
   "cell_type": "code",
   "execution_count": 46,
   "metadata": {},
   "outputs": [
    {
     "name": "stdout",
     "output_type": "stream",
     "text": [
      "\"Track\" JOIN \"Album\" ON \"Album\".id = \"Track\".album_id\n",
      "2018-07-10 16:55:25,645 INFO sqlalchemy.engine.base.Engine SELECT \"Track\".id, \"Track\".title, \"Track\".length, \"Track\".rating, \"Track\".count, \"Track\".album_id, \"Track\".genre_id \n",
      "FROM \"Track\" JOIN \"Album\" ON \"Album\".id = \"Track\".album_id\n",
      "2018-07-10 16:55:25,649 INFO sqlalchemy.engine.base.Engine ()\n",
      "(1, 'Black Dog', '297', '5', '0', 1, 1)\n",
      "(2, 'stairway', '487', '5', '0', 1, 2)\n",
      "(3, 'About to Rock', '317', '5', '0', 2, 1)\n",
      "(4, 'who made who', '297', '5', '0', 2, 2)\n",
      "2018-07-10 16:55:25,653 INFO sqlalchemy.engine.base.Engine SELECT \"Track\".id, \"Track\".title, \"Track\".length, \"Track\".rating, \"Track\".count, \"Track\".album_id, \"Track\".genre_id \n",
      "FROM \"Track\" JOIN \"Album\" ON \"Album\".id = \"Track\".album_id \n",
      "WHERE \"Album\".id = ?\n",
      "2018-07-10 16:55:25,653 INFO sqlalchemy.engine.base.Engine (1,)\n",
      "(1, 'Black Dog', '297', '5', '0', 1, 1)\n",
      "(2, 'stairway', '487', '5', '0', 1, 2)\n"
     ]
    }
   ],
   "source": [
    "print(Track.join(album))\n",
    "\n",
    "result = conn.execute(Track\n",
    "                     .select()\n",
    "                     .select_from(Track.join(album)))\n",
    "for row in result.fetchall():\n",
    "    print(row)\n",
    "result = conn.execute(Track\n",
    "                     .select()\n",
    "                     .select_from(Track.join(album))\n",
    "                     .where(album.c.id == 1))\n",
    "for row in result.fetchall():\n",
    "    print(row)\n"
   ]
  },
  {
   "cell_type": "code",
   "execution_count": null,
   "metadata": {},
   "outputs": [],
   "source": []
  }
 ],
 "metadata": {
  "kernelspec": {
   "display_name": "Python 3",
   "language": "python",
   "name": "python3"
  },
  "language_info": {
   "codemirror_mode": {
    "name": "ipython",
    "version": 3
   },
   "file_extension": ".py",
   "mimetype": "text/x-python",
   "name": "python",
   "nbconvert_exporter": "python",
   "pygments_lexer": "ipython3",
   "version": "3.6.4"
  }
 },
 "nbformat": 4,
 "nbformat_minor": 2
}
