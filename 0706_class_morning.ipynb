{
 "cells": [
  {
   "cell_type": "markdown",
   "metadata": {},
   "source": [
    "## Class and Object"
   ]
  },
  {
   "cell_type": "code",
   "execution_count": 1,
   "metadata": {},
   "outputs": [],
   "source": [
    "class Parrot:\n",
    "\n",
    "    # class attribute\n",
    "    species = \"bird\"\n",
    "\n",
    "    # instance attribute\n",
    "    def __init__(self, name, age):\n",
    "        self.name = name\n",
    "        self.age = age"
   ]
  },
  {
   "cell_type": "code",
   "execution_count": 2,
   "metadata": {},
   "outputs": [],
   "source": [
    "# instantiate the Parrot class\n",
    "blu = Parrot(\"Blu\", 10)\n",
    "woo = Parrot(\"Woo\", 15)"
   ]
  },
  {
   "cell_type": "code",
   "execution_count": 9,
   "metadata": {},
   "outputs": [
    {
     "data": {
      "text/plain": [
       "['__class__',\n",
       " '__delattr__',\n",
       " '__dict__',\n",
       " '__dir__',\n",
       " '__doc__',\n",
       " '__eq__',\n",
       " '__format__',\n",
       " '__ge__',\n",
       " '__getattribute__',\n",
       " '__gt__',\n",
       " '__hash__',\n",
       " '__init__',\n",
       " '__init_subclass__',\n",
       " '__le__',\n",
       " '__lt__',\n",
       " '__module__',\n",
       " '__ne__',\n",
       " '__new__',\n",
       " '__reduce__',\n",
       " '__reduce_ex__',\n",
       " '__repr__',\n",
       " '__setattr__',\n",
       " '__sizeof__',\n",
       " '__str__',\n",
       " '__subclasshook__',\n",
       " '__weakref__',\n",
       " 'age',\n",
       " 'name',\n",
       " 'species']"
      ]
     },
     "execution_count": 9,
     "metadata": {},
     "output_type": "execute_result"
    }
   ],
   "source": [
    "dir(blu)"
   ]
  },
  {
   "cell_type": "code",
   "execution_count": 10,
   "metadata": {},
   "outputs": [
    {
     "data": {
      "text/plain": [
       "{'age': 10, 'name': 'Blu'}"
      ]
     },
     "execution_count": 10,
     "metadata": {},
     "output_type": "execute_result"
    }
   ],
   "source": [
    "vars(blu) #sepcies 안나옴. \n",
    "#attribute는 3개, species는 calss attribute, 동적으로 할당한 밑애 두개는 instance attribute. 클래스 바깥에서 확장시킨 애들도 instance attirbute"
   ]
  },
  {
   "cell_type": "code",
   "execution_count": 11,
   "metadata": {},
   "outputs": [
    {
     "data": {
      "text/plain": [
       "{'age': 10, 'name': 'Blu'}"
      ]
     },
     "execution_count": 11,
     "metadata": {},
     "output_type": "execute_result"
    }
   ],
   "source": [
    "blu.__dict__"
   ]
  },
  {
   "cell_type": "code",
   "execution_count": 12,
   "metadata": {},
   "outputs": [],
   "source": [
    "blu.species = \"bird2\" #여기서, class attribute를 고치는게 아니라, 새로운 instance attribute를 만든거라고 이해하면 됨."
   ]
  },
  {
   "cell_type": "code",
   "execution_count": 18,
   "metadata": {},
   "outputs": [
    {
     "data": {
      "text/plain": [
       "{'age': 10, 'name': 'Blu', 'species': 'bird2'}"
      ]
     },
     "execution_count": 18,
     "metadata": {},
     "output_type": "execute_result"
    }
   ],
   "source": [
    "blu.__dict__ #할당 위와 같이 다시하면 나옴 , 이 경우 species는 instance attribute가 됨. 덮어써도 class attribute남아있지만 ,우선순위 때문에 접근할 때는 항상 instance attribute로 나옴"
   ]
  },
  {
   "cell_type": "code",
   "execution_count": 14,
   "metadata": {},
   "outputs": [
    {
     "data": {
      "text/plain": [
       "{'age': 10, 'name': 'Blu', 'species': 'bird2'}"
      ]
     },
     "execution_count": 14,
     "metadata": {},
     "output_type": "execute_result"
    }
   ],
   "source": [
    "vars(blu)"
   ]
  },
  {
   "cell_type": "code",
   "execution_count": 15,
   "metadata": {},
   "outputs": [
    {
     "data": {
      "text/plain": [
       "['__class__',\n",
       " '__delattr__',\n",
       " '__dict__',\n",
       " '__dir__',\n",
       " '__doc__',\n",
       " '__eq__',\n",
       " '__format__',\n",
       " '__ge__',\n",
       " '__getattribute__',\n",
       " '__gt__',\n",
       " '__hash__',\n",
       " '__init__',\n",
       " '__init_subclass__',\n",
       " '__le__',\n",
       " '__lt__',\n",
       " '__module__',\n",
       " '__ne__',\n",
       " '__new__',\n",
       " '__reduce__',\n",
       " '__reduce_ex__',\n",
       " '__repr__',\n",
       " '__setattr__',\n",
       " '__sizeof__',\n",
       " '__str__',\n",
       " '__subclasshook__',\n",
       " '__weakref__',\n",
       " 'age',\n",
       " 'name',\n",
       " 'species']"
      ]
     },
     "execution_count": 15,
     "metadata": {},
     "output_type": "execute_result"
    }
   ],
   "source": [
    "dir(woo)"
   ]
  },
  {
   "cell_type": "code",
   "execution_count": 16,
   "metadata": {},
   "outputs": [
    {
     "data": {
      "text/plain": [
       "'bird'"
      ]
     },
     "execution_count": 16,
     "metadata": {},
     "output_type": "execute_result"
    }
   ],
   "source": [
    "woo.species"
   ]
  },
  {
   "cell_type": "code",
   "execution_count": 17,
   "metadata": {},
   "outputs": [
    {
     "data": {
      "text/plain": [
       "{'age': 15, 'name': 'Woo'}"
      ]
     },
     "execution_count": 17,
     "metadata": {},
     "output_type": "execute_result"
    }
   ],
   "source": [
    "woo.__dict__"
   ]
  },
  {
   "cell_type": "code",
   "execution_count": 7,
   "metadata": {},
   "outputs": [
    {
     "data": {
      "text/plain": [
       "__main__.Parrot"
      ]
     },
     "execution_count": 7,
     "metadata": {},
     "output_type": "execute_result"
    }
   ],
   "source": [
    "type(blu) ## __main이면 현재 작업하고 있는 거"
   ]
  },
  {
   "cell_type": "code",
   "execution_count": 8,
   "metadata": {},
   "outputs": [
    {
     "data": {
      "text/plain": [
       "type"
      ]
     },
     "execution_count": 8,
     "metadata": {},
     "output_type": "execute_result"
    }
   ],
   "source": [
    "type(Parrot) #type쳤을  때 type나오면 class "
   ]
  },
  {
   "cell_type": "code",
   "execution_count": 21,
   "metadata": {},
   "outputs": [
    {
     "name": "stdout",
     "output_type": "stream",
     "text": [
      "Blu is a bird\n",
      "Blu is a bird2\n",
      "Woo is also a bird\n",
      "Woo is also a bird\n",
      "Blu is 10 years old\n",
      "Woo is 15 years old\n"
     ]
    }
   ],
   "source": [
    "### access the class attributes\n",
    "print(\"Blu is a {}\".format(blu.__class__.species))# class attribute 불러 올 때는 __class__사용해서 저장되어 있는 애 불러오는거\n",
    "print(\"Blu is a {}\".format(blu.species)) #근데 이렇게 class attribute intance attribute로 덮어 ㅆ느ㅡㄴ 짓 하지 마세여\n",
    "print(\"Woo is also a {}\".format(woo.__class__.species))\n",
    "print(\"Woo is also a {}\".format(woo.species))\n",
    "\n",
    "# access the instance attributes\n",
    "print(\"{} is {} years old\".format( blu.name, blu.age))\n",
    "print(\"{} is {} years old\".format( woo.name, woo.age))"
   ]
  },
  {
   "cell_type": "code",
   "execution_count": 26,
   "metadata": {},
   "outputs": [
    {
     "data": {
      "text/plain": [
       "__main__.Parrot"
      ]
     },
     "execution_count": 26,
     "metadata": {},
     "output_type": "execute_result"
    }
   ],
   "source": [
    "blu.__class__"
   ]
  },
  {
   "cell_type": "markdown",
   "metadata": {},
   "source": [
    "## Methods"
   ]
  },
  {
   "cell_type": "code",
   "execution_count": 42,
   "metadata": {},
   "outputs": [],
   "source": [
    "class Parrot:\n",
    "    \n",
    "    # instance attributes\n",
    "    def __init__(self, name, age): #__들어간 애들은 magic method\n",
    "        self.name = name\n",
    "        self.age = age\n",
    "    \n",
    "    # instance method\n",
    "    def sing(self, song): \n",
    "        return \"{} sings {}\".format(self.name, song)\n",
    "\n",
    "    def dance(self):\n",
    "        return \"{} is now dancing\".format(self.name)\n",
    "    \n",
    "    @classmethod #이거 decorator라고 부름\n",
    "    def dance2(cls) :\n",
    "        return \"{} is now dancing2\" #.format(cls.name)"
   ]
  },
  {
   "cell_type": "code",
   "execution_count": 43,
   "metadata": {},
   "outputs": [],
   "source": [
    "# instantiate the object\n",
    "blu = Parrot(\"Blu\", 10)"
   ]
  },
  {
   "cell_type": "code",
   "execution_count": 44,
   "metadata": {},
   "outputs": [],
   "source": [
    "woo = Parrot(\"Woo\", 20)"
   ]
  },
  {
   "cell_type": "code",
   "execution_count": 45,
   "metadata": {},
   "outputs": [],
   "source": [
    "classmetho = Parrot(\"class metho\", 30)"
   ]
  },
  {
   "cell_type": "code",
   "execution_count": 46,
   "metadata": {},
   "outputs": [
    {
     "data": {
      "text/plain": [
       "'class metho is now dancing'"
      ]
     },
     "execution_count": 46,
     "metadata": {},
     "output_type": "execute_result"
    }
   ],
   "source": [
    "Parrot.dance(classmetho)"
   ]
  },
  {
   "cell_type": "code",
   "execution_count": 50,
   "metadata": {},
   "outputs": [
    {
     "data": {
      "text/plain": [
       "'{} is now dancing2'"
      ]
     },
     "execution_count": 50,
     "metadata": {},
     "output_type": "execute_result"
    }
   ],
   "source": [
    "Parrot.dance2() #class method는 이렇게 두가지로만 씀\n",
    "\n",
    "classmetho.__class__.dance2()"
   ]
  },
  {
   "cell_type": "code",
   "execution_count": 32,
   "metadata": {},
   "outputs": [
    {
     "data": {
      "text/plain": [
       "'Woo is now dancing'"
      ]
     },
     "execution_count": 32,
     "metadata": {},
     "output_type": "execute_result"
    }
   ],
   "source": [
    "Parrot.dance(woo)"
   ]
  },
  {
   "cell_type": "code",
   "execution_count": null,
   "metadata": {},
   "outputs": [],
   "source": []
  },
  {
   "cell_type": "code",
   "execution_count": 33,
   "metadata": {},
   "outputs": [
    {
     "data": {
      "text/plain": [
       "'Woo is now dancing'"
      ]
     },
     "execution_count": 33,
     "metadata": {},
     "output_type": "execute_result"
    }
   ],
   "source": [
    "woo.dance()"
   ]
  },
  {
   "cell_type": "code",
   "execution_count": 29,
   "metadata": {},
   "outputs": [
    {
     "data": {
      "text/plain": [
       "'Blu sings blu'"
      ]
     },
     "execution_count": 29,
     "metadata": {},
     "output_type": "execute_result"
    }
   ],
   "source": [
    "Parrot.sing(blu,\"blu\")"
   ]
  },
  {
   "cell_type": "code",
   "execution_count": 30,
   "metadata": {},
   "outputs": [
    {
     "data": {
      "text/plain": [
       "'Blu sings blu'"
      ]
     },
     "execution_count": 30,
     "metadata": {},
     "output_type": "execute_result"
    }
   ],
   "source": [
    "blu.sing(\"blu\")"
   ]
  },
  {
   "cell_type": "code",
   "execution_count": 2,
   "metadata": {},
   "outputs": [
    {
     "name": "stdout",
     "output_type": "stream",
     "text": [
      "Blu sings 'Happy'\n",
      "Blu is now dancing\n"
     ]
    }
   ],
   "source": [
    "# call our instance methods\n",
    "print(blu.sing(\"'Happy'\"))\n",
    "print(blu.dance())"
   ]
  },
  {
   "cell_type": "code",
   "execution_count": null,
   "metadata": {},
   "outputs": [],
   "source": []
  },
  {
   "cell_type": "code",
   "execution_count": 27,
   "metadata": {},
   "outputs": [
    {
     "name": "stdout",
     "output_type": "stream",
     "text": [
      "Blu sings 'Happy'\n",
      "Blu is now dancing\n"
     ]
    }
   ],
   "source": [
    "class Parrot2:\n",
    "    \n",
    "    # instance attributes\n",
    "    def __init__(a, name, age): # self 아니어도 다 작동함. 즉 method의 첫번째 인자는 자기 자신을 가르키는 애로, self로 쓰지만 다른거 써도됨\n",
    "        a.name = name\n",
    "        a.age = age\n",
    "    \n",
    "    # instance method\n",
    "    def sing(a, song): #self 들어간 애들은 class method\n",
    "        return \"{} sings {}\".format(a.name, song)\n",
    "\n",
    "    def dance(a):\n",
    "        return \"{} is now dancing\".format(a.name)\n",
    "\n",
    "# instantiate the object\n",
    "blu = Parrot(\"Blu\", 10)\n",
    "\n",
    "# call our instance methods\n",
    "print(blu.sing(\"'Happy'\"))\n",
    "print(blu.dance())"
   ]
  },
  {
   "cell_type": "markdown",
   "metadata": {},
   "source": [
    "## Inheritance\n",
    "\n",
    "- 객체 지향의 특징 중에 하나가 재사용\n",
    "- 상속은 두가지 종류 있음  - 단일 상속(ex. java) 과 다중 상속(ex. C++)\n",
    "- 다중상속은 여러개에게 상속을 받는 것으로, 이 경우는 어떤 것에서 상속받은 문제점인지 모르는 어려움이 있음\n",
    "- 파이썬의 경우는 다중 상속을 지원하지만. 가능한 다중 상속은 사용하지 않는 것이 좋음.\n",
    "\n",
    "- 상속의 문제점 있음. 기능 하나만 받고 싶은데, 상속 받는 클래스가 크기가 매우 크면 이걸 다 들고와야되는 문제점 있음. 그래서 다른 언어들에서는 요즘은 상속 안하고 swift같은 다른거 쓰는 경우도 있음 \n",
    "- 파이썬은 한개만 바꾸고 싶으면 함수를 추가할 수 있기 때문에, member method를 단순히 추가하면 됨.\n"
   ]
  },
  {
   "cell_type": "markdown",
   "metadata": {},
   "source": [
    "## Inheritance"
   ]
  },
  {
   "cell_type": "code",
   "execution_count": 2,
   "metadata": {},
   "outputs": [],
   "source": [
    "# parent class\n",
    "class Bird: # attribute 0개 (mutable이기 때문에 가능)\n",
    "\n",
    "    def __init__(self):\n",
    "        print(\"Bird is ready\")\n",
    "\n",
    "    def whoisThis(self):\n",
    "        print(\"Bird\")\n",
    "\n",
    "    def swim(self):\n",
    "        print(\"Swim faster\")"
   ]
  },
  {
   "cell_type": "code",
   "execution_count": 9,
   "metadata": {},
   "outputs": [],
   "source": [
    "# child class , 이거 이용해서 남이 만든 클래스 재사용, 추가 가능\n",
    "class Penguin(Bird): #펭귄 클래스는 버드 클래스 상속 받음의 의미\n",
    "\n",
    "    def __init__(self):\n",
    "        # call super() function\n",
    "        super().__init__() # super눈 부모가 가진거 실행하라는 것.  그래서 위에 bird의 def __init이 실행되는거임\n",
    "        print(\"Penguin is ready\")\n",
    "\n",
    "    def whoisThis(self):\n",
    "        print(\"Penguin\")\n",
    "\n",
    "    def run(self): #부모에 없는 메소드 추가 가능\n",
    "        print(\"Run faster\")\n",
    "        \n",
    "    def swim(self):\n",
    "        print(\"i cannot swim\") #이렇게 할 경우에 부모의 메소드 바꿔주는거 : overriding"
   ]
  },
  {
   "cell_type": "code",
   "execution_count": 10,
   "metadata": {},
   "outputs": [
    {
     "name": "stdout",
     "output_type": "stream",
     "text": [
      "Bird is ready\n",
      "Penguin is ready\n",
      "Penguin\n",
      "i cannot swim\n",
      "Run faster\n"
     ]
    }
   ],
   "source": [
    "peggy = Penguin()\n",
    "peggy.whoisThis()\n",
    "peggy.swim()\n",
    "peggy.run()"
   ]
  },
  {
   "cell_type": "code",
   "execution_count": 27,
   "metadata": {},
   "outputs": [],
   "source": [
    "# parent class\n",
    "class Bird:\n",
    "    \n",
    "    def __init__(self):\n",
    "        print(\"Bird is ready\")\n",
    "\n",
    "    def whoisThis(self):\n",
    "        print(\"Bird\")\n",
    "\n",
    "    def swim(self):\n",
    "        print(\"Swim faster\")\n",
    "\n",
    "# child class\n",
    "class Penguin(Bird):\n",
    "\n",
    "    def __init__(self):\n",
    "        # call super() function\n",
    "        super().__init__()\n",
    "        #super(Penguin,self).__init__() #이거 왜 굳이 지정할 수 있냐면 다중상속이있기 때문임. 그래서 내가 물려받고자 하는 부모 지정하는거임\n",
    "        #지정안할 경우는 파이썬의 경우 왼쪽에서 오른쪽, 이름 여러개 적으면 왼쪽에 있는 애부터 상속\n",
    "        #super(Penguin).__init__() - 이거는 펭귄만 받음\n",
    "        super()\n",
    "        print(\"Penguin is ready\")\n",
    "\n",
    "    def whoisThis(self):\n",
    "        print(\"Penguin\")\n",
    "\n",
    "    def run(self):\n",
    "        print(\"Run faster\")"
   ]
  },
  {
   "cell_type": "markdown",
   "metadata": {},
   "source": [
    "##### 다중상속 문제\n",
    "\n",
    "- 다이아몬드 문제 d가 b랑 c한테 상속 받고 b랑 c가 a한테 상속받았으면 d는 어떤것의 특성을 물려 받아야 하나"
   ]
  },
  {
   "cell_type": "code",
   "execution_count": 39,
   "metadata": {},
   "outputs": [
    {
     "name": "stdout",
     "output_type": "stream",
     "text": [
      "Bird is ready\n",
      "Penguin is ready\n",
      "Penguin\n",
      "Swim faster\n",
      "Run faster\n"
     ]
    }
   ],
   "source": [
    "\n",
    "\n",
    "peggy = Penguin()\n",
    "peggy.whoisThis()\n",
    "peggy.swim()\n",
    "peggy.run()"
   ]
  },
  {
   "cell_type": "code",
   "execution_count": 40,
   "metadata": {},
   "outputs": [
    {
     "data": {
      "text/plain": [
       "(__main__.Penguin, __main__.Bird, object)"
      ]
     },
     "execution_count": 40,
     "metadata": {},
     "output_type": "execute_result"
    }
   ],
   "source": [
    "Penguin.__mro__  #method resolution other  이 순서대로 실행되는 거임"
   ]
  },
  {
   "cell_type": "code",
   "execution_count": 34,
   "metadata": {},
   "outputs": [
    {
     "data": {
      "text/plain": [
       "['__class__',\n",
       " '__delattr__',\n",
       " '__dict__',\n",
       " '__dir__',\n",
       " '__doc__',\n",
       " '__eq__',\n",
       " '__format__',\n",
       " '__ge__',\n",
       " '__getattribute__',\n",
       " '__gt__',\n",
       " '__hash__',\n",
       " '__init__',\n",
       " '__init_subclass__',\n",
       " '__le__',\n",
       " '__lt__',\n",
       " '__module__',\n",
       " '__ne__',\n",
       " '__new__',\n",
       " '__reduce__',\n",
       " '__reduce_ex__',\n",
       " '__repr__',\n",
       " '__setattr__',\n",
       " '__sizeof__',\n",
       " '__str__',\n",
       " '__subclasshook__',\n",
       " '__weakref__',\n",
       " 'run',\n",
       " 'swim',\n",
       " 'whoisThis']"
      ]
     },
     "execution_count": 34,
     "metadata": {},
     "output_type": "execute_result"
    }
   ],
   "source": [
    "dir(peggy)"
   ]
  },
  {
   "cell_type": "markdown",
   "metadata": {},
   "source": [
    "## Encapsulation\n",
    "- 밖에서 클래스 내부에 접근을 못하도록 하는 방법\n",
    "- 파이썬은 mutable 지원하기 때문에, 실상 파이썬에서는 크게 기능이 없음\n",
    "- __ 붙이면 private인데도 불구하고 실제로는 접근이 가능함.  "
   ]
  },
  {
   "cell_type": "code",
   "execution_count": 41,
   "metadata": {},
   "outputs": [],
   "source": [
    "class Computer:\n",
    "\n",
    "    def __init__(self):\n",
    "        self.__maxprice = 900\n",
    "\n",
    "    def sell(self):\n",
    "        print(\"Selling Price: {}\".format(self.__maxprice))\n",
    "\n",
    "    def setMaxPrice(self, price):\n",
    "        self.__maxprice = price\n",
    "\n",
    "        "
   ]
  },
  {
   "cell_type": "code",
   "execution_count": 42,
   "metadata": {},
   "outputs": [
    {
     "name": "stdout",
     "output_type": "stream",
     "text": [
      "Selling Price: 900\n",
      "Selling Price: 900\n",
      "Selling Price: 1000\n"
     ]
    }
   ],
   "source": [
    "c = Computer()\n",
    "c.sell()\n",
    "\n",
    "# change the price\n",
    "c.__maxprice = 1000 ##privat이라고 하고 private 고칠수 있지롱!\n",
    "c.sell()\n",
    "\n",
    "# using setter function\n",
    "c.setMaxPrice(1000)\n",
    "c.sell()"
   ]
  },
  {
   "cell_type": "code",
   "execution_count": 43,
   "metadata": {},
   "outputs": [
    {
     "data": {
      "text/plain": [
       "{'_Computer__maxprice': 1000, '__maxprice': 1000}"
      ]
     },
     "execution_count": 43,
     "metadata": {},
     "output_type": "execute_result"
    }
   ],
   "source": [
    "vars(c)"
   ]
  },
  {
   "cell_type": "code",
   "execution_count": 44,
   "metadata": {},
   "outputs": [
    {
     "data": {
      "text/plain": [
       "['Bird',\n",
       " 'Computer',\n",
       " 'In',\n",
       " 'Out',\n",
       " 'Penguin',\n",
       " '_',\n",
       " '_34',\n",
       " '_40',\n",
       " '_43',\n",
       " '__',\n",
       " '___',\n",
       " '__builtin__',\n",
       " '__builtins__',\n",
       " '__doc__',\n",
       " '__loader__',\n",
       " '__name__',\n",
       " '__package__',\n",
       " '__spec__',\n",
       " '_dh',\n",
       " '_i',\n",
       " '_i1',\n",
       " '_i10',\n",
       " '_i11',\n",
       " '_i12',\n",
       " '_i13',\n",
       " '_i14',\n",
       " '_i15',\n",
       " '_i16',\n",
       " '_i17',\n",
       " '_i18',\n",
       " '_i19',\n",
       " '_i2',\n",
       " '_i20',\n",
       " '_i21',\n",
       " '_i22',\n",
       " '_i23',\n",
       " '_i24',\n",
       " '_i25',\n",
       " '_i26',\n",
       " '_i27',\n",
       " '_i28',\n",
       " '_i29',\n",
       " '_i3',\n",
       " '_i30',\n",
       " '_i31',\n",
       " '_i32',\n",
       " '_i33',\n",
       " '_i34',\n",
       " '_i35',\n",
       " '_i36',\n",
       " '_i37',\n",
       " '_i38',\n",
       " '_i39',\n",
       " '_i4',\n",
       " '_i40',\n",
       " '_i41',\n",
       " '_i42',\n",
       " '_i43',\n",
       " '_i44',\n",
       " '_i5',\n",
       " '_i6',\n",
       " '_i7',\n",
       " '_i8',\n",
       " '_i9',\n",
       " '_ih',\n",
       " '_ii',\n",
       " '_iii',\n",
       " '_oh',\n",
       " 'c',\n",
       " 'exit',\n",
       " 'get_ipython',\n",
       " 'peggy',\n",
       " 'quit']"
      ]
     },
     "execution_count": 44,
     "metadata": {},
     "output_type": "execute_result"
    }
   ],
   "source": [
    " dir() #현재 네임스페이스 안에 있는 모든 애"
   ]
  },
  {
   "cell_type": "code",
   "execution_count": 45,
   "metadata": {},
   "outputs": [
    {
     "data": {
      "text/plain": [
       "{'Bird': __main__.Bird,\n",
       " 'Computer': __main__.Computer,\n",
       " 'In': ['',\n",
       "  '# parent class\\nclass Bird: # attribute 0개 (mutable이기 때문에 가능)\\n    pass\\n   \"\"\" def __init__(self):\\n        print(\"Bird is ready\")\\n\\n    def whoisThis(self):\\n        print(\"Bird\")\\n\\n    def swim(self):\\n        print(\"Swim faster\") \"\"',\n",
       "  '# parent class\\nclass Bird: # attribute 0개 (mutable이기 때문에 가능)\\n\\n    def __init__(self):\\n        print(\"Bird is ready\")\\n\\n    def whoisThis(self):\\n        print(\"Bird\")\\n\\n    def swim(self):\\n        print(\"Swim faster\")',\n",
       "  '# child class\\nclass Penguin(Bird): #펭귄 클래스는 버드 클래스 상속 받음의 의미\\n\\n    def __init__(self):\\n        # call super() function\\n        super().__init__()\\n        print(\"Penguin is ready\")\\n\\n    def whoisThis(self):\\n        print(\"Penguin\")\\n\\n    def run(self):\\n        print(\"Run faster\")',\n",
       "  'peggy = Penguin()\\npeggy.whoisThis()\\npeggy.swim()\\npeggy.run()',\n",
       "  '# child class\\nclass Penguin(Bird): #펭귄 클래스는 버드 클래스 상속 받음의 의미\\n\\n    def __init__(self):\\n        # call super() function\\n        super().__init__()\\n        print(\"Penguin is ready\")\\n\\n    def whoisThis(self):\\n        print(\"Penguin\")\\n\\n    def run(self): #부모에 없는 메소드 추가 가능\\n        print(\"Run faster\")\\n        \\n    def swim(self):\\n        print(\"i cannot swim\") #이렇게 할 경우에 부모의 메소드 바꿔주는거 : overriding',\n",
       "  'peggy = Penguin()\\npeggy.whoisThis()\\npeggy.swim()\\npeggy.run()',\n",
       "  '# child class , 이거 이용해서 남이 만든 클래스 재사용, 추가 가능\\nclass Penguin(Bird): #펭귄 클래스는 버드 클래스 상속 받음의 의미\\n\\n    def __init__(self):\\n        # call super() function\\n        #super().__init__() # super눈 부모가 가진거 실행하라는 것. \\n        print(\"Penguin is ready\")\\n\\n    def whoisThis(self):\\n        print(\"Penguin\")\\n\\n    def run(self): #부모에 없는 메소드 추가 가능\\n        print(\"Run faster\")\\n        \\n    def swim(self):\\n        print(\"i cannot swim\") #이렇게 할 경우에 부모의 메소드 바꿔주는거 : overriding',\n",
       "  'peggy = Penguin()\\npeggy.whoisThis()\\npeggy.swim()\\npeggy.run()',\n",
       "  '# child class , 이거 이용해서 남이 만든 클래스 재사용, 추가 가능\\nclass Penguin(Bird): #펭귄 클래스는 버드 클래스 상속 받음의 의미\\n\\n    def __init__(self):\\n        # call super() function\\n        super().__init__() # super눈 부모가 가진거 실행하라는 것. \\n        print(\"Penguin is ready\")\\n\\n    def whoisThis(self):\\n        print(\"Penguin\")\\n\\n    def run(self): #부모에 없는 메소드 추가 가능\\n        print(\"Run faster\")\\n        \\n    def swim(self):\\n        print(\"i cannot swim\") #이렇게 할 경우에 부모의 메소드 바꿔주는거 : overriding',\n",
       "  'peggy = Penguin()\\npeggy.whoisThis()\\npeggy.swim()\\npeggy.run()',\n",
       "  '# parent class\\nclass Bird:\\n    \\n    def __init__(self):\\n        print(\"Bird is ready\")\\n\\n    def whoisThis(self):\\n        print(\"Bird\")\\n\\n    def swim(self):\\n        print(\"Swim faster\")\\n\\n# child class\\nclass Penguin(Bird):\\n\\n    def __init__(self):\\n        # call super() function\\n        __init__()\\n        print(\"Penguin is ready\")\\n\\n    def whoisThis(self):\\n        print(\"Penguin\")\\n\\n    def run(self):\\n        print(\"Run faster\")\\n\\npeggy = Penguin()\\npeggy.whoisThis()\\npeggy.swim()\\npeggy.run()',\n",
       "  'peggy = Penguin()\\npeggy.whoisThis()\\npeggy.swim()\\npeggy.run()',\n",
       "  '# parent class\\nclass Bird:\\n    \\n    def __init__(self):\\n        print(\"Bird is ready\")\\n\\n    def whoisThis(self):\\n        print(\"Bird\")\\n\\n    def swim(self):\\n        print(\"Swim faster\")\\n\\n# child class\\nclass Penguin(Bird):\\n\\n    def __init__(self):\\n        # call super() function\\n        #super.__init__()\\n        print(\"Penguin is ready\")\\n\\n    def whoisThis(self):\\n        print(\"Penguin\")\\n\\n    def run(self):\\n        print(\"Run faster\")',\n",
       "  'peggy = Penguin()\\npeggy.whoisThis()\\npeggy.swim()\\npeggy.run()',\n",
       "  '# parent class\\nclass Bird:\\n    \\n    def __init__(self):\\n        print(\"Bird is ready\")\\n\\n    def whoisThis(self):\\n        print(\"Bird\")\\n\\n    def swim(self):\\n        print(\"Swim faster\")\\n\\n# child class\\nclass Penguin(Bird):\\n\\n    def __init__(self):\\n        # call super() function\\n        super.__init__(Penguin,self)\\n        print(\"Penguin is ready\")\\n\\n    def whoisThis(self):\\n        print(\"Penguin\")\\n\\n    def run(self):\\n        print(\"Run faster\")',\n",
       "  'peggy = Penguin()\\npeggy.whoisThis()\\npeggy.swim()\\npeggy.run()',\n",
       "  '# parent class\\nclass Bird:\\n    \\n    def __init__(self):\\n        print(\"Bird is ready\")\\n\\n    def whoisThis(self):\\n        print(\"Bird\")\\n\\n    def swim(self):\\n        print(\"Swim faster\")\\n\\n# child class\\nclass Penguin(Bird):\\n\\n    def __init__(self):\\n        # call super() function\\n        super().__init__(Penguin,self)\\n        print(\"Penguin is ready\")\\n\\n    def whoisThis(self):\\n        print(\"Penguin\")\\n\\n    def run(self):\\n        print(\"Run faster\")',\n",
       "  'peggy = Penguin()\\npeggy.whoisThis()\\npeggy.swim()\\npeggy.run()',\n",
       "  '# parent class\\nclass Bird:\\n    \\n    def __init__(self):\\n        print(\"Bird is ready\")\\n\\n    def whoisThis(self):\\n        print(\"Bird\")\\n\\n    def swim(self):\\n        print(\"Swim faster\")\\n\\n# child class\\nclass Penguin(Bird):\\n\\n    def __init__(self):\\n        # call super() function\\n        super().__init__(self)\\n        print(\"Penguin is ready\")\\n\\n    def whoisThis(self):\\n        print(\"Penguin\")\\n\\n    def run(self):\\n        print(\"Run faster\")',\n",
       "  'peggy = Penguin()\\npeggy.whoisThis()\\npeggy.swim()\\npeggy.run()',\n",
       "  '# parent class\\nclass Bird:\\n    \\n    def __init__(self):\\n        print(\"Bird is ready\")\\n\\n    def whoisThis(self):\\n        print(\"Bird\")\\n\\n    def swim(self):\\n        print(\"Swim faster\")\\n\\n# child class\\nclass Penguin(Bird):\\n\\n    def __init__(self):\\n        # call super() function\\n        super(Penguin,self).__init__()\\n        print(\"Penguin is ready\")\\n\\n    def whoisThis(self):\\n        print(\"Penguin\")\\n\\n    def run(self):\\n        print(\"Run faster\")',\n",
       "  'peggy = Penguin()\\npeggy.whoisThis()\\npeggy.swim()\\npeggy.run()',\n",
       "  '# parent class\\nclass Bird:\\n    \\n    def __init__(self):\\n        print(\"Bird is ready\")\\n\\n    def whoisThis(self):\\n        print(\"Bird\")\\n\\n    def swim(self):\\n        print(\"Swim faster\")\\n\\n# child class\\nclass Penguin(Bird):\\n\\n    def __init__(self):\\n        # call super() function\\n        super().__init__()\\n        print(\"Penguin is ready\")\\n\\n    def whoisThis(self):\\n        print(\"Penguin\")\\n\\n    def run(self):\\n        print(\"Run faster\")',\n",
       "  'peggy = Penguin()\\npeggy.whoisThis()\\npeggy.swim()\\npeggy.run()',\n",
       "  '# parent class\\nclass Bird:\\n    \\n    def __init__(self):\\n        print(\"Bird is ready\")\\n\\n    def whoisThis(self):\\n        print(\"Bird\")\\n\\n    def swim(self):\\n        print(\"Swim faster\")\\n\\n# child class\\nclass Penguin(Bird):\\n\\n    def __init__(self):\\n        # call super() function\\n        super(Penguin).__init__()\\n        print(\"Penguin is ready\")\\n\\n    def whoisThis(self):\\n        print(\"Penguin\")\\n\\n    def run(self):\\n        print(\"Run faster\")',\n",
       "  'peggy = Penguin()\\npeggy.whoisThis()\\npeggy.swim()\\npeggy.run()',\n",
       "  '# parent class\\nclass Bird:\\n    \\n    def __init__(self):\\n        print(\"Bird is ready\")\\n\\n    def whoisThis(self):\\n        print(\"Bird\")\\n\\n    def swim(self):\\n        print(\"Swim faster\")\\n\\n# child class\\nclass Penguin(Bird):\\n\\n    def __init__(self):\\n        # call super() function\\n        super(Penguin,self).__init__()\\n        print(\"Penguin is ready\")\\n\\n    def whoisThis(self):\\n        print(\"Penguin\")\\n\\n    def run(self):\\n        print(\"Run faster\")',\n",
       "  'peggy = Penguin()\\npeggy.whoisThis()\\npeggy.swim()\\npeggy.run()',\n",
       "  'peggy = Penguin()\\npeggy.__mro__()\\npeggy.whoisThis()\\npeggy.swim()\\npeggy.run()',\n",
       "  '\\n\\npeggy = Penguin()\\n#peggy.__mro__() #method resolution other : \\npeggy.whoisThis()\\npeggy.swim()\\npeggy.run()',\n",
       "  '\\n\\npeggy = Penguin()\\npeggy.__mro__() #method resolution other : \\npeggy.whoisThis()\\npeggy.swim()\\npeggy.run()',\n",
       "  '\\n\\npeggy = Penguin()\\npeggy.__mro__() #method resolution other \\npeggy.whoisThis()\\npeggy.swim()\\npeggy.run()',\n",
       "  '\\n\\npeggy = Penguin()\\npeggy.__mro__#method resolution other \\npeggy.whoisThis()\\npeggy.swim()\\npeggy.run()',\n",
       "  'dir(peggy)',\n",
       "  '\\n\\npeggy = Penguin()\\npeggy.__mro__()  #method resolution other \\npeggy.whoisThis()\\npeggy.swim()\\npeggy.run()',\n",
       "  '\\n\\npeggy = Penguin()\\npeggy.__mro__()  #method resolution other \\npeggy.whoisThis()\\npeggy.swim()\\npeggy.run()',\n",
       "  '\\n\\npeggy = Penguin()\\npeggy.__mro__  #method resolution other \\npeggy.whoisThis()\\npeggy.swim()\\npeggy.run()',\n",
       "  '\\n\\npeggy = Penguin()\\nPenguin.__mro__  #method resolution other \\npeggy.whoisThis()\\npeggy.swim()\\npeggy.run()',\n",
       "  '\\n\\npeggy = Penguin()\\npeggy.whoisThis()\\npeggy.swim()\\npeggy.run()',\n",
       "  'Penguin.__mro__  #method resolution other ',\n",
       "  'class Computer:\\n\\n    def __init__(self):\\n        self.__maxprice = 900\\n\\n    def sell(self):\\n        print(\"Selling Price: {}\".format(self.__maxprice))\\n\\n    def setMaxPrice(self, price):\\n        self.__maxprice = price\\n\\n        ',\n",
       "  'c = Computer()\\nc.sell()\\n\\n# change the price\\nc.__maxprice = 1000\\nc.sell()\\n\\n# using setter function\\nc.setMaxPrice(1000)\\nc.sell()',\n",
       "  'vars(c)',\n",
       "  'dir()',\n",
       "  'globals()'],\n",
       " 'Out': {34: ['__class__',\n",
       "   '__delattr__',\n",
       "   '__dict__',\n",
       "   '__dir__',\n",
       "   '__doc__',\n",
       "   '__eq__',\n",
       "   '__format__',\n",
       "   '__ge__',\n",
       "   '__getattribute__',\n",
       "   '__gt__',\n",
       "   '__hash__',\n",
       "   '__init__',\n",
       "   '__init_subclass__',\n",
       "   '__le__',\n",
       "   '__lt__',\n",
       "   '__module__',\n",
       "   '__ne__',\n",
       "   '__new__',\n",
       "   '__reduce__',\n",
       "   '__reduce_ex__',\n",
       "   '__repr__',\n",
       "   '__setattr__',\n",
       "   '__sizeof__',\n",
       "   '__str__',\n",
       "   '__subclasshook__',\n",
       "   '__weakref__',\n",
       "   'run',\n",
       "   'swim',\n",
       "   'whoisThis'],\n",
       "  40: (__main__.Penguin, __main__.Bird, object),\n",
       "  43: {'_Computer__maxprice': 1000, '__maxprice': 1000},\n",
       "  44: ['Bird',\n",
       "   'Computer',\n",
       "   'In',\n",
       "   'Out',\n",
       "   'Penguin',\n",
       "   '_',\n",
       "   '_34',\n",
       "   '_40',\n",
       "   '_43',\n",
       "   '__',\n",
       "   '___',\n",
       "   '__builtin__',\n",
       "   '__builtins__',\n",
       "   '__doc__',\n",
       "   '__loader__',\n",
       "   '__name__',\n",
       "   '__package__',\n",
       "   '__spec__',\n",
       "   '_dh',\n",
       "   '_i',\n",
       "   '_i1',\n",
       "   '_i10',\n",
       "   '_i11',\n",
       "   '_i12',\n",
       "   '_i13',\n",
       "   '_i14',\n",
       "   '_i15',\n",
       "   '_i16',\n",
       "   '_i17',\n",
       "   '_i18',\n",
       "   '_i19',\n",
       "   '_i2',\n",
       "   '_i20',\n",
       "   '_i21',\n",
       "   '_i22',\n",
       "   '_i23',\n",
       "   '_i24',\n",
       "   '_i25',\n",
       "   '_i26',\n",
       "   '_i27',\n",
       "   '_i28',\n",
       "   '_i29',\n",
       "   '_i3',\n",
       "   '_i30',\n",
       "   '_i31',\n",
       "   '_i32',\n",
       "   '_i33',\n",
       "   '_i34',\n",
       "   '_i35',\n",
       "   '_i36',\n",
       "   '_i37',\n",
       "   '_i38',\n",
       "   '_i39',\n",
       "   '_i4',\n",
       "   '_i40',\n",
       "   '_i41',\n",
       "   '_i42',\n",
       "   '_i43',\n",
       "   '_i44',\n",
       "   '_i5',\n",
       "   '_i6',\n",
       "   '_i7',\n",
       "   '_i8',\n",
       "   '_i9',\n",
       "   '_ih',\n",
       "   '_ii',\n",
       "   '_iii',\n",
       "   '_oh',\n",
       "   'c',\n",
       "   'exit',\n",
       "   'get_ipython',\n",
       "   'peggy',\n",
       "   'quit']},\n",
       " 'Penguin': __main__.Penguin,\n",
       " '_': ['Bird',\n",
       "  'Computer',\n",
       "  'In',\n",
       "  'Out',\n",
       "  'Penguin',\n",
       "  '_',\n",
       "  '_34',\n",
       "  '_40',\n",
       "  '_43',\n",
       "  '__',\n",
       "  '___',\n",
       "  '__builtin__',\n",
       "  '__builtins__',\n",
       "  '__doc__',\n",
       "  '__loader__',\n",
       "  '__name__',\n",
       "  '__package__',\n",
       "  '__spec__',\n",
       "  '_dh',\n",
       "  '_i',\n",
       "  '_i1',\n",
       "  '_i10',\n",
       "  '_i11',\n",
       "  '_i12',\n",
       "  '_i13',\n",
       "  '_i14',\n",
       "  '_i15',\n",
       "  '_i16',\n",
       "  '_i17',\n",
       "  '_i18',\n",
       "  '_i19',\n",
       "  '_i2',\n",
       "  '_i20',\n",
       "  '_i21',\n",
       "  '_i22',\n",
       "  '_i23',\n",
       "  '_i24',\n",
       "  '_i25',\n",
       "  '_i26',\n",
       "  '_i27',\n",
       "  '_i28',\n",
       "  '_i29',\n",
       "  '_i3',\n",
       "  '_i30',\n",
       "  '_i31',\n",
       "  '_i32',\n",
       "  '_i33',\n",
       "  '_i34',\n",
       "  '_i35',\n",
       "  '_i36',\n",
       "  '_i37',\n",
       "  '_i38',\n",
       "  '_i39',\n",
       "  '_i4',\n",
       "  '_i40',\n",
       "  '_i41',\n",
       "  '_i42',\n",
       "  '_i43',\n",
       "  '_i44',\n",
       "  '_i5',\n",
       "  '_i6',\n",
       "  '_i7',\n",
       "  '_i8',\n",
       "  '_i9',\n",
       "  '_ih',\n",
       "  '_ii',\n",
       "  '_iii',\n",
       "  '_oh',\n",
       "  'c',\n",
       "  'exit',\n",
       "  'get_ipython',\n",
       "  'peggy',\n",
       "  'quit'],\n",
       " '_34': ['__class__',\n",
       "  '__delattr__',\n",
       "  '__dict__',\n",
       "  '__dir__',\n",
       "  '__doc__',\n",
       "  '__eq__',\n",
       "  '__format__',\n",
       "  '__ge__',\n",
       "  '__getattribute__',\n",
       "  '__gt__',\n",
       "  '__hash__',\n",
       "  '__init__',\n",
       "  '__init_subclass__',\n",
       "  '__le__',\n",
       "  '__lt__',\n",
       "  '__module__',\n",
       "  '__ne__',\n",
       "  '__new__',\n",
       "  '__reduce__',\n",
       "  '__reduce_ex__',\n",
       "  '__repr__',\n",
       "  '__setattr__',\n",
       "  '__sizeof__',\n",
       "  '__str__',\n",
       "  '__subclasshook__',\n",
       "  '__weakref__',\n",
       "  'run',\n",
       "  'swim',\n",
       "  'whoisThis'],\n",
       " '_40': (__main__.Penguin, __main__.Bird, object),\n",
       " '_43': {'_Computer__maxprice': 1000, '__maxprice': 1000},\n",
       " '_44': ['Bird',\n",
       "  'Computer',\n",
       "  'In',\n",
       "  'Out',\n",
       "  'Penguin',\n",
       "  '_',\n",
       "  '_34',\n",
       "  '_40',\n",
       "  '_43',\n",
       "  '__',\n",
       "  '___',\n",
       "  '__builtin__',\n",
       "  '__builtins__',\n",
       "  '__doc__',\n",
       "  '__loader__',\n",
       "  '__name__',\n",
       "  '__package__',\n",
       "  '__spec__',\n",
       "  '_dh',\n",
       "  '_i',\n",
       "  '_i1',\n",
       "  '_i10',\n",
       "  '_i11',\n",
       "  '_i12',\n",
       "  '_i13',\n",
       "  '_i14',\n",
       "  '_i15',\n",
       "  '_i16',\n",
       "  '_i17',\n",
       "  '_i18',\n",
       "  '_i19',\n",
       "  '_i2',\n",
       "  '_i20',\n",
       "  '_i21',\n",
       "  '_i22',\n",
       "  '_i23',\n",
       "  '_i24',\n",
       "  '_i25',\n",
       "  '_i26',\n",
       "  '_i27',\n",
       "  '_i28',\n",
       "  '_i29',\n",
       "  '_i3',\n",
       "  '_i30',\n",
       "  '_i31',\n",
       "  '_i32',\n",
       "  '_i33',\n",
       "  '_i34',\n",
       "  '_i35',\n",
       "  '_i36',\n",
       "  '_i37',\n",
       "  '_i38',\n",
       "  '_i39',\n",
       "  '_i4',\n",
       "  '_i40',\n",
       "  '_i41',\n",
       "  '_i42',\n",
       "  '_i43',\n",
       "  '_i44',\n",
       "  '_i5',\n",
       "  '_i6',\n",
       "  '_i7',\n",
       "  '_i8',\n",
       "  '_i9',\n",
       "  '_ih',\n",
       "  '_ii',\n",
       "  '_iii',\n",
       "  '_oh',\n",
       "  'c',\n",
       "  'exit',\n",
       "  'get_ipython',\n",
       "  'peggy',\n",
       "  'quit'],\n",
       " '__': {'_Computer__maxprice': 1000, '__maxprice': 1000},\n",
       " '___': (__main__.Penguin, __main__.Bird, object),\n",
       " '__builtin__': <module 'builtins' (built-in)>,\n",
       " '__builtins__': <module 'builtins' (built-in)>,\n",
       " '__doc__': 'Automatically created module for IPython interactive environment',\n",
       " '__loader__': None,\n",
       " '__name__': '__main__',\n",
       " '__package__': None,\n",
       " '__spec__': None,\n",
       " '_dh': ['C:\\\\Users\\\\seongsong park\\\\gitWorkspace\\\\Bigdata-X-Campus'],\n",
       " '_i': 'dir()',\n",
       " '_i1': '# parent class\\nclass Bird: # attribute 0개 (mutable이기 때문에 가능)\\n    pass\\n   \"\"\" def __init__(self):\\n        print(\"Bird is ready\")\\n\\n    def whoisThis(self):\\n        print(\"Bird\")\\n\\n    def swim(self):\\n        print(\"Swim faster\") \"\"',\n",
       " '_i10': 'peggy = Penguin()\\npeggy.whoisThis()\\npeggy.swim()\\npeggy.run()',\n",
       " '_i11': '# parent class\\nclass Bird:\\n    \\n    def __init__(self):\\n        print(\"Bird is ready\")\\n\\n    def whoisThis(self):\\n        print(\"Bird\")\\n\\n    def swim(self):\\n        print(\"Swim faster\")\\n\\n# child class\\nclass Penguin(Bird):\\n\\n    def __init__(self):\\n        # call super() function\\n        __init__()\\n        print(\"Penguin is ready\")\\n\\n    def whoisThis(self):\\n        print(\"Penguin\")\\n\\n    def run(self):\\n        print(\"Run faster\")\\n\\npeggy = Penguin()\\npeggy.whoisThis()\\npeggy.swim()\\npeggy.run()',\n",
       " '_i12': 'peggy = Penguin()\\npeggy.whoisThis()\\npeggy.swim()\\npeggy.run()',\n",
       " '_i13': '# parent class\\nclass Bird:\\n    \\n    def __init__(self):\\n        print(\"Bird is ready\")\\n\\n    def whoisThis(self):\\n        print(\"Bird\")\\n\\n    def swim(self):\\n        print(\"Swim faster\")\\n\\n# child class\\nclass Penguin(Bird):\\n\\n    def __init__(self):\\n        # call super() function\\n        #super.__init__()\\n        print(\"Penguin is ready\")\\n\\n    def whoisThis(self):\\n        print(\"Penguin\")\\n\\n    def run(self):\\n        print(\"Run faster\")',\n",
       " '_i14': 'peggy = Penguin()\\npeggy.whoisThis()\\npeggy.swim()\\npeggy.run()',\n",
       " '_i15': '# parent class\\nclass Bird:\\n    \\n    def __init__(self):\\n        print(\"Bird is ready\")\\n\\n    def whoisThis(self):\\n        print(\"Bird\")\\n\\n    def swim(self):\\n        print(\"Swim faster\")\\n\\n# child class\\nclass Penguin(Bird):\\n\\n    def __init__(self):\\n        # call super() function\\n        super.__init__(Penguin,self)\\n        print(\"Penguin is ready\")\\n\\n    def whoisThis(self):\\n        print(\"Penguin\")\\n\\n    def run(self):\\n        print(\"Run faster\")',\n",
       " '_i16': 'peggy = Penguin()\\npeggy.whoisThis()\\npeggy.swim()\\npeggy.run()',\n",
       " '_i17': '# parent class\\nclass Bird:\\n    \\n    def __init__(self):\\n        print(\"Bird is ready\")\\n\\n    def whoisThis(self):\\n        print(\"Bird\")\\n\\n    def swim(self):\\n        print(\"Swim faster\")\\n\\n# child class\\nclass Penguin(Bird):\\n\\n    def __init__(self):\\n        # call super() function\\n        super().__init__(Penguin,self)\\n        print(\"Penguin is ready\")\\n\\n    def whoisThis(self):\\n        print(\"Penguin\")\\n\\n    def run(self):\\n        print(\"Run faster\")',\n",
       " '_i18': 'peggy = Penguin()\\npeggy.whoisThis()\\npeggy.swim()\\npeggy.run()',\n",
       " '_i19': '# parent class\\nclass Bird:\\n    \\n    def __init__(self):\\n        print(\"Bird is ready\")\\n\\n    def whoisThis(self):\\n        print(\"Bird\")\\n\\n    def swim(self):\\n        print(\"Swim faster\")\\n\\n# child class\\nclass Penguin(Bird):\\n\\n    def __init__(self):\\n        # call super() function\\n        super().__init__(self)\\n        print(\"Penguin is ready\")\\n\\n    def whoisThis(self):\\n        print(\"Penguin\")\\n\\n    def run(self):\\n        print(\"Run faster\")',\n",
       " '_i2': '# parent class\\nclass Bird: # attribute 0개 (mutable이기 때문에 가능)\\n\\n    def __init__(self):\\n        print(\"Bird is ready\")\\n\\n    def whoisThis(self):\\n        print(\"Bird\")\\n\\n    def swim(self):\\n        print(\"Swim faster\")',\n",
       " '_i20': 'peggy = Penguin()\\npeggy.whoisThis()\\npeggy.swim()\\npeggy.run()',\n",
       " '_i21': '# parent class\\nclass Bird:\\n    \\n    def __init__(self):\\n        print(\"Bird is ready\")\\n\\n    def whoisThis(self):\\n        print(\"Bird\")\\n\\n    def swim(self):\\n        print(\"Swim faster\")\\n\\n# child class\\nclass Penguin(Bird):\\n\\n    def __init__(self):\\n        # call super() function\\n        super(Penguin,self).__init__()\\n        print(\"Penguin is ready\")\\n\\n    def whoisThis(self):\\n        print(\"Penguin\")\\n\\n    def run(self):\\n        print(\"Run faster\")',\n",
       " '_i22': 'peggy = Penguin()\\npeggy.whoisThis()\\npeggy.swim()\\npeggy.run()',\n",
       " '_i23': '# parent class\\nclass Bird:\\n    \\n    def __init__(self):\\n        print(\"Bird is ready\")\\n\\n    def whoisThis(self):\\n        print(\"Bird\")\\n\\n    def swim(self):\\n        print(\"Swim faster\")\\n\\n# child class\\nclass Penguin(Bird):\\n\\n    def __init__(self):\\n        # call super() function\\n        super().__init__()\\n        print(\"Penguin is ready\")\\n\\n    def whoisThis(self):\\n        print(\"Penguin\")\\n\\n    def run(self):\\n        print(\"Run faster\")',\n",
       " '_i24': 'peggy = Penguin()\\npeggy.whoisThis()\\npeggy.swim()\\npeggy.run()',\n",
       " '_i25': '# parent class\\nclass Bird:\\n    \\n    def __init__(self):\\n        print(\"Bird is ready\")\\n\\n    def whoisThis(self):\\n        print(\"Bird\")\\n\\n    def swim(self):\\n        print(\"Swim faster\")\\n\\n# child class\\nclass Penguin(Bird):\\n\\n    def __init__(self):\\n        # call super() function\\n        super(Penguin).__init__()\\n        print(\"Penguin is ready\")\\n\\n    def whoisThis(self):\\n        print(\"Penguin\")\\n\\n    def run(self):\\n        print(\"Run faster\")',\n",
       " '_i26': 'peggy = Penguin()\\npeggy.whoisThis()\\npeggy.swim()\\npeggy.run()',\n",
       " '_i27': '# parent class\\nclass Bird:\\n    \\n    def __init__(self):\\n        print(\"Bird is ready\")\\n\\n    def whoisThis(self):\\n        print(\"Bird\")\\n\\n    def swim(self):\\n        print(\"Swim faster\")\\n\\n# child class\\nclass Penguin(Bird):\\n\\n    def __init__(self):\\n        # call super() function\\n        super(Penguin,self).__init__()\\n        print(\"Penguin is ready\")\\n\\n    def whoisThis(self):\\n        print(\"Penguin\")\\n\\n    def run(self):\\n        print(\"Run faster\")',\n",
       " '_i28': 'peggy = Penguin()\\npeggy.whoisThis()\\npeggy.swim()\\npeggy.run()',\n",
       " '_i29': 'peggy = Penguin()\\npeggy.__mro__()\\npeggy.whoisThis()\\npeggy.swim()\\npeggy.run()',\n",
       " '_i3': '# child class\\nclass Penguin(Bird): #펭귄 클래스는 버드 클래스 상속 받음의 의미\\n\\n    def __init__(self):\\n        # call super() function\\n        super().__init__()\\n        print(\"Penguin is ready\")\\n\\n    def whoisThis(self):\\n        print(\"Penguin\")\\n\\n    def run(self):\\n        print(\"Run faster\")',\n",
       " '_i30': '\\n\\npeggy = Penguin()\\n#peggy.__mro__() #method resolution other : \\npeggy.whoisThis()\\npeggy.swim()\\npeggy.run()',\n",
       " '_i31': '\\n\\npeggy = Penguin()\\npeggy.__mro__() #method resolution other : \\npeggy.whoisThis()\\npeggy.swim()\\npeggy.run()',\n",
       " '_i32': '\\n\\npeggy = Penguin()\\npeggy.__mro__() #method resolution other \\npeggy.whoisThis()\\npeggy.swim()\\npeggy.run()',\n",
       " '_i33': '\\n\\npeggy = Penguin()\\npeggy.__mro__#method resolution other \\npeggy.whoisThis()\\npeggy.swim()\\npeggy.run()',\n",
       " '_i34': 'dir(peggy)',\n",
       " '_i35': '\\n\\npeggy = Penguin()\\npeggy.__mro__()  #method resolution other \\npeggy.whoisThis()\\npeggy.swim()\\npeggy.run()',\n",
       " '_i36': '\\n\\npeggy = Penguin()\\npeggy.__mro__()  #method resolution other \\npeggy.whoisThis()\\npeggy.swim()\\npeggy.run()',\n",
       " '_i37': '\\n\\npeggy = Penguin()\\npeggy.__mro__  #method resolution other \\npeggy.whoisThis()\\npeggy.swim()\\npeggy.run()',\n",
       " '_i38': '\\n\\npeggy = Penguin()\\nPenguin.__mro__  #method resolution other \\npeggy.whoisThis()\\npeggy.swim()\\npeggy.run()',\n",
       " '_i39': '\\n\\npeggy = Penguin()\\npeggy.whoisThis()\\npeggy.swim()\\npeggy.run()',\n",
       " '_i4': 'peggy = Penguin()\\npeggy.whoisThis()\\npeggy.swim()\\npeggy.run()',\n",
       " '_i40': 'Penguin.__mro__  #method resolution other ',\n",
       " '_i41': 'class Computer:\\n\\n    def __init__(self):\\n        self.__maxprice = 900\\n\\n    def sell(self):\\n        print(\"Selling Price: {}\".format(self.__maxprice))\\n\\n    def setMaxPrice(self, price):\\n        self.__maxprice = price\\n\\n        ',\n",
       " '_i42': 'c = Computer()\\nc.sell()\\n\\n# change the price\\nc.__maxprice = 1000\\nc.sell()\\n\\n# using setter function\\nc.setMaxPrice(1000)\\nc.sell()',\n",
       " '_i43': 'vars(c)',\n",
       " '_i44': 'dir()',\n",
       " '_i45': 'globals()',\n",
       " '_i5': '# child class\\nclass Penguin(Bird): #펭귄 클래스는 버드 클래스 상속 받음의 의미\\n\\n    def __init__(self):\\n        # call super() function\\n        super().__init__()\\n        print(\"Penguin is ready\")\\n\\n    def whoisThis(self):\\n        print(\"Penguin\")\\n\\n    def run(self): #부모에 없는 메소드 추가 가능\\n        print(\"Run faster\")\\n        \\n    def swim(self):\\n        print(\"i cannot swim\") #이렇게 할 경우에 부모의 메소드 바꿔주는거 : overriding',\n",
       " '_i6': 'peggy = Penguin()\\npeggy.whoisThis()\\npeggy.swim()\\npeggy.run()',\n",
       " '_i7': '# child class , 이거 이용해서 남이 만든 클래스 재사용, 추가 가능\\nclass Penguin(Bird): #펭귄 클래스는 버드 클래스 상속 받음의 의미\\n\\n    def __init__(self):\\n        # call super() function\\n        #super().__init__() # super눈 부모가 가진거 실행하라는 것. \\n        print(\"Penguin is ready\")\\n\\n    def whoisThis(self):\\n        print(\"Penguin\")\\n\\n    def run(self): #부모에 없는 메소드 추가 가능\\n        print(\"Run faster\")\\n        \\n    def swim(self):\\n        print(\"i cannot swim\") #이렇게 할 경우에 부모의 메소드 바꿔주는거 : overriding',\n",
       " '_i8': 'peggy = Penguin()\\npeggy.whoisThis()\\npeggy.swim()\\npeggy.run()',\n",
       " '_i9': '# child class , 이거 이용해서 남이 만든 클래스 재사용, 추가 가능\\nclass Penguin(Bird): #펭귄 클래스는 버드 클래스 상속 받음의 의미\\n\\n    def __init__(self):\\n        # call super() function\\n        super().__init__() # super눈 부모가 가진거 실행하라는 것. \\n        print(\"Penguin is ready\")\\n\\n    def whoisThis(self):\\n        print(\"Penguin\")\\n\\n    def run(self): #부모에 없는 메소드 추가 가능\\n        print(\"Run faster\")\\n        \\n    def swim(self):\\n        print(\"i cannot swim\") #이렇게 할 경우에 부모의 메소드 바꿔주는거 : overriding',\n",
       " '_ih': ['',\n",
       "  '# parent class\\nclass Bird: # attribute 0개 (mutable이기 때문에 가능)\\n    pass\\n   \"\"\" def __init__(self):\\n        print(\"Bird is ready\")\\n\\n    def whoisThis(self):\\n        print(\"Bird\")\\n\\n    def swim(self):\\n        print(\"Swim faster\") \"\"',\n",
       "  '# parent class\\nclass Bird: # attribute 0개 (mutable이기 때문에 가능)\\n\\n    def __init__(self):\\n        print(\"Bird is ready\")\\n\\n    def whoisThis(self):\\n        print(\"Bird\")\\n\\n    def swim(self):\\n        print(\"Swim faster\")',\n",
       "  '# child class\\nclass Penguin(Bird): #펭귄 클래스는 버드 클래스 상속 받음의 의미\\n\\n    def __init__(self):\\n        # call super() function\\n        super().__init__()\\n        print(\"Penguin is ready\")\\n\\n    def whoisThis(self):\\n        print(\"Penguin\")\\n\\n    def run(self):\\n        print(\"Run faster\")',\n",
       "  'peggy = Penguin()\\npeggy.whoisThis()\\npeggy.swim()\\npeggy.run()',\n",
       "  '# child class\\nclass Penguin(Bird): #펭귄 클래스는 버드 클래스 상속 받음의 의미\\n\\n    def __init__(self):\\n        # call super() function\\n        super().__init__()\\n        print(\"Penguin is ready\")\\n\\n    def whoisThis(self):\\n        print(\"Penguin\")\\n\\n    def run(self): #부모에 없는 메소드 추가 가능\\n        print(\"Run faster\")\\n        \\n    def swim(self):\\n        print(\"i cannot swim\") #이렇게 할 경우에 부모의 메소드 바꿔주는거 : overriding',\n",
       "  'peggy = Penguin()\\npeggy.whoisThis()\\npeggy.swim()\\npeggy.run()',\n",
       "  '# child class , 이거 이용해서 남이 만든 클래스 재사용, 추가 가능\\nclass Penguin(Bird): #펭귄 클래스는 버드 클래스 상속 받음의 의미\\n\\n    def __init__(self):\\n        # call super() function\\n        #super().__init__() # super눈 부모가 가진거 실행하라는 것. \\n        print(\"Penguin is ready\")\\n\\n    def whoisThis(self):\\n        print(\"Penguin\")\\n\\n    def run(self): #부모에 없는 메소드 추가 가능\\n        print(\"Run faster\")\\n        \\n    def swim(self):\\n        print(\"i cannot swim\") #이렇게 할 경우에 부모의 메소드 바꿔주는거 : overriding',\n",
       "  'peggy = Penguin()\\npeggy.whoisThis()\\npeggy.swim()\\npeggy.run()',\n",
       "  '# child class , 이거 이용해서 남이 만든 클래스 재사용, 추가 가능\\nclass Penguin(Bird): #펭귄 클래스는 버드 클래스 상속 받음의 의미\\n\\n    def __init__(self):\\n        # call super() function\\n        super().__init__() # super눈 부모가 가진거 실행하라는 것. \\n        print(\"Penguin is ready\")\\n\\n    def whoisThis(self):\\n        print(\"Penguin\")\\n\\n    def run(self): #부모에 없는 메소드 추가 가능\\n        print(\"Run faster\")\\n        \\n    def swim(self):\\n        print(\"i cannot swim\") #이렇게 할 경우에 부모의 메소드 바꿔주는거 : overriding',\n",
       "  'peggy = Penguin()\\npeggy.whoisThis()\\npeggy.swim()\\npeggy.run()',\n",
       "  '# parent class\\nclass Bird:\\n    \\n    def __init__(self):\\n        print(\"Bird is ready\")\\n\\n    def whoisThis(self):\\n        print(\"Bird\")\\n\\n    def swim(self):\\n        print(\"Swim faster\")\\n\\n# child class\\nclass Penguin(Bird):\\n\\n    def __init__(self):\\n        # call super() function\\n        __init__()\\n        print(\"Penguin is ready\")\\n\\n    def whoisThis(self):\\n        print(\"Penguin\")\\n\\n    def run(self):\\n        print(\"Run faster\")\\n\\npeggy = Penguin()\\npeggy.whoisThis()\\npeggy.swim()\\npeggy.run()',\n",
       "  'peggy = Penguin()\\npeggy.whoisThis()\\npeggy.swim()\\npeggy.run()',\n",
       "  '# parent class\\nclass Bird:\\n    \\n    def __init__(self):\\n        print(\"Bird is ready\")\\n\\n    def whoisThis(self):\\n        print(\"Bird\")\\n\\n    def swim(self):\\n        print(\"Swim faster\")\\n\\n# child class\\nclass Penguin(Bird):\\n\\n    def __init__(self):\\n        # call super() function\\n        #super.__init__()\\n        print(\"Penguin is ready\")\\n\\n    def whoisThis(self):\\n        print(\"Penguin\")\\n\\n    def run(self):\\n        print(\"Run faster\")',\n",
       "  'peggy = Penguin()\\npeggy.whoisThis()\\npeggy.swim()\\npeggy.run()',\n",
       "  '# parent class\\nclass Bird:\\n    \\n    def __init__(self):\\n        print(\"Bird is ready\")\\n\\n    def whoisThis(self):\\n        print(\"Bird\")\\n\\n    def swim(self):\\n        print(\"Swim faster\")\\n\\n# child class\\nclass Penguin(Bird):\\n\\n    def __init__(self):\\n        # call super() function\\n        super.__init__(Penguin,self)\\n        print(\"Penguin is ready\")\\n\\n    def whoisThis(self):\\n        print(\"Penguin\")\\n\\n    def run(self):\\n        print(\"Run faster\")',\n",
       "  'peggy = Penguin()\\npeggy.whoisThis()\\npeggy.swim()\\npeggy.run()',\n",
       "  '# parent class\\nclass Bird:\\n    \\n    def __init__(self):\\n        print(\"Bird is ready\")\\n\\n    def whoisThis(self):\\n        print(\"Bird\")\\n\\n    def swim(self):\\n        print(\"Swim faster\")\\n\\n# child class\\nclass Penguin(Bird):\\n\\n    def __init__(self):\\n        # call super() function\\n        super().__init__(Penguin,self)\\n        print(\"Penguin is ready\")\\n\\n    def whoisThis(self):\\n        print(\"Penguin\")\\n\\n    def run(self):\\n        print(\"Run faster\")',\n",
       "  'peggy = Penguin()\\npeggy.whoisThis()\\npeggy.swim()\\npeggy.run()',\n",
       "  '# parent class\\nclass Bird:\\n    \\n    def __init__(self):\\n        print(\"Bird is ready\")\\n\\n    def whoisThis(self):\\n        print(\"Bird\")\\n\\n    def swim(self):\\n        print(\"Swim faster\")\\n\\n# child class\\nclass Penguin(Bird):\\n\\n    def __init__(self):\\n        # call super() function\\n        super().__init__(self)\\n        print(\"Penguin is ready\")\\n\\n    def whoisThis(self):\\n        print(\"Penguin\")\\n\\n    def run(self):\\n        print(\"Run faster\")',\n",
       "  'peggy = Penguin()\\npeggy.whoisThis()\\npeggy.swim()\\npeggy.run()',\n",
       "  '# parent class\\nclass Bird:\\n    \\n    def __init__(self):\\n        print(\"Bird is ready\")\\n\\n    def whoisThis(self):\\n        print(\"Bird\")\\n\\n    def swim(self):\\n        print(\"Swim faster\")\\n\\n# child class\\nclass Penguin(Bird):\\n\\n    def __init__(self):\\n        # call super() function\\n        super(Penguin,self).__init__()\\n        print(\"Penguin is ready\")\\n\\n    def whoisThis(self):\\n        print(\"Penguin\")\\n\\n    def run(self):\\n        print(\"Run faster\")',\n",
       "  'peggy = Penguin()\\npeggy.whoisThis()\\npeggy.swim()\\npeggy.run()',\n",
       "  '# parent class\\nclass Bird:\\n    \\n    def __init__(self):\\n        print(\"Bird is ready\")\\n\\n    def whoisThis(self):\\n        print(\"Bird\")\\n\\n    def swim(self):\\n        print(\"Swim faster\")\\n\\n# child class\\nclass Penguin(Bird):\\n\\n    def __init__(self):\\n        # call super() function\\n        super().__init__()\\n        print(\"Penguin is ready\")\\n\\n    def whoisThis(self):\\n        print(\"Penguin\")\\n\\n    def run(self):\\n        print(\"Run faster\")',\n",
       "  'peggy = Penguin()\\npeggy.whoisThis()\\npeggy.swim()\\npeggy.run()',\n",
       "  '# parent class\\nclass Bird:\\n    \\n    def __init__(self):\\n        print(\"Bird is ready\")\\n\\n    def whoisThis(self):\\n        print(\"Bird\")\\n\\n    def swim(self):\\n        print(\"Swim faster\")\\n\\n# child class\\nclass Penguin(Bird):\\n\\n    def __init__(self):\\n        # call super() function\\n        super(Penguin).__init__()\\n        print(\"Penguin is ready\")\\n\\n    def whoisThis(self):\\n        print(\"Penguin\")\\n\\n    def run(self):\\n        print(\"Run faster\")',\n",
       "  'peggy = Penguin()\\npeggy.whoisThis()\\npeggy.swim()\\npeggy.run()',\n",
       "  '# parent class\\nclass Bird:\\n    \\n    def __init__(self):\\n        print(\"Bird is ready\")\\n\\n    def whoisThis(self):\\n        print(\"Bird\")\\n\\n    def swim(self):\\n        print(\"Swim faster\")\\n\\n# child class\\nclass Penguin(Bird):\\n\\n    def __init__(self):\\n        # call super() function\\n        super(Penguin,self).__init__()\\n        print(\"Penguin is ready\")\\n\\n    def whoisThis(self):\\n        print(\"Penguin\")\\n\\n    def run(self):\\n        print(\"Run faster\")',\n",
       "  'peggy = Penguin()\\npeggy.whoisThis()\\npeggy.swim()\\npeggy.run()',\n",
       "  'peggy = Penguin()\\npeggy.__mro__()\\npeggy.whoisThis()\\npeggy.swim()\\npeggy.run()',\n",
       "  '\\n\\npeggy = Penguin()\\n#peggy.__mro__() #method resolution other : \\npeggy.whoisThis()\\npeggy.swim()\\npeggy.run()',\n",
       "  '\\n\\npeggy = Penguin()\\npeggy.__mro__() #method resolution other : \\npeggy.whoisThis()\\npeggy.swim()\\npeggy.run()',\n",
       "  '\\n\\npeggy = Penguin()\\npeggy.__mro__() #method resolution other \\npeggy.whoisThis()\\npeggy.swim()\\npeggy.run()',\n",
       "  '\\n\\npeggy = Penguin()\\npeggy.__mro__#method resolution other \\npeggy.whoisThis()\\npeggy.swim()\\npeggy.run()',\n",
       "  'dir(peggy)',\n",
       "  '\\n\\npeggy = Penguin()\\npeggy.__mro__()  #method resolution other \\npeggy.whoisThis()\\npeggy.swim()\\npeggy.run()',\n",
       "  '\\n\\npeggy = Penguin()\\npeggy.__mro__()  #method resolution other \\npeggy.whoisThis()\\npeggy.swim()\\npeggy.run()',\n",
       "  '\\n\\npeggy = Penguin()\\npeggy.__mro__  #method resolution other \\npeggy.whoisThis()\\npeggy.swim()\\npeggy.run()',\n",
       "  '\\n\\npeggy = Penguin()\\nPenguin.__mro__  #method resolution other \\npeggy.whoisThis()\\npeggy.swim()\\npeggy.run()',\n",
       "  '\\n\\npeggy = Penguin()\\npeggy.whoisThis()\\npeggy.swim()\\npeggy.run()',\n",
       "  'Penguin.__mro__  #method resolution other ',\n",
       "  'class Computer:\\n\\n    def __init__(self):\\n        self.__maxprice = 900\\n\\n    def sell(self):\\n        print(\"Selling Price: {}\".format(self.__maxprice))\\n\\n    def setMaxPrice(self, price):\\n        self.__maxprice = price\\n\\n        ',\n",
       "  'c = Computer()\\nc.sell()\\n\\n# change the price\\nc.__maxprice = 1000\\nc.sell()\\n\\n# using setter function\\nc.setMaxPrice(1000)\\nc.sell()',\n",
       "  'vars(c)',\n",
       "  'dir()',\n",
       "  'globals()'],\n",
       " '_ii': 'vars(c)',\n",
       " '_iii': 'c = Computer()\\nc.sell()\\n\\n# change the price\\nc.__maxprice = 1000\\nc.sell()\\n\\n# using setter function\\nc.setMaxPrice(1000)\\nc.sell()',\n",
       " '_oh': {34: ['__class__',\n",
       "   '__delattr__',\n",
       "   '__dict__',\n",
       "   '__dir__',\n",
       "   '__doc__',\n",
       "   '__eq__',\n",
       "   '__format__',\n",
       "   '__ge__',\n",
       "   '__getattribute__',\n",
       "   '__gt__',\n",
       "   '__hash__',\n",
       "   '__init__',\n",
       "   '__init_subclass__',\n",
       "   '__le__',\n",
       "   '__lt__',\n",
       "   '__module__',\n",
       "   '__ne__',\n",
       "   '__new__',\n",
       "   '__reduce__',\n",
       "   '__reduce_ex__',\n",
       "   '__repr__',\n",
       "   '__setattr__',\n",
       "   '__sizeof__',\n",
       "   '__str__',\n",
       "   '__subclasshook__',\n",
       "   '__weakref__',\n",
       "   'run',\n",
       "   'swim',\n",
       "   'whoisThis'],\n",
       "  40: (__main__.Penguin, __main__.Bird, object),\n",
       "  43: {'_Computer__maxprice': 1000, '__maxprice': 1000},\n",
       "  44: ['Bird',\n",
       "   'Computer',\n",
       "   'In',\n",
       "   'Out',\n",
       "   'Penguin',\n",
       "   '_',\n",
       "   '_34',\n",
       "   '_40',\n",
       "   '_43',\n",
       "   '__',\n",
       "   '___',\n",
       "   '__builtin__',\n",
       "   '__builtins__',\n",
       "   '__doc__',\n",
       "   '__loader__',\n",
       "   '__name__',\n",
       "   '__package__',\n",
       "   '__spec__',\n",
       "   '_dh',\n",
       "   '_i',\n",
       "   '_i1',\n",
       "   '_i10',\n",
       "   '_i11',\n",
       "   '_i12',\n",
       "   '_i13',\n",
       "   '_i14',\n",
       "   '_i15',\n",
       "   '_i16',\n",
       "   '_i17',\n",
       "   '_i18',\n",
       "   '_i19',\n",
       "   '_i2',\n",
       "   '_i20',\n",
       "   '_i21',\n",
       "   '_i22',\n",
       "   '_i23',\n",
       "   '_i24',\n",
       "   '_i25',\n",
       "   '_i26',\n",
       "   '_i27',\n",
       "   '_i28',\n",
       "   '_i29',\n",
       "   '_i3',\n",
       "   '_i30',\n",
       "   '_i31',\n",
       "   '_i32',\n",
       "   '_i33',\n",
       "   '_i34',\n",
       "   '_i35',\n",
       "   '_i36',\n",
       "   '_i37',\n",
       "   '_i38',\n",
       "   '_i39',\n",
       "   '_i4',\n",
       "   '_i40',\n",
       "   '_i41',\n",
       "   '_i42',\n",
       "   '_i43',\n",
       "   '_i44',\n",
       "   '_i5',\n",
       "   '_i6',\n",
       "   '_i7',\n",
       "   '_i8',\n",
       "   '_i9',\n",
       "   '_ih',\n",
       "   '_ii',\n",
       "   '_iii',\n",
       "   '_oh',\n",
       "   'c',\n",
       "   'exit',\n",
       "   'get_ipython',\n",
       "   'peggy',\n",
       "   'quit']},\n",
       " 'c': <__main__.Computer at 0x18f66665828>,\n",
       " 'exit': <IPython.core.autocall.ZMQExitAutocall at 0x18f653ea518>,\n",
       " 'get_ipython': <bound method InteractiveShell.get_ipython of <ipykernel.zmqshell.ZMQInteractiveShell object at 0x0000018F653CD080>>,\n",
       " 'peggy': <__main__.Penguin at 0x18f665f9278>,\n",
       " 'quit': <IPython.core.autocall.ZMQExitAutocall at 0x18f653ea518>}"
      ]
     },
     "execution_count": 45,
     "metadata": {},
     "output_type": "execute_result"
    }
   ],
   "source": [
    "globals() #global에 저장되어있는거 다 보여주는거"
   ]
  },
  {
   "cell_type": "code",
   "execution_count": 46,
   "metadata": {},
   "outputs": [
    {
     "data": {
      "text/plain": [
       "{'Bird': __main__.Bird,\n",
       " 'Computer': __main__.Computer,\n",
       " 'In': ['',\n",
       "  '# parent class\\nclass Bird: # attribute 0개 (mutable이기 때문에 가능)\\n    pass\\n   \"\"\" def __init__(self):\\n        print(\"Bird is ready\")\\n\\n    def whoisThis(self):\\n        print(\"Bird\")\\n\\n    def swim(self):\\n        print(\"Swim faster\") \"\"',\n",
       "  '# parent class\\nclass Bird: # attribute 0개 (mutable이기 때문에 가능)\\n\\n    def __init__(self):\\n        print(\"Bird is ready\")\\n\\n    def whoisThis(self):\\n        print(\"Bird\")\\n\\n    def swim(self):\\n        print(\"Swim faster\")',\n",
       "  '# child class\\nclass Penguin(Bird): #펭귄 클래스는 버드 클래스 상속 받음의 의미\\n\\n    def __init__(self):\\n        # call super() function\\n        super().__init__()\\n        print(\"Penguin is ready\")\\n\\n    def whoisThis(self):\\n        print(\"Penguin\")\\n\\n    def run(self):\\n        print(\"Run faster\")',\n",
       "  'peggy = Penguin()\\npeggy.whoisThis()\\npeggy.swim()\\npeggy.run()',\n",
       "  '# child class\\nclass Penguin(Bird): #펭귄 클래스는 버드 클래스 상속 받음의 의미\\n\\n    def __init__(self):\\n        # call super() function\\n        super().__init__()\\n        print(\"Penguin is ready\")\\n\\n    def whoisThis(self):\\n        print(\"Penguin\")\\n\\n    def run(self): #부모에 없는 메소드 추가 가능\\n        print(\"Run faster\")\\n        \\n    def swim(self):\\n        print(\"i cannot swim\") #이렇게 할 경우에 부모의 메소드 바꿔주는거 : overriding',\n",
       "  'peggy = Penguin()\\npeggy.whoisThis()\\npeggy.swim()\\npeggy.run()',\n",
       "  '# child class , 이거 이용해서 남이 만든 클래스 재사용, 추가 가능\\nclass Penguin(Bird): #펭귄 클래스는 버드 클래스 상속 받음의 의미\\n\\n    def __init__(self):\\n        # call super() function\\n        #super().__init__() # super눈 부모가 가진거 실행하라는 것. \\n        print(\"Penguin is ready\")\\n\\n    def whoisThis(self):\\n        print(\"Penguin\")\\n\\n    def run(self): #부모에 없는 메소드 추가 가능\\n        print(\"Run faster\")\\n        \\n    def swim(self):\\n        print(\"i cannot swim\") #이렇게 할 경우에 부모의 메소드 바꿔주는거 : overriding',\n",
       "  'peggy = Penguin()\\npeggy.whoisThis()\\npeggy.swim()\\npeggy.run()',\n",
       "  '# child class , 이거 이용해서 남이 만든 클래스 재사용, 추가 가능\\nclass Penguin(Bird): #펭귄 클래스는 버드 클래스 상속 받음의 의미\\n\\n    def __init__(self):\\n        # call super() function\\n        super().__init__() # super눈 부모가 가진거 실행하라는 것. \\n        print(\"Penguin is ready\")\\n\\n    def whoisThis(self):\\n        print(\"Penguin\")\\n\\n    def run(self): #부모에 없는 메소드 추가 가능\\n        print(\"Run faster\")\\n        \\n    def swim(self):\\n        print(\"i cannot swim\") #이렇게 할 경우에 부모의 메소드 바꿔주는거 : overriding',\n",
       "  'peggy = Penguin()\\npeggy.whoisThis()\\npeggy.swim()\\npeggy.run()',\n",
       "  '# parent class\\nclass Bird:\\n    \\n    def __init__(self):\\n        print(\"Bird is ready\")\\n\\n    def whoisThis(self):\\n        print(\"Bird\")\\n\\n    def swim(self):\\n        print(\"Swim faster\")\\n\\n# child class\\nclass Penguin(Bird):\\n\\n    def __init__(self):\\n        # call super() function\\n        __init__()\\n        print(\"Penguin is ready\")\\n\\n    def whoisThis(self):\\n        print(\"Penguin\")\\n\\n    def run(self):\\n        print(\"Run faster\")\\n\\npeggy = Penguin()\\npeggy.whoisThis()\\npeggy.swim()\\npeggy.run()',\n",
       "  'peggy = Penguin()\\npeggy.whoisThis()\\npeggy.swim()\\npeggy.run()',\n",
       "  '# parent class\\nclass Bird:\\n    \\n    def __init__(self):\\n        print(\"Bird is ready\")\\n\\n    def whoisThis(self):\\n        print(\"Bird\")\\n\\n    def swim(self):\\n        print(\"Swim faster\")\\n\\n# child class\\nclass Penguin(Bird):\\n\\n    def __init__(self):\\n        # call super() function\\n        #super.__init__()\\n        print(\"Penguin is ready\")\\n\\n    def whoisThis(self):\\n        print(\"Penguin\")\\n\\n    def run(self):\\n        print(\"Run faster\")',\n",
       "  'peggy = Penguin()\\npeggy.whoisThis()\\npeggy.swim()\\npeggy.run()',\n",
       "  '# parent class\\nclass Bird:\\n    \\n    def __init__(self):\\n        print(\"Bird is ready\")\\n\\n    def whoisThis(self):\\n        print(\"Bird\")\\n\\n    def swim(self):\\n        print(\"Swim faster\")\\n\\n# child class\\nclass Penguin(Bird):\\n\\n    def __init__(self):\\n        # call super() function\\n        super.__init__(Penguin,self)\\n        print(\"Penguin is ready\")\\n\\n    def whoisThis(self):\\n        print(\"Penguin\")\\n\\n    def run(self):\\n        print(\"Run faster\")',\n",
       "  'peggy = Penguin()\\npeggy.whoisThis()\\npeggy.swim()\\npeggy.run()',\n",
       "  '# parent class\\nclass Bird:\\n    \\n    def __init__(self):\\n        print(\"Bird is ready\")\\n\\n    def whoisThis(self):\\n        print(\"Bird\")\\n\\n    def swim(self):\\n        print(\"Swim faster\")\\n\\n# child class\\nclass Penguin(Bird):\\n\\n    def __init__(self):\\n        # call super() function\\n        super().__init__(Penguin,self)\\n        print(\"Penguin is ready\")\\n\\n    def whoisThis(self):\\n        print(\"Penguin\")\\n\\n    def run(self):\\n        print(\"Run faster\")',\n",
       "  'peggy = Penguin()\\npeggy.whoisThis()\\npeggy.swim()\\npeggy.run()',\n",
       "  '# parent class\\nclass Bird:\\n    \\n    def __init__(self):\\n        print(\"Bird is ready\")\\n\\n    def whoisThis(self):\\n        print(\"Bird\")\\n\\n    def swim(self):\\n        print(\"Swim faster\")\\n\\n# child class\\nclass Penguin(Bird):\\n\\n    def __init__(self):\\n        # call super() function\\n        super().__init__(self)\\n        print(\"Penguin is ready\")\\n\\n    def whoisThis(self):\\n        print(\"Penguin\")\\n\\n    def run(self):\\n        print(\"Run faster\")',\n",
       "  'peggy = Penguin()\\npeggy.whoisThis()\\npeggy.swim()\\npeggy.run()',\n",
       "  '# parent class\\nclass Bird:\\n    \\n    def __init__(self):\\n        print(\"Bird is ready\")\\n\\n    def whoisThis(self):\\n        print(\"Bird\")\\n\\n    def swim(self):\\n        print(\"Swim faster\")\\n\\n# child class\\nclass Penguin(Bird):\\n\\n    def __init__(self):\\n        # call super() function\\n        super(Penguin,self).__init__()\\n        print(\"Penguin is ready\")\\n\\n    def whoisThis(self):\\n        print(\"Penguin\")\\n\\n    def run(self):\\n        print(\"Run faster\")',\n",
       "  'peggy = Penguin()\\npeggy.whoisThis()\\npeggy.swim()\\npeggy.run()',\n",
       "  '# parent class\\nclass Bird:\\n    \\n    def __init__(self):\\n        print(\"Bird is ready\")\\n\\n    def whoisThis(self):\\n        print(\"Bird\")\\n\\n    def swim(self):\\n        print(\"Swim faster\")\\n\\n# child class\\nclass Penguin(Bird):\\n\\n    def __init__(self):\\n        # call super() function\\n        super().__init__()\\n        print(\"Penguin is ready\")\\n\\n    def whoisThis(self):\\n        print(\"Penguin\")\\n\\n    def run(self):\\n        print(\"Run faster\")',\n",
       "  'peggy = Penguin()\\npeggy.whoisThis()\\npeggy.swim()\\npeggy.run()',\n",
       "  '# parent class\\nclass Bird:\\n    \\n    def __init__(self):\\n        print(\"Bird is ready\")\\n\\n    def whoisThis(self):\\n        print(\"Bird\")\\n\\n    def swim(self):\\n        print(\"Swim faster\")\\n\\n# child class\\nclass Penguin(Bird):\\n\\n    def __init__(self):\\n        # call super() function\\n        super(Penguin).__init__()\\n        print(\"Penguin is ready\")\\n\\n    def whoisThis(self):\\n        print(\"Penguin\")\\n\\n    def run(self):\\n        print(\"Run faster\")',\n",
       "  'peggy = Penguin()\\npeggy.whoisThis()\\npeggy.swim()\\npeggy.run()',\n",
       "  '# parent class\\nclass Bird:\\n    \\n    def __init__(self):\\n        print(\"Bird is ready\")\\n\\n    def whoisThis(self):\\n        print(\"Bird\")\\n\\n    def swim(self):\\n        print(\"Swim faster\")\\n\\n# child class\\nclass Penguin(Bird):\\n\\n    def __init__(self):\\n        # call super() function\\n        super(Penguin,self).__init__()\\n        print(\"Penguin is ready\")\\n\\n    def whoisThis(self):\\n        print(\"Penguin\")\\n\\n    def run(self):\\n        print(\"Run faster\")',\n",
       "  'peggy = Penguin()\\npeggy.whoisThis()\\npeggy.swim()\\npeggy.run()',\n",
       "  'peggy = Penguin()\\npeggy.__mro__()\\npeggy.whoisThis()\\npeggy.swim()\\npeggy.run()',\n",
       "  '\\n\\npeggy = Penguin()\\n#peggy.__mro__() #method resolution other : \\npeggy.whoisThis()\\npeggy.swim()\\npeggy.run()',\n",
       "  '\\n\\npeggy = Penguin()\\npeggy.__mro__() #method resolution other : \\npeggy.whoisThis()\\npeggy.swim()\\npeggy.run()',\n",
       "  '\\n\\npeggy = Penguin()\\npeggy.__mro__() #method resolution other \\npeggy.whoisThis()\\npeggy.swim()\\npeggy.run()',\n",
       "  '\\n\\npeggy = Penguin()\\npeggy.__mro__#method resolution other \\npeggy.whoisThis()\\npeggy.swim()\\npeggy.run()',\n",
       "  'dir(peggy)',\n",
       "  '\\n\\npeggy = Penguin()\\npeggy.__mro__()  #method resolution other \\npeggy.whoisThis()\\npeggy.swim()\\npeggy.run()',\n",
       "  '\\n\\npeggy = Penguin()\\npeggy.__mro__()  #method resolution other \\npeggy.whoisThis()\\npeggy.swim()\\npeggy.run()',\n",
       "  '\\n\\npeggy = Penguin()\\npeggy.__mro__  #method resolution other \\npeggy.whoisThis()\\npeggy.swim()\\npeggy.run()',\n",
       "  '\\n\\npeggy = Penguin()\\nPenguin.__mro__  #method resolution other \\npeggy.whoisThis()\\npeggy.swim()\\npeggy.run()',\n",
       "  '\\n\\npeggy = Penguin()\\npeggy.whoisThis()\\npeggy.swim()\\npeggy.run()',\n",
       "  'Penguin.__mro__  #method resolution other ',\n",
       "  'class Computer:\\n\\n    def __init__(self):\\n        self.__maxprice = 900\\n\\n    def sell(self):\\n        print(\"Selling Price: {}\".format(self.__maxprice))\\n\\n    def setMaxPrice(self, price):\\n        self.__maxprice = price\\n\\n        ',\n",
       "  'c = Computer()\\nc.sell()\\n\\n# change the price\\nc.__maxprice = 1000\\nc.sell()\\n\\n# using setter function\\nc.setMaxPrice(1000)\\nc.sell()',\n",
       "  'vars(c)',\n",
       "  'dir()',\n",
       "  'globals()',\n",
       "  'locals()'],\n",
       " 'Out': {34: ['__class__',\n",
       "   '__delattr__',\n",
       "   '__dict__',\n",
       "   '__dir__',\n",
       "   '__doc__',\n",
       "   '__eq__',\n",
       "   '__format__',\n",
       "   '__ge__',\n",
       "   '__getattribute__',\n",
       "   '__gt__',\n",
       "   '__hash__',\n",
       "   '__init__',\n",
       "   '__init_subclass__',\n",
       "   '__le__',\n",
       "   '__lt__',\n",
       "   '__module__',\n",
       "   '__ne__',\n",
       "   '__new__',\n",
       "   '__reduce__',\n",
       "   '__reduce_ex__',\n",
       "   '__repr__',\n",
       "   '__setattr__',\n",
       "   '__sizeof__',\n",
       "   '__str__',\n",
       "   '__subclasshook__',\n",
       "   '__weakref__',\n",
       "   'run',\n",
       "   'swim',\n",
       "   'whoisThis'],\n",
       "  40: (__main__.Penguin, __main__.Bird, object),\n",
       "  43: {'_Computer__maxprice': 1000, '__maxprice': 1000},\n",
       "  44: ['Bird',\n",
       "   'Computer',\n",
       "   'In',\n",
       "   'Out',\n",
       "   'Penguin',\n",
       "   '_',\n",
       "   '_34',\n",
       "   '_40',\n",
       "   '_43',\n",
       "   '__',\n",
       "   '___',\n",
       "   '__builtin__',\n",
       "   '__builtins__',\n",
       "   '__doc__',\n",
       "   '__loader__',\n",
       "   '__name__',\n",
       "   '__package__',\n",
       "   '__spec__',\n",
       "   '_dh',\n",
       "   '_i',\n",
       "   '_i1',\n",
       "   '_i10',\n",
       "   '_i11',\n",
       "   '_i12',\n",
       "   '_i13',\n",
       "   '_i14',\n",
       "   '_i15',\n",
       "   '_i16',\n",
       "   '_i17',\n",
       "   '_i18',\n",
       "   '_i19',\n",
       "   '_i2',\n",
       "   '_i20',\n",
       "   '_i21',\n",
       "   '_i22',\n",
       "   '_i23',\n",
       "   '_i24',\n",
       "   '_i25',\n",
       "   '_i26',\n",
       "   '_i27',\n",
       "   '_i28',\n",
       "   '_i29',\n",
       "   '_i3',\n",
       "   '_i30',\n",
       "   '_i31',\n",
       "   '_i32',\n",
       "   '_i33',\n",
       "   '_i34',\n",
       "   '_i35',\n",
       "   '_i36',\n",
       "   '_i37',\n",
       "   '_i38',\n",
       "   '_i39',\n",
       "   '_i4',\n",
       "   '_i40',\n",
       "   '_i41',\n",
       "   '_i42',\n",
       "   '_i43',\n",
       "   '_i44',\n",
       "   '_i5',\n",
       "   '_i6',\n",
       "   '_i7',\n",
       "   '_i8',\n",
       "   '_i9',\n",
       "   '_ih',\n",
       "   '_ii',\n",
       "   '_iii',\n",
       "   '_oh',\n",
       "   'c',\n",
       "   'exit',\n",
       "   'get_ipython',\n",
       "   'peggy',\n",
       "   'quit'],\n",
       "  45: {...}},\n",
       " 'Penguin': __main__.Penguin,\n",
       " '_': {...},\n",
       " '_34': ['__class__',\n",
       "  '__delattr__',\n",
       "  '__dict__',\n",
       "  '__dir__',\n",
       "  '__doc__',\n",
       "  '__eq__',\n",
       "  '__format__',\n",
       "  '__ge__',\n",
       "  '__getattribute__',\n",
       "  '__gt__',\n",
       "  '__hash__',\n",
       "  '__init__',\n",
       "  '__init_subclass__',\n",
       "  '__le__',\n",
       "  '__lt__',\n",
       "  '__module__',\n",
       "  '__ne__',\n",
       "  '__new__',\n",
       "  '__reduce__',\n",
       "  '__reduce_ex__',\n",
       "  '__repr__',\n",
       "  '__setattr__',\n",
       "  '__sizeof__',\n",
       "  '__str__',\n",
       "  '__subclasshook__',\n",
       "  '__weakref__',\n",
       "  'run',\n",
       "  'swim',\n",
       "  'whoisThis'],\n",
       " '_40': (__main__.Penguin, __main__.Bird, object),\n",
       " '_43': {'_Computer__maxprice': 1000, '__maxprice': 1000},\n",
       " '_44': ['Bird',\n",
       "  'Computer',\n",
       "  'In',\n",
       "  'Out',\n",
       "  'Penguin',\n",
       "  '_',\n",
       "  '_34',\n",
       "  '_40',\n",
       "  '_43',\n",
       "  '__',\n",
       "  '___',\n",
       "  '__builtin__',\n",
       "  '__builtins__',\n",
       "  '__doc__',\n",
       "  '__loader__',\n",
       "  '__name__',\n",
       "  '__package__',\n",
       "  '__spec__',\n",
       "  '_dh',\n",
       "  '_i',\n",
       "  '_i1',\n",
       "  '_i10',\n",
       "  '_i11',\n",
       "  '_i12',\n",
       "  '_i13',\n",
       "  '_i14',\n",
       "  '_i15',\n",
       "  '_i16',\n",
       "  '_i17',\n",
       "  '_i18',\n",
       "  '_i19',\n",
       "  '_i2',\n",
       "  '_i20',\n",
       "  '_i21',\n",
       "  '_i22',\n",
       "  '_i23',\n",
       "  '_i24',\n",
       "  '_i25',\n",
       "  '_i26',\n",
       "  '_i27',\n",
       "  '_i28',\n",
       "  '_i29',\n",
       "  '_i3',\n",
       "  '_i30',\n",
       "  '_i31',\n",
       "  '_i32',\n",
       "  '_i33',\n",
       "  '_i34',\n",
       "  '_i35',\n",
       "  '_i36',\n",
       "  '_i37',\n",
       "  '_i38',\n",
       "  '_i39',\n",
       "  '_i4',\n",
       "  '_i40',\n",
       "  '_i41',\n",
       "  '_i42',\n",
       "  '_i43',\n",
       "  '_i44',\n",
       "  '_i5',\n",
       "  '_i6',\n",
       "  '_i7',\n",
       "  '_i8',\n",
       "  '_i9',\n",
       "  '_ih',\n",
       "  '_ii',\n",
       "  '_iii',\n",
       "  '_oh',\n",
       "  'c',\n",
       "  'exit',\n",
       "  'get_ipython',\n",
       "  'peggy',\n",
       "  'quit'],\n",
       " '_45': {...},\n",
       " '__': ['Bird',\n",
       "  'Computer',\n",
       "  'In',\n",
       "  'Out',\n",
       "  'Penguin',\n",
       "  '_',\n",
       "  '_34',\n",
       "  '_40',\n",
       "  '_43',\n",
       "  '__',\n",
       "  '___',\n",
       "  '__builtin__',\n",
       "  '__builtins__',\n",
       "  '__doc__',\n",
       "  '__loader__',\n",
       "  '__name__',\n",
       "  '__package__',\n",
       "  '__spec__',\n",
       "  '_dh',\n",
       "  '_i',\n",
       "  '_i1',\n",
       "  '_i10',\n",
       "  '_i11',\n",
       "  '_i12',\n",
       "  '_i13',\n",
       "  '_i14',\n",
       "  '_i15',\n",
       "  '_i16',\n",
       "  '_i17',\n",
       "  '_i18',\n",
       "  '_i19',\n",
       "  '_i2',\n",
       "  '_i20',\n",
       "  '_i21',\n",
       "  '_i22',\n",
       "  '_i23',\n",
       "  '_i24',\n",
       "  '_i25',\n",
       "  '_i26',\n",
       "  '_i27',\n",
       "  '_i28',\n",
       "  '_i29',\n",
       "  '_i3',\n",
       "  '_i30',\n",
       "  '_i31',\n",
       "  '_i32',\n",
       "  '_i33',\n",
       "  '_i34',\n",
       "  '_i35',\n",
       "  '_i36',\n",
       "  '_i37',\n",
       "  '_i38',\n",
       "  '_i39',\n",
       "  '_i4',\n",
       "  '_i40',\n",
       "  '_i41',\n",
       "  '_i42',\n",
       "  '_i43',\n",
       "  '_i44',\n",
       "  '_i5',\n",
       "  '_i6',\n",
       "  '_i7',\n",
       "  '_i8',\n",
       "  '_i9',\n",
       "  '_ih',\n",
       "  '_ii',\n",
       "  '_iii',\n",
       "  '_oh',\n",
       "  'c',\n",
       "  'exit',\n",
       "  'get_ipython',\n",
       "  'peggy',\n",
       "  'quit'],\n",
       " '___': {'_Computer__maxprice': 1000, '__maxprice': 1000},\n",
       " '__builtin__': <module 'builtins' (built-in)>,\n",
       " '__builtins__': <module 'builtins' (built-in)>,\n",
       " '__doc__': 'Automatically created module for IPython interactive environment',\n",
       " '__loader__': None,\n",
       " '__name__': '__main__',\n",
       " '__package__': None,\n",
       " '__spec__': None,\n",
       " '_dh': ['C:\\\\Users\\\\seongsong park\\\\gitWorkspace\\\\Bigdata-X-Campus'],\n",
       " '_i': 'globals()',\n",
       " '_i1': '# parent class\\nclass Bird: # attribute 0개 (mutable이기 때문에 가능)\\n    pass\\n   \"\"\" def __init__(self):\\n        print(\"Bird is ready\")\\n\\n    def whoisThis(self):\\n        print(\"Bird\")\\n\\n    def swim(self):\\n        print(\"Swim faster\") \"\"',\n",
       " '_i10': 'peggy = Penguin()\\npeggy.whoisThis()\\npeggy.swim()\\npeggy.run()',\n",
       " '_i11': '# parent class\\nclass Bird:\\n    \\n    def __init__(self):\\n        print(\"Bird is ready\")\\n\\n    def whoisThis(self):\\n        print(\"Bird\")\\n\\n    def swim(self):\\n        print(\"Swim faster\")\\n\\n# child class\\nclass Penguin(Bird):\\n\\n    def __init__(self):\\n        # call super() function\\n        __init__()\\n        print(\"Penguin is ready\")\\n\\n    def whoisThis(self):\\n        print(\"Penguin\")\\n\\n    def run(self):\\n        print(\"Run faster\")\\n\\npeggy = Penguin()\\npeggy.whoisThis()\\npeggy.swim()\\npeggy.run()',\n",
       " '_i12': 'peggy = Penguin()\\npeggy.whoisThis()\\npeggy.swim()\\npeggy.run()',\n",
       " '_i13': '# parent class\\nclass Bird:\\n    \\n    def __init__(self):\\n        print(\"Bird is ready\")\\n\\n    def whoisThis(self):\\n        print(\"Bird\")\\n\\n    def swim(self):\\n        print(\"Swim faster\")\\n\\n# child class\\nclass Penguin(Bird):\\n\\n    def __init__(self):\\n        # call super() function\\n        #super.__init__()\\n        print(\"Penguin is ready\")\\n\\n    def whoisThis(self):\\n        print(\"Penguin\")\\n\\n    def run(self):\\n        print(\"Run faster\")',\n",
       " '_i14': 'peggy = Penguin()\\npeggy.whoisThis()\\npeggy.swim()\\npeggy.run()',\n",
       " '_i15': '# parent class\\nclass Bird:\\n    \\n    def __init__(self):\\n        print(\"Bird is ready\")\\n\\n    def whoisThis(self):\\n        print(\"Bird\")\\n\\n    def swim(self):\\n        print(\"Swim faster\")\\n\\n# child class\\nclass Penguin(Bird):\\n\\n    def __init__(self):\\n        # call super() function\\n        super.__init__(Penguin,self)\\n        print(\"Penguin is ready\")\\n\\n    def whoisThis(self):\\n        print(\"Penguin\")\\n\\n    def run(self):\\n        print(\"Run faster\")',\n",
       " '_i16': 'peggy = Penguin()\\npeggy.whoisThis()\\npeggy.swim()\\npeggy.run()',\n",
       " '_i17': '# parent class\\nclass Bird:\\n    \\n    def __init__(self):\\n        print(\"Bird is ready\")\\n\\n    def whoisThis(self):\\n        print(\"Bird\")\\n\\n    def swim(self):\\n        print(\"Swim faster\")\\n\\n# child class\\nclass Penguin(Bird):\\n\\n    def __init__(self):\\n        # call super() function\\n        super().__init__(Penguin,self)\\n        print(\"Penguin is ready\")\\n\\n    def whoisThis(self):\\n        print(\"Penguin\")\\n\\n    def run(self):\\n        print(\"Run faster\")',\n",
       " '_i18': 'peggy = Penguin()\\npeggy.whoisThis()\\npeggy.swim()\\npeggy.run()',\n",
       " '_i19': '# parent class\\nclass Bird:\\n    \\n    def __init__(self):\\n        print(\"Bird is ready\")\\n\\n    def whoisThis(self):\\n        print(\"Bird\")\\n\\n    def swim(self):\\n        print(\"Swim faster\")\\n\\n# child class\\nclass Penguin(Bird):\\n\\n    def __init__(self):\\n        # call super() function\\n        super().__init__(self)\\n        print(\"Penguin is ready\")\\n\\n    def whoisThis(self):\\n        print(\"Penguin\")\\n\\n    def run(self):\\n        print(\"Run faster\")',\n",
       " '_i2': '# parent class\\nclass Bird: # attribute 0개 (mutable이기 때문에 가능)\\n\\n    def __init__(self):\\n        print(\"Bird is ready\")\\n\\n    def whoisThis(self):\\n        print(\"Bird\")\\n\\n    def swim(self):\\n        print(\"Swim faster\")',\n",
       " '_i20': 'peggy = Penguin()\\npeggy.whoisThis()\\npeggy.swim()\\npeggy.run()',\n",
       " '_i21': '# parent class\\nclass Bird:\\n    \\n    def __init__(self):\\n        print(\"Bird is ready\")\\n\\n    def whoisThis(self):\\n        print(\"Bird\")\\n\\n    def swim(self):\\n        print(\"Swim faster\")\\n\\n# child class\\nclass Penguin(Bird):\\n\\n    def __init__(self):\\n        # call super() function\\n        super(Penguin,self).__init__()\\n        print(\"Penguin is ready\")\\n\\n    def whoisThis(self):\\n        print(\"Penguin\")\\n\\n    def run(self):\\n        print(\"Run faster\")',\n",
       " '_i22': 'peggy = Penguin()\\npeggy.whoisThis()\\npeggy.swim()\\npeggy.run()',\n",
       " '_i23': '# parent class\\nclass Bird:\\n    \\n    def __init__(self):\\n        print(\"Bird is ready\")\\n\\n    def whoisThis(self):\\n        print(\"Bird\")\\n\\n    def swim(self):\\n        print(\"Swim faster\")\\n\\n# child class\\nclass Penguin(Bird):\\n\\n    def __init__(self):\\n        # call super() function\\n        super().__init__()\\n        print(\"Penguin is ready\")\\n\\n    def whoisThis(self):\\n        print(\"Penguin\")\\n\\n    def run(self):\\n        print(\"Run faster\")',\n",
       " '_i24': 'peggy = Penguin()\\npeggy.whoisThis()\\npeggy.swim()\\npeggy.run()',\n",
       " '_i25': '# parent class\\nclass Bird:\\n    \\n    def __init__(self):\\n        print(\"Bird is ready\")\\n\\n    def whoisThis(self):\\n        print(\"Bird\")\\n\\n    def swim(self):\\n        print(\"Swim faster\")\\n\\n# child class\\nclass Penguin(Bird):\\n\\n    def __init__(self):\\n        # call super() function\\n        super(Penguin).__init__()\\n        print(\"Penguin is ready\")\\n\\n    def whoisThis(self):\\n        print(\"Penguin\")\\n\\n    def run(self):\\n        print(\"Run faster\")',\n",
       " '_i26': 'peggy = Penguin()\\npeggy.whoisThis()\\npeggy.swim()\\npeggy.run()',\n",
       " '_i27': '# parent class\\nclass Bird:\\n    \\n    def __init__(self):\\n        print(\"Bird is ready\")\\n\\n    def whoisThis(self):\\n        print(\"Bird\")\\n\\n    def swim(self):\\n        print(\"Swim faster\")\\n\\n# child class\\nclass Penguin(Bird):\\n\\n    def __init__(self):\\n        # call super() function\\n        super(Penguin,self).__init__()\\n        print(\"Penguin is ready\")\\n\\n    def whoisThis(self):\\n        print(\"Penguin\")\\n\\n    def run(self):\\n        print(\"Run faster\")',\n",
       " '_i28': 'peggy = Penguin()\\npeggy.whoisThis()\\npeggy.swim()\\npeggy.run()',\n",
       " '_i29': 'peggy = Penguin()\\npeggy.__mro__()\\npeggy.whoisThis()\\npeggy.swim()\\npeggy.run()',\n",
       " '_i3': '# child class\\nclass Penguin(Bird): #펭귄 클래스는 버드 클래스 상속 받음의 의미\\n\\n    def __init__(self):\\n        # call super() function\\n        super().__init__()\\n        print(\"Penguin is ready\")\\n\\n    def whoisThis(self):\\n        print(\"Penguin\")\\n\\n    def run(self):\\n        print(\"Run faster\")',\n",
       " '_i30': '\\n\\npeggy = Penguin()\\n#peggy.__mro__() #method resolution other : \\npeggy.whoisThis()\\npeggy.swim()\\npeggy.run()',\n",
       " '_i31': '\\n\\npeggy = Penguin()\\npeggy.__mro__() #method resolution other : \\npeggy.whoisThis()\\npeggy.swim()\\npeggy.run()',\n",
       " '_i32': '\\n\\npeggy = Penguin()\\npeggy.__mro__() #method resolution other \\npeggy.whoisThis()\\npeggy.swim()\\npeggy.run()',\n",
       " '_i33': '\\n\\npeggy = Penguin()\\npeggy.__mro__#method resolution other \\npeggy.whoisThis()\\npeggy.swim()\\npeggy.run()',\n",
       " '_i34': 'dir(peggy)',\n",
       " '_i35': '\\n\\npeggy = Penguin()\\npeggy.__mro__()  #method resolution other \\npeggy.whoisThis()\\npeggy.swim()\\npeggy.run()',\n",
       " '_i36': '\\n\\npeggy = Penguin()\\npeggy.__mro__()  #method resolution other \\npeggy.whoisThis()\\npeggy.swim()\\npeggy.run()',\n",
       " '_i37': '\\n\\npeggy = Penguin()\\npeggy.__mro__  #method resolution other \\npeggy.whoisThis()\\npeggy.swim()\\npeggy.run()',\n",
       " '_i38': '\\n\\npeggy = Penguin()\\nPenguin.__mro__  #method resolution other \\npeggy.whoisThis()\\npeggy.swim()\\npeggy.run()',\n",
       " '_i39': '\\n\\npeggy = Penguin()\\npeggy.whoisThis()\\npeggy.swim()\\npeggy.run()',\n",
       " '_i4': 'peggy = Penguin()\\npeggy.whoisThis()\\npeggy.swim()\\npeggy.run()',\n",
       " '_i40': 'Penguin.__mro__  #method resolution other ',\n",
       " '_i41': 'class Computer:\\n\\n    def __init__(self):\\n        self.__maxprice = 900\\n\\n    def sell(self):\\n        print(\"Selling Price: {}\".format(self.__maxprice))\\n\\n    def setMaxPrice(self, price):\\n        self.__maxprice = price\\n\\n        ',\n",
       " '_i42': 'c = Computer()\\nc.sell()\\n\\n# change the price\\nc.__maxprice = 1000\\nc.sell()\\n\\n# using setter function\\nc.setMaxPrice(1000)\\nc.sell()',\n",
       " '_i43': 'vars(c)',\n",
       " '_i44': 'dir()',\n",
       " '_i45': 'globals()',\n",
       " '_i46': 'locals()',\n",
       " '_i5': '# child class\\nclass Penguin(Bird): #펭귄 클래스는 버드 클래스 상속 받음의 의미\\n\\n    def __init__(self):\\n        # call super() function\\n        super().__init__()\\n        print(\"Penguin is ready\")\\n\\n    def whoisThis(self):\\n        print(\"Penguin\")\\n\\n    def run(self): #부모에 없는 메소드 추가 가능\\n        print(\"Run faster\")\\n        \\n    def swim(self):\\n        print(\"i cannot swim\") #이렇게 할 경우에 부모의 메소드 바꿔주는거 : overriding',\n",
       " '_i6': 'peggy = Penguin()\\npeggy.whoisThis()\\npeggy.swim()\\npeggy.run()',\n",
       " '_i7': '# child class , 이거 이용해서 남이 만든 클래스 재사용, 추가 가능\\nclass Penguin(Bird): #펭귄 클래스는 버드 클래스 상속 받음의 의미\\n\\n    def __init__(self):\\n        # call super() function\\n        #super().__init__() # super눈 부모가 가진거 실행하라는 것. \\n        print(\"Penguin is ready\")\\n\\n    def whoisThis(self):\\n        print(\"Penguin\")\\n\\n    def run(self): #부모에 없는 메소드 추가 가능\\n        print(\"Run faster\")\\n        \\n    def swim(self):\\n        print(\"i cannot swim\") #이렇게 할 경우에 부모의 메소드 바꿔주는거 : overriding',\n",
       " '_i8': 'peggy = Penguin()\\npeggy.whoisThis()\\npeggy.swim()\\npeggy.run()',\n",
       " '_i9': '# child class , 이거 이용해서 남이 만든 클래스 재사용, 추가 가능\\nclass Penguin(Bird): #펭귄 클래스는 버드 클래스 상속 받음의 의미\\n\\n    def __init__(self):\\n        # call super() function\\n        super().__init__() # super눈 부모가 가진거 실행하라는 것. \\n        print(\"Penguin is ready\")\\n\\n    def whoisThis(self):\\n        print(\"Penguin\")\\n\\n    def run(self): #부모에 없는 메소드 추가 가능\\n        print(\"Run faster\")\\n        \\n    def swim(self):\\n        print(\"i cannot swim\") #이렇게 할 경우에 부모의 메소드 바꿔주는거 : overriding',\n",
       " '_ih': ['',\n",
       "  '# parent class\\nclass Bird: # attribute 0개 (mutable이기 때문에 가능)\\n    pass\\n   \"\"\" def __init__(self):\\n        print(\"Bird is ready\")\\n\\n    def whoisThis(self):\\n        print(\"Bird\")\\n\\n    def swim(self):\\n        print(\"Swim faster\") \"\"',\n",
       "  '# parent class\\nclass Bird: # attribute 0개 (mutable이기 때문에 가능)\\n\\n    def __init__(self):\\n        print(\"Bird is ready\")\\n\\n    def whoisThis(self):\\n        print(\"Bird\")\\n\\n    def swim(self):\\n        print(\"Swim faster\")',\n",
       "  '# child class\\nclass Penguin(Bird): #펭귄 클래스는 버드 클래스 상속 받음의 의미\\n\\n    def __init__(self):\\n        # call super() function\\n        super().__init__()\\n        print(\"Penguin is ready\")\\n\\n    def whoisThis(self):\\n        print(\"Penguin\")\\n\\n    def run(self):\\n        print(\"Run faster\")',\n",
       "  'peggy = Penguin()\\npeggy.whoisThis()\\npeggy.swim()\\npeggy.run()',\n",
       "  '# child class\\nclass Penguin(Bird): #펭귄 클래스는 버드 클래스 상속 받음의 의미\\n\\n    def __init__(self):\\n        # call super() function\\n        super().__init__()\\n        print(\"Penguin is ready\")\\n\\n    def whoisThis(self):\\n        print(\"Penguin\")\\n\\n    def run(self): #부모에 없는 메소드 추가 가능\\n        print(\"Run faster\")\\n        \\n    def swim(self):\\n        print(\"i cannot swim\") #이렇게 할 경우에 부모의 메소드 바꿔주는거 : overriding',\n",
       "  'peggy = Penguin()\\npeggy.whoisThis()\\npeggy.swim()\\npeggy.run()',\n",
       "  '# child class , 이거 이용해서 남이 만든 클래스 재사용, 추가 가능\\nclass Penguin(Bird): #펭귄 클래스는 버드 클래스 상속 받음의 의미\\n\\n    def __init__(self):\\n        # call super() function\\n        #super().__init__() # super눈 부모가 가진거 실행하라는 것. \\n        print(\"Penguin is ready\")\\n\\n    def whoisThis(self):\\n        print(\"Penguin\")\\n\\n    def run(self): #부모에 없는 메소드 추가 가능\\n        print(\"Run faster\")\\n        \\n    def swim(self):\\n        print(\"i cannot swim\") #이렇게 할 경우에 부모의 메소드 바꿔주는거 : overriding',\n",
       "  'peggy = Penguin()\\npeggy.whoisThis()\\npeggy.swim()\\npeggy.run()',\n",
       "  '# child class , 이거 이용해서 남이 만든 클래스 재사용, 추가 가능\\nclass Penguin(Bird): #펭귄 클래스는 버드 클래스 상속 받음의 의미\\n\\n    def __init__(self):\\n        # call super() function\\n        super().__init__() # super눈 부모가 가진거 실행하라는 것. \\n        print(\"Penguin is ready\")\\n\\n    def whoisThis(self):\\n        print(\"Penguin\")\\n\\n    def run(self): #부모에 없는 메소드 추가 가능\\n        print(\"Run faster\")\\n        \\n    def swim(self):\\n        print(\"i cannot swim\") #이렇게 할 경우에 부모의 메소드 바꿔주는거 : overriding',\n",
       "  'peggy = Penguin()\\npeggy.whoisThis()\\npeggy.swim()\\npeggy.run()',\n",
       "  '# parent class\\nclass Bird:\\n    \\n    def __init__(self):\\n        print(\"Bird is ready\")\\n\\n    def whoisThis(self):\\n        print(\"Bird\")\\n\\n    def swim(self):\\n        print(\"Swim faster\")\\n\\n# child class\\nclass Penguin(Bird):\\n\\n    def __init__(self):\\n        # call super() function\\n        __init__()\\n        print(\"Penguin is ready\")\\n\\n    def whoisThis(self):\\n        print(\"Penguin\")\\n\\n    def run(self):\\n        print(\"Run faster\")\\n\\npeggy = Penguin()\\npeggy.whoisThis()\\npeggy.swim()\\npeggy.run()',\n",
       "  'peggy = Penguin()\\npeggy.whoisThis()\\npeggy.swim()\\npeggy.run()',\n",
       "  '# parent class\\nclass Bird:\\n    \\n    def __init__(self):\\n        print(\"Bird is ready\")\\n\\n    def whoisThis(self):\\n        print(\"Bird\")\\n\\n    def swim(self):\\n        print(\"Swim faster\")\\n\\n# child class\\nclass Penguin(Bird):\\n\\n    def __init__(self):\\n        # call super() function\\n        #super.__init__()\\n        print(\"Penguin is ready\")\\n\\n    def whoisThis(self):\\n        print(\"Penguin\")\\n\\n    def run(self):\\n        print(\"Run faster\")',\n",
       "  'peggy = Penguin()\\npeggy.whoisThis()\\npeggy.swim()\\npeggy.run()',\n",
       "  '# parent class\\nclass Bird:\\n    \\n    def __init__(self):\\n        print(\"Bird is ready\")\\n\\n    def whoisThis(self):\\n        print(\"Bird\")\\n\\n    def swim(self):\\n        print(\"Swim faster\")\\n\\n# child class\\nclass Penguin(Bird):\\n\\n    def __init__(self):\\n        # call super() function\\n        super.__init__(Penguin,self)\\n        print(\"Penguin is ready\")\\n\\n    def whoisThis(self):\\n        print(\"Penguin\")\\n\\n    def run(self):\\n        print(\"Run faster\")',\n",
       "  'peggy = Penguin()\\npeggy.whoisThis()\\npeggy.swim()\\npeggy.run()',\n",
       "  '# parent class\\nclass Bird:\\n    \\n    def __init__(self):\\n        print(\"Bird is ready\")\\n\\n    def whoisThis(self):\\n        print(\"Bird\")\\n\\n    def swim(self):\\n        print(\"Swim faster\")\\n\\n# child class\\nclass Penguin(Bird):\\n\\n    def __init__(self):\\n        # call super() function\\n        super().__init__(Penguin,self)\\n        print(\"Penguin is ready\")\\n\\n    def whoisThis(self):\\n        print(\"Penguin\")\\n\\n    def run(self):\\n        print(\"Run faster\")',\n",
       "  'peggy = Penguin()\\npeggy.whoisThis()\\npeggy.swim()\\npeggy.run()',\n",
       "  '# parent class\\nclass Bird:\\n    \\n    def __init__(self):\\n        print(\"Bird is ready\")\\n\\n    def whoisThis(self):\\n        print(\"Bird\")\\n\\n    def swim(self):\\n        print(\"Swim faster\")\\n\\n# child class\\nclass Penguin(Bird):\\n\\n    def __init__(self):\\n        # call super() function\\n        super().__init__(self)\\n        print(\"Penguin is ready\")\\n\\n    def whoisThis(self):\\n        print(\"Penguin\")\\n\\n    def run(self):\\n        print(\"Run faster\")',\n",
       "  'peggy = Penguin()\\npeggy.whoisThis()\\npeggy.swim()\\npeggy.run()',\n",
       "  '# parent class\\nclass Bird:\\n    \\n    def __init__(self):\\n        print(\"Bird is ready\")\\n\\n    def whoisThis(self):\\n        print(\"Bird\")\\n\\n    def swim(self):\\n        print(\"Swim faster\")\\n\\n# child class\\nclass Penguin(Bird):\\n\\n    def __init__(self):\\n        # call super() function\\n        super(Penguin,self).__init__()\\n        print(\"Penguin is ready\")\\n\\n    def whoisThis(self):\\n        print(\"Penguin\")\\n\\n    def run(self):\\n        print(\"Run faster\")',\n",
       "  'peggy = Penguin()\\npeggy.whoisThis()\\npeggy.swim()\\npeggy.run()',\n",
       "  '# parent class\\nclass Bird:\\n    \\n    def __init__(self):\\n        print(\"Bird is ready\")\\n\\n    def whoisThis(self):\\n        print(\"Bird\")\\n\\n    def swim(self):\\n        print(\"Swim faster\")\\n\\n# child class\\nclass Penguin(Bird):\\n\\n    def __init__(self):\\n        # call super() function\\n        super().__init__()\\n        print(\"Penguin is ready\")\\n\\n    def whoisThis(self):\\n        print(\"Penguin\")\\n\\n    def run(self):\\n        print(\"Run faster\")',\n",
       "  'peggy = Penguin()\\npeggy.whoisThis()\\npeggy.swim()\\npeggy.run()',\n",
       "  '# parent class\\nclass Bird:\\n    \\n    def __init__(self):\\n        print(\"Bird is ready\")\\n\\n    def whoisThis(self):\\n        print(\"Bird\")\\n\\n    def swim(self):\\n        print(\"Swim faster\")\\n\\n# child class\\nclass Penguin(Bird):\\n\\n    def __init__(self):\\n        # call super() function\\n        super(Penguin).__init__()\\n        print(\"Penguin is ready\")\\n\\n    def whoisThis(self):\\n        print(\"Penguin\")\\n\\n    def run(self):\\n        print(\"Run faster\")',\n",
       "  'peggy = Penguin()\\npeggy.whoisThis()\\npeggy.swim()\\npeggy.run()',\n",
       "  '# parent class\\nclass Bird:\\n    \\n    def __init__(self):\\n        print(\"Bird is ready\")\\n\\n    def whoisThis(self):\\n        print(\"Bird\")\\n\\n    def swim(self):\\n        print(\"Swim faster\")\\n\\n# child class\\nclass Penguin(Bird):\\n\\n    def __init__(self):\\n        # call super() function\\n        super(Penguin,self).__init__()\\n        print(\"Penguin is ready\")\\n\\n    def whoisThis(self):\\n        print(\"Penguin\")\\n\\n    def run(self):\\n        print(\"Run faster\")',\n",
       "  'peggy = Penguin()\\npeggy.whoisThis()\\npeggy.swim()\\npeggy.run()',\n",
       "  'peggy = Penguin()\\npeggy.__mro__()\\npeggy.whoisThis()\\npeggy.swim()\\npeggy.run()',\n",
       "  '\\n\\npeggy = Penguin()\\n#peggy.__mro__() #method resolution other : \\npeggy.whoisThis()\\npeggy.swim()\\npeggy.run()',\n",
       "  '\\n\\npeggy = Penguin()\\npeggy.__mro__() #method resolution other : \\npeggy.whoisThis()\\npeggy.swim()\\npeggy.run()',\n",
       "  '\\n\\npeggy = Penguin()\\npeggy.__mro__() #method resolution other \\npeggy.whoisThis()\\npeggy.swim()\\npeggy.run()',\n",
       "  '\\n\\npeggy = Penguin()\\npeggy.__mro__#method resolution other \\npeggy.whoisThis()\\npeggy.swim()\\npeggy.run()',\n",
       "  'dir(peggy)',\n",
       "  '\\n\\npeggy = Penguin()\\npeggy.__mro__()  #method resolution other \\npeggy.whoisThis()\\npeggy.swim()\\npeggy.run()',\n",
       "  '\\n\\npeggy = Penguin()\\npeggy.__mro__()  #method resolution other \\npeggy.whoisThis()\\npeggy.swim()\\npeggy.run()',\n",
       "  '\\n\\npeggy = Penguin()\\npeggy.__mro__  #method resolution other \\npeggy.whoisThis()\\npeggy.swim()\\npeggy.run()',\n",
       "  '\\n\\npeggy = Penguin()\\nPenguin.__mro__  #method resolution other \\npeggy.whoisThis()\\npeggy.swim()\\npeggy.run()',\n",
       "  '\\n\\npeggy = Penguin()\\npeggy.whoisThis()\\npeggy.swim()\\npeggy.run()',\n",
       "  'Penguin.__mro__  #method resolution other ',\n",
       "  'class Computer:\\n\\n    def __init__(self):\\n        self.__maxprice = 900\\n\\n    def sell(self):\\n        print(\"Selling Price: {}\".format(self.__maxprice))\\n\\n    def setMaxPrice(self, price):\\n        self.__maxprice = price\\n\\n        ',\n",
       "  'c = Computer()\\nc.sell()\\n\\n# change the price\\nc.__maxprice = 1000\\nc.sell()\\n\\n# using setter function\\nc.setMaxPrice(1000)\\nc.sell()',\n",
       "  'vars(c)',\n",
       "  'dir()',\n",
       "  'globals()',\n",
       "  'locals()'],\n",
       " '_ii': 'dir()',\n",
       " '_iii': 'vars(c)',\n",
       " '_oh': {34: ['__class__',\n",
       "   '__delattr__',\n",
       "   '__dict__',\n",
       "   '__dir__',\n",
       "   '__doc__',\n",
       "   '__eq__',\n",
       "   '__format__',\n",
       "   '__ge__',\n",
       "   '__getattribute__',\n",
       "   '__gt__',\n",
       "   '__hash__',\n",
       "   '__init__',\n",
       "   '__init_subclass__',\n",
       "   '__le__',\n",
       "   '__lt__',\n",
       "   '__module__',\n",
       "   '__ne__',\n",
       "   '__new__',\n",
       "   '__reduce__',\n",
       "   '__reduce_ex__',\n",
       "   '__repr__',\n",
       "   '__setattr__',\n",
       "   '__sizeof__',\n",
       "   '__str__',\n",
       "   '__subclasshook__',\n",
       "   '__weakref__',\n",
       "   'run',\n",
       "   'swim',\n",
       "   'whoisThis'],\n",
       "  40: (__main__.Penguin, __main__.Bird, object),\n",
       "  43: {'_Computer__maxprice': 1000, '__maxprice': 1000},\n",
       "  44: ['Bird',\n",
       "   'Computer',\n",
       "   'In',\n",
       "   'Out',\n",
       "   'Penguin',\n",
       "   '_',\n",
       "   '_34',\n",
       "   '_40',\n",
       "   '_43',\n",
       "   '__',\n",
       "   '___',\n",
       "   '__builtin__',\n",
       "   '__builtins__',\n",
       "   '__doc__',\n",
       "   '__loader__',\n",
       "   '__name__',\n",
       "   '__package__',\n",
       "   '__spec__',\n",
       "   '_dh',\n",
       "   '_i',\n",
       "   '_i1',\n",
       "   '_i10',\n",
       "   '_i11',\n",
       "   '_i12',\n",
       "   '_i13',\n",
       "   '_i14',\n",
       "   '_i15',\n",
       "   '_i16',\n",
       "   '_i17',\n",
       "   '_i18',\n",
       "   '_i19',\n",
       "   '_i2',\n",
       "   '_i20',\n",
       "   '_i21',\n",
       "   '_i22',\n",
       "   '_i23',\n",
       "   '_i24',\n",
       "   '_i25',\n",
       "   '_i26',\n",
       "   '_i27',\n",
       "   '_i28',\n",
       "   '_i29',\n",
       "   '_i3',\n",
       "   '_i30',\n",
       "   '_i31',\n",
       "   '_i32',\n",
       "   '_i33',\n",
       "   '_i34',\n",
       "   '_i35',\n",
       "   '_i36',\n",
       "   '_i37',\n",
       "   '_i38',\n",
       "   '_i39',\n",
       "   '_i4',\n",
       "   '_i40',\n",
       "   '_i41',\n",
       "   '_i42',\n",
       "   '_i43',\n",
       "   '_i44',\n",
       "   '_i5',\n",
       "   '_i6',\n",
       "   '_i7',\n",
       "   '_i8',\n",
       "   '_i9',\n",
       "   '_ih',\n",
       "   '_ii',\n",
       "   '_iii',\n",
       "   '_oh',\n",
       "   'c',\n",
       "   'exit',\n",
       "   'get_ipython',\n",
       "   'peggy',\n",
       "   'quit'],\n",
       "  45: {...}},\n",
       " 'c': <__main__.Computer at 0x18f66665828>,\n",
       " 'exit': <IPython.core.autocall.ZMQExitAutocall at 0x18f653ea518>,\n",
       " 'get_ipython': <bound method InteractiveShell.get_ipython of <ipykernel.zmqshell.ZMQInteractiveShell object at 0x0000018F653CD080>>,\n",
       " 'peggy': <__main__.Penguin at 0x18f665f9278>,\n",
       " 'quit': <IPython.core.autocall.ZMQExitAutocall at 0x18f653ea518>}"
      ]
     },
     "execution_count": 46,
     "metadata": {},
     "output_type": "execute_result"
    }
   ],
   "source": [
    "locals() #local에 있는애들 다 보여주는거 (함수 안에 있는 애들)"
   ]
  },
  {
   "cell_type": "markdown",
   "metadata": {},
   "source": [
    "## Polymorphism\n",
    "- 다형성 : polymorphism은 상속하는 애들 끼리 다르게 행동할 수 있다는 거임. 족보상 오리가 아닌데도 오리라고 하면 오리로 취급해줌 ==> substitute 기법. 그니까 상속안해도 쓸 수 있다는게 다형성\n",
    "\n",
    "- Ducktyping : 만약 어떤 새가 오리처럼 걷고, 헤엄치고, 꽥꽥거리는 소리를 낸다면 나는 그 새를 오리라고 부를 것이다.오리인지 아닌지가 중요하지 않음"
   ]
  },
  {
   "cell_type": "markdown",
   "metadata": {},
   "source": [
    "###### cf)\n",
    "- duck-typing (덕 타이핑)\n",
    "올바른 인터페이스를 가졌는지 판단하는데 객체의 형을 보지 않는 프로그래밍 스타일; 대신, 단순히 메서드나 어트리뷰트가 호출되거나 사용됩니다 (\"오리처럼 보이고 오리처럼 꽥꽥댄다면, 그것은 오리다.\") 특정한 형 대신에 인터페이스를 강조함으로써, 잘 설계된 코드는 다형적인 치환을 허락함으로써 유연성을 개선할 수 있습니다. 덕 타이핑은 type() 이나 isinstance() 을 사용한 검사를 피합니다. (하지만, 덕 타이핑이 추상 베이스 클래스 로 보완될 수 있음에 유의해야 합니다.) 대신에, hasattr() 검사나 EAFP 프로그래밍을 씁니다.\n",
    "- EAFP\n",
    "허락보다는 용서를 구하기가 쉽다 (Easier to ask for forgiveness than permission). 이 흔히 볼 수 있는 파이썬 코딩 스타일은, 올바른 키나 어트리뷰트의 존재를 가정하고, 그 가정이 틀리면 예외를 잡습니다. 이 깔끔하고 빠른 스타일은 많은 try 와 except 문의 존재로 특징지어집니다. 이 테크닉은 C와 같은 다른 많은 언어에서 자주 사용되는 LBYL 스타일과 대비됩니다."
   ]
  },
  {
   "cell_type": "code",
   "execution_count": null,
   "metadata": {},
   "outputs": [],
   "source": []
  },
  {
   "cell_type": "code",
   "execution_count": 47,
   "metadata": {},
   "outputs": [],
   "source": [
    "class Parrot:\n",
    "\n",
    "    def fly(self):\n",
    "        print(\"Parrot can fly\")\n",
    "    \n",
    "    def swim(self):\n",
    "        print(\"Parrot can't swim\")\n",
    "\n",
    "class Penguin: #얘 지금 bird 상속 안받음\n",
    "\n",
    "    def fly(self):\n",
    "        print(\"Penguin can't fly\")\n",
    "    \n",
    "    def swim(self):\n",
    "        print(\"Penguin can swim\")\n",
    "\n",
    "# common interface\n",
    "def flying_test(bird):\n",
    "    bird.fly() #위에 애들이 둘다 fly랑 swim을 똑같이 가지고 있기 때문에. bird로 간주하는 거임"
   ]
  },
  {
   "cell_type": "code",
   "execution_count": 48,
   "metadata": {},
   "outputs": [],
   "source": [
    "#instantiate objects\n",
    "blu = Parrot()\n",
    "peggy = Penguin()"
   ]
  },
  {
   "cell_type": "code",
   "execution_count": 49,
   "metadata": {},
   "outputs": [
    {
     "name": "stdout",
     "output_type": "stream",
     "text": [
      "Parrot can fly\n",
      "Penguin can't fly\n"
     ]
    }
   ],
   "source": [
    "# passing the object\n",
    "flying_test(blu)\n",
    "flying_test(peggy)"
   ]
  },
  {
   "cell_type": "code",
   "execution_count": 69,
   "metadata": {},
   "outputs": [],
   "source": [
    "class Polygon:\n",
    "    def __init__(self, no_of_sides):\n",
    "        self.n = no_of_sides #instance attribute\n",
    "        self.sides = [0 for i in range(no_of_sides)] #루프 간단하게 하는 문장 이름 comprehension임  # instance attribute\n",
    "\n",
    "    def inputSides(self):\n",
    "        self.sides = [float(input(\"Enter side \"+str(i+1)+\" : \")) for i in range(self.n)] \n",
    "\n",
    "    def dispSides(self):\n",
    "        for i in range(self.n): #i는 def 안에 있기 때무네 local애임. \n",
    "            print(\"Side\",i+1,\"is\",self.sides[i])"
   ]
  },
  {
   "cell_type": "code",
   "execution_count": 72,
   "metadata": {},
   "outputs": [],
   "source": [
    " p = Polygon(8)"
   ]
  },
  {
   "cell_type": "code",
   "execution_count": 74,
   "metadata": {
    "scrolled": true
   },
   "outputs": [
    {
     "name": "stdout",
     "output_type": "stream",
     "text": [
      "Side 1 is 0\n",
      "Side 2 is 0\n",
      "Side 3 is 0\n",
      "Side 4 is 0\n",
      "Side 5 is 0\n",
      "Side 6 is 0\n",
      "Side 7 is 0\n",
      "Side 8 is 0\n"
     ]
    }
   ],
   "source": [
    "p.dispSides()"
   ]
  },
  {
   "cell_type": "code",
   "execution_count": 76,
   "metadata": {},
   "outputs": [
    {
     "data": {
      "text/plain": [
       "['__class__',\n",
       " '__delattr__',\n",
       " '__dict__',\n",
       " '__dir__',\n",
       " '__doc__',\n",
       " '__eq__',\n",
       " '__format__',\n",
       " '__ge__',\n",
       " '__getattribute__',\n",
       " '__gt__',\n",
       " '__hash__',\n",
       " '__init__',\n",
       " '__init_subclass__',\n",
       " '__le__',\n",
       " '__lt__',\n",
       " '__module__',\n",
       " '__ne__',\n",
       " '__new__',\n",
       " '__reduce__',\n",
       " '__reduce_ex__',\n",
       " '__repr__',\n",
       " '__setattr__',\n",
       " '__sizeof__',\n",
       " '__str__',\n",
       " '__subclasshook__',\n",
       " '__weakref__',\n",
       " 'dispSides',\n",
       " 'inputSides',\n",
       " 'n',\n",
       " 'sides']"
      ]
     },
     "execution_count": 76,
     "metadata": {},
     "output_type": "execute_result"
    }
   ],
   "source": [
    "dir(p)"
   ]
  },
  {
   "cell_type": "code",
   "execution_count": 77,
   "metadata": {},
   "outputs": [
    {
     "data": {
      "text/plain": [
       "[0, 1, 2, 3, 4, 5, 6, 7, 8, 9, 10]"
      ]
     },
     "execution_count": 77,
     "metadata": {},
     "output_type": "execute_result"
    }
   ],
   "source": [
    "[j for j in range(11)]"
   ]
  },
  {
   "cell_type": "code",
   "execution_count": 79,
   "metadata": {},
   "outputs": [
    {
     "ename": "NameError",
     "evalue": "name 'j' is not defined",
     "output_type": "error",
     "traceback": [
      "\u001b[1;31m---------------------------------------------------------------------------\u001b[0m",
      "\u001b[1;31mNameError\u001b[0m                                 Traceback (most recent call last)",
      "\u001b[1;32m<ipython-input-79-25b5faeca986>\u001b[0m in \u001b[0;36m<module>\u001b[1;34m()\u001b[0m\n\u001b[1;32m----> 1\u001b[1;33m \u001b[0mj\u001b[0m \u001b[1;31m#comprehension 방법은 for 문 사용하는 것과 달리 global로 전이 되지 않음\u001b[0m\u001b[1;33m\u001b[0m\u001b[0m\n\u001b[0m",
      "\u001b[1;31mNameError\u001b[0m: name 'j' is not defined"
     ]
    }
   ],
   "source": [
    "j #comprehension 방법은 for 문 사용하는 것과 달리 global로 전이 되지 않음"
   ]
  },
  {
   "cell_type": "code",
   "execution_count": null,
   "metadata": {},
   "outputs": [],
   "source": []
  },
  {
   "cell_type": "markdown",
   "metadata": {},
   "source": [
    "comprehension은 튜플 형태에서 작동 안함. \n"
   ]
  },
  {
   "cell_type": "code",
   "execution_count": 51,
   "metadata": {},
   "outputs": [],
   "source": [
    "a=(x for x in range(11))"
   ]
  },
  {
   "cell_type": "code",
   "execution_count": 52,
   "metadata": {},
   "outputs": [
    {
     "data": {
      "text/plain": [
       "<generator object <genexpr> at 0x0000018F665B4E60>"
      ]
     },
     "execution_count": 52,
     "metadata": {},
     "output_type": "execute_result"
    }
   ],
   "source": [
    "a"
   ]
  },
  {
   "cell_type": "code",
   "execution_count": 67,
   "metadata": {},
   "outputs": [
    {
     "ename": "StopIteration",
     "evalue": "",
     "output_type": "error",
     "traceback": [
      "\u001b[1;31m---------------------------------------------------------------------------\u001b[0m",
      "\u001b[1;31mStopIteration\u001b[0m                             Traceback (most recent call last)",
      "\u001b[1;32m<ipython-input-67-68423de97c59>\u001b[0m in \u001b[0;36m<module>\u001b[1;34m()\u001b[0m\n\u001b[1;32m----> 1\u001b[1;33m \u001b[0ma\u001b[0m\u001b[1;33m.\u001b[0m\u001b[0m__next__\u001b[0m\u001b[1;33m(\u001b[0m\u001b[1;33m)\u001b[0m \u001b[1;31m#아래랑 이거랑 두가지 방법으로 사용함.\u001b[0m\u001b[1;33m\u001b[0m\u001b[0m\n\u001b[0m",
      "\u001b[1;31mStopIteration\u001b[0m: "
     ]
    }
   ],
   "source": [
    "a.__next__() #아래랑 이거랑 두가지 방법으로 사용함."
   ]
  },
  {
   "cell_type": "code",
   "execution_count": 68,
   "metadata": {},
   "outputs": [
    {
     "ename": "StopIteration",
     "evalue": "",
     "output_type": "error",
     "traceback": [
      "\u001b[1;31m---------------------------------------------------------------------------\u001b[0m",
      "\u001b[1;31mStopIteration\u001b[0m                             Traceback (most recent call last)",
      "\u001b[1;32m<ipython-input-68-a0e67aab0078>\u001b[0m in \u001b[0;36m<module>\u001b[1;34m()\u001b[0m\n\u001b[1;32m----> 1\u001b[1;33m \u001b[0mnext\u001b[0m\u001b[1;33m(\u001b[0m\u001b[0ma\u001b[0m\u001b[1;33m)\u001b[0m \u001b[1;31m#generator이기 때문에 계속 실행하면 계쏙 커지면서 10까지 실행함 한꺼번에 안보여주고 한번 실행할때마다 한개씩 보여주는거임. 필요한 시점마다 하나씩 나오게 해주는거 이런거 보고 lazy기법이라고 함 : 메모리 한꺼번에 안올려서 더 효율적임\u001b[0m\u001b[1;33m\u001b[0m\u001b[0m\n\u001b[0m",
      "\u001b[1;31mStopIteration\u001b[0m: "
     ]
    }
   ],
   "source": [
    "next(a) #generator이기 때문에 계속 실행하면 계쏙 커지면서 10까지 실행함 한꺼번에 안보여주고 한번 실행할때마다 한개씩 보여주는거임. 필요한 시점마다 하나씩 나오게 해주는거 이런거 보고 lazy기법이라고 함 : 메모리 한꺼번에 안올려서 더 효율적임"
   ]
  },
  {
   "cell_type": "code",
   "execution_count": 69,
   "metadata": {},
   "outputs": [],
   "source": [
    "class Polygon:\n",
    "    def __init__(self, no_of_sides):\n",
    "        self.n = no_of_sides #instance attribute\n",
    "        self.sides = [0 for i in range(no_of_sides)] #루프 간단하게 하는 문장 이름 comprehension임  # instance attribute\n",
    "        #위에꺼 self.side안의 값 0으로 초기화 시켜주는거\n",
    "\n",
    "    def inputSides(self):\n",
    "        self.sides = [float(input(\"Enter side \"+str(i+1)+\" : \")) for i in range(self.n)] \n",
    "\n",
    "    def dispSides(self):\n",
    "        for i in range(self.n): #i는 def 안에 있기 때무네 local애임. \n",
    "            print(\"Side\",i+1,\"is\",self.sides[i])"
   ]
  },
  {
   "cell_type": "code",
   "execution_count": 80,
   "metadata": {},
   "outputs": [],
   "source": [
    "xy = Polygon(5)\n",
    "yz = Polygon(3)"
   ]
  },
  {
   "cell_type": "code",
   "execution_count": 82,
   "metadata": {},
   "outputs": [
    {
     "name": "stdout",
     "output_type": "stream",
     "text": [
      "Enter side 1 : 5\n",
      "Enter side 2 : 1\n",
      "Enter side 3 : 2\n",
      "Enter side 4 : 3\n",
      "Enter side 5 : 4\n"
     ]
    }
   ],
   "source": [
    "xy.inputSides()"
   ]
  },
  {
   "cell_type": "code",
   "execution_count": 83,
   "metadata": {},
   "outputs": [
    {
     "name": "stdout",
     "output_type": "stream",
     "text": [
      "Side 1 is 5.0\n",
      "Side 2 is 1.0\n",
      "Side 3 is 2.0\n",
      "Side 4 is 3.0\n",
      "Side 5 is 4.0\n"
     ]
    }
   ],
   "source": [
    "xy.dispSides()"
   ]
  },
  {
   "cell_type": "code",
   "execution_count": 84,
   "metadata": {},
   "outputs": [],
   "source": [
    "class Triangle(Polygon):\n",
    "    def __init__(self):\n",
    "        Polygon.__init__(self,3) # super().__init__(3) , 부모 클래스 이름 쓸경우는 self도 써줘야 함. init는 instance method인데 클래스 뒤에 쓰는거 어떻게 가능해? : 예외규정임니댱!\n",
    "        \n",
    "    def findArea(self):\n",
    "        a, b, c = self.sides\n",
    "        # calculate the semi-perimeter\n",
    "        s = (a + b + c) / 2\n",
    "        area = (s*(s-a)*(s-b)*(s-c)) ** 0.5\n",
    "        print('The area of the triangle is %0.2f' %area)"
   ]
  },
  {
   "cell_type": "code",
   "execution_count": 85,
   "metadata": {},
   "outputs": [],
   "source": [
    "T = Triangle()"
   ]
  },
  {
   "cell_type": "code",
   "execution_count": 89,
   "metadata": {},
   "outputs": [
    {
     "name": "stdout",
     "output_type": "stream",
     "text": [
      "Enter side 1 : 2\n",
      "Enter side 2 : 5\n",
      "Enter side 3 : 6\n"
     ]
    }
   ],
   "source": [
    "T.inputSides()"
   ]
  },
  {
   "cell_type": "code",
   "execution_count": 90,
   "metadata": {},
   "outputs": [
    {
     "name": "stdout",
     "output_type": "stream",
     "text": [
      "The area of the triangle is 4.68\n"
     ]
    }
   ],
   "source": [
    "T.findArea()"
   ]
  },
  {
   "cell_type": "code",
   "execution_count": 92,
   "metadata": {},
   "outputs": [
    {
     "data": {
      "text/plain": [
       "True"
      ]
     },
     "execution_count": 92,
     "metadata": {},
     "output_type": "execute_result"
    }
   ],
   "source": [
    "issubclass(bool,int)"
   ]
  },
  {
   "cell_type": "code",
   "execution_count": 9,
   "metadata": {},
   "outputs": [
    {
     "name": "stdout",
     "output_type": "stream",
     "text": [
      "True\n",
      "True\n",
      "True\n"
     ]
    }
   ],
   "source": [
    "# Output: True\n",
    "print(issubclass(list,object)) \n",
    "\n",
    "# Output: True\n",
    "print(isinstance(5.5,object))\n",
    "\n",
    "# Output: True\n",
    "print(isinstance(\"Hello\",object))\n",
    "\n",
    "#is가 붙는거는 참과 거짓을 반환하는 함수로 predicate이라고 이야기함 "
   ]
  },
  {
   "cell_type": "code",
   "execution_count": 94,
   "metadata": {},
   "outputs": [],
   "source": [
    "#다중 상속\n",
    "\n",
    "class X: pass\n",
    "class Y: pass\n",
    "class Z: pass\n",
    "\n",
    "class A(X,Y): pass #x랑 Y 상속받는거\n",
    "class B(Y,Z): pass #Y랑 Z 상속받는거 \n",
    "\n",
    "class M(B,A,Z): pass\n",
    "\n",
    "# Output:\n",
    "# [<class '__main__.M'>, <class '__main__.B'>,\n",
    "# <class '__main__.A'>, <class '__main__.X'>,\n",
    "# <class '__main__.Y'>, <class '__main__.Z'>,\n",
    "# <class 'object'>]"
   ]
  },
  {
   "cell_type": "code",
   "execution_count": 95,
   "metadata": {},
   "outputs": [
    {
     "name": "stdout",
     "output_type": "stream",
     "text": [
      "[<class '__main__.M'>, <class '__main__.B'>, <class '__main__.A'>, <class '__main__.X'>, <class '__main__.Y'>, <class '__main__.Z'>, <class 'object'>]\n"
     ]
    }
   ],
   "source": [
    "print(M.mro()) #어떻게 상속시키는지 순서 알려주는거  - 이거 한눈에 개 안보임 - 다중상속 문제점 : 다중상속 되도록하지말아여!"
   ]
  },
  {
   "cell_type": "markdown",
   "metadata": {},
   "source": [
    "파이썬의 모든 클래스는 object로 부터 상속받는다. 그래서 만들때 부터 __이런애들 가지고 있는데, 이거 다 overriding 가능함"
   ]
  },
  {
   "cell_type": "code",
   "execution_count": 11,
   "metadata": {},
   "outputs": [],
   "source": [
    "class Point:\n",
    "    def __init__(self, x = 0, y = 0):\n",
    "        self.x = x\n",
    "        self.y = y"
   ]
  },
  {
   "cell_type": "code",
   "execution_count": 12,
   "metadata": {},
   "outputs": [],
   "source": [
    "class Point:\n",
    "    def __init__(self, x = 0, y = 0):\n",
    "        self.x = x\n",
    "        self.y = y\n",
    "    \n",
    "    def __str__(self):\n",
    "        return \"({0},{1})\".format(self.x,self.y)"
   ]
  },
  {
   "cell_type": "code",
   "execution_count": 13,
   "metadata": {},
   "outputs": [],
   "source": [
    "class Point:\n",
    "    def __init__(self, x = 0, y = 0):\n",
    "        self.x = x\n",
    "        self.y = y\n",
    "    \n",
    "    def __str__(self):\n",
    "        return \"({0},{1})\".format(self.x,self.y)\n",
    "    \n",
    "    def __add__(self,other):\n",
    "        x = self.x + other.x\n",
    "        y = self.y + other.y\n",
    "        return Point(x,y)"
   ]
  },
  {
   "cell_type": "code",
   "execution_count": 14,
   "metadata": {},
   "outputs": [],
   "source": [
    "class Point:\n",
    "    def __init__(self, x = 0, y = 0):\n",
    "        self.x = x\n",
    "        self.y = y\n",
    "    \n",
    "    def __str__(self):\n",
    "        return \"({0},{1})\".format(self.x,self.y)\n",
    "    \n",
    "    def __lt__(self,other):\n",
    "        self_mag = (self.x ** 2) + (self.y ** 2)\n",
    "        other_mag = (other.x ** 2) + (other.y ** 2)\n",
    "        return self_mag < other_mag"
   ]
  },
  {
   "cell_type": "code",
   "execution_count": 96,
   "metadata": {},
   "outputs": [],
   "source": [
    "class B :\n",
    "    def __str__(self): #프린트 할때보여주는거\n",
    "        return 'aaa'\n",
    "    def __repr__(self): #변수 리턴값 ipython notebook은 repr로 선언된거 보여줌. 이런거 재정의하는거보고 overriding이라고 이야기하는거임  \n",
    "        return 'bbb'"
   ]
  },
  {
   "cell_type": "code",
   "execution_count": 97,
   "metadata": {},
   "outputs": [],
   "source": [
    "\n",
    "abc= B()"
   ]
  },
  {
   "cell_type": "code",
   "execution_count": 98,
   "metadata": {},
   "outputs": [
    {
     "name": "stdout",
     "output_type": "stream",
     "text": [
      "aaa\n"
     ]
    }
   ],
   "source": [
    "print(abc)"
   ]
  },
  {
   "cell_type": "code",
   "execution_count": 99,
   "metadata": {},
   "outputs": [
    {
     "data": {
      "text/plain": [
       "bbb"
      ]
     },
     "execution_count": 99,
     "metadata": {},
     "output_type": "execute_result"
    }
   ],
   "source": [
    "abc"
   ]
  },
  {
   "cell_type": "code",
   "execution_count": 139,
   "metadata": {},
   "outputs": [],
   "source": [
    "class MyINT(int): ##연산자 overloading : 나만의 연산자 만드는 방법. \n",
    "    def __init__(self, num) :\n",
    "            self.num=num\n",
    "        \n",
    "    def __add__(self,other): #self는 객체이지 객체가 가진 값은 아님.\n",
    "        #super().__add__(other)\n",
    "        print(\"add\")\n",
    "        return self.num+other+3\n",
    "    def __str__(self) :\n",
    "        return str(self.num)\n",
    "    def __sub__(self) :\n",
    "        print(\"sub\")\n",
    "        return self.num - other\n",
    "        \n",
    "        #return self+other"
   ]
  },
  {
   "cell_type": "code",
   "execution_count": 140,
   "metadata": {},
   "outputs": [
    {
     "data": {
      "text/plain": [
       "['__abs__',\n",
       " '__add__',\n",
       " '__and__',\n",
       " '__bool__',\n",
       " '__ceil__',\n",
       " '__class__',\n",
       " '__delattr__',\n",
       " '__dir__',\n",
       " '__divmod__',\n",
       " '__doc__',\n",
       " '__eq__',\n",
       " '__float__',\n",
       " '__floor__',\n",
       " '__floordiv__',\n",
       " '__format__',\n",
       " '__ge__',\n",
       " '__getattribute__',\n",
       " '__getnewargs__',\n",
       " '__gt__',\n",
       " '__hash__',\n",
       " '__index__',\n",
       " '__init__',\n",
       " '__init_subclass__',\n",
       " '__int__',\n",
       " '__invert__',\n",
       " '__le__',\n",
       " '__lshift__',\n",
       " '__lt__',\n",
       " '__mod__',\n",
       " '__mul__',\n",
       " '__ne__',\n",
       " '__neg__',\n",
       " '__new__',\n",
       " '__or__',\n",
       " '__pos__',\n",
       " '__pow__',\n",
       " '__radd__',\n",
       " '__rand__',\n",
       " '__rdivmod__',\n",
       " '__reduce__',\n",
       " '__reduce_ex__',\n",
       " '__repr__',\n",
       " '__rfloordiv__',\n",
       " '__rlshift__',\n",
       " '__rmod__',\n",
       " '__rmul__',\n",
       " '__ror__',\n",
       " '__round__',\n",
       " '__rpow__',\n",
       " '__rrshift__',\n",
       " '__rshift__',\n",
       " '__rsub__',\n",
       " '__rtruediv__',\n",
       " '__rxor__',\n",
       " '__setattr__',\n",
       " '__sizeof__',\n",
       " '__str__',\n",
       " '__sub__',\n",
       " '__subclasshook__',\n",
       " '__truediv__',\n",
       " '__trunc__',\n",
       " '__xor__',\n",
       " 'bit_length',\n",
       " 'conjugate',\n",
       " 'denominator',\n",
       " 'from_bytes',\n",
       " 'imag',\n",
       " 'numerator',\n",
       " 'real',\n",
       " 'to_bytes']"
      ]
     },
     "execution_count": 140,
     "metadata": {},
     "output_type": "execute_result"
    }
   ],
   "source": [
    "dir(int)"
   ]
  },
  {
   "cell_type": "code",
   "execution_count": 142,
   "metadata": {},
   "outputs": [],
   "source": [
    "a = MyINT(3)"
   ]
  },
  {
   "cell_type": "code",
   "execution_count": 143,
   "metadata": {},
   "outputs": [],
   "source": [
    "b= MyINT(5)"
   ]
  },
  {
   "cell_type": "code",
   "execution_count": 144,
   "metadata": {},
   "outputs": [
    {
     "name": "stdout",
     "output_type": "stream",
     "text": [
      "add\n",
      "11\n"
     ]
    }
   ],
   "source": [
    "print(a+b)\n",
    "print"
   ]
  },
  {
   "cell_type": "code",
   "execution_count": 129,
   "metadata": {},
   "outputs": [],
   "source": [
    "a=3"
   ]
  },
  {
   "cell_type": "code",
   "execution_count": 134,
   "metadata": {},
   "outputs": [
    {
     "name": "stdout",
     "output_type": "stream",
     "text": [
      "7\n"
     ]
    }
   ],
   "source": [
    "print(a.__add__(4))"
   ]
  },
  {
   "cell_type": "code",
   "execution_count": null,
   "metadata": {},
   "outputs": [],
   "source": []
  }
 ],
 "metadata": {
  "kernelspec": {
   "display_name": "Python 3",
   "language": "python",
   "name": "python3"
  },
  "language_info": {
   "codemirror_mode": {
    "name": "ipython",
    "version": 3
   },
   "file_extension": ".py",
   "mimetype": "text/x-python",
   "name": "python",
   "nbconvert_exporter": "python",
   "pygments_lexer": "ipython3",
   "version": "3.6.4"
  }
 },
 "nbformat": 4,
 "nbformat_minor": 2
}
